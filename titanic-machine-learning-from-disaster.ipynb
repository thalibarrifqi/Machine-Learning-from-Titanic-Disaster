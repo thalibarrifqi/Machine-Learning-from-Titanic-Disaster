{
 "cells": [
  {
   "cell_type": "code",
   "execution_count": 1,
   "id": "53e098e1",
   "metadata": {
    "_cell_guid": "b1076dfc-b9ad-4769-8c92-a6c4dae69d19",
    "_uuid": "8f2839f25d086af736a60e9eeb907d3b93b6e0e5",
    "execution": {
     "iopub.execute_input": "2021-10-18T04:48:17.942079Z",
     "iopub.status.busy": "2021-10-18T04:48:17.941251Z",
     "iopub.status.idle": "2021-10-18T04:48:17.960232Z",
     "shell.execute_reply": "2021-10-18T04:48:17.960746Z",
     "shell.execute_reply.started": "2021-10-18T04:23:27.484406Z"
    },
    "papermill": {
     "duration": 0.081169,
     "end_time": "2021-10-18T04:48:17.961091",
     "exception": false,
     "start_time": "2021-10-18T04:48:17.879922",
     "status": "completed"
    },
    "tags": []
   },
   "outputs": [
    {
     "name": "stdout",
     "output_type": "stream",
     "text": [
      "/kaggle/input/titanic-tutorial/__results__.html\n",
      "/kaggle/input/titanic-tutorial/submission.csv\n",
      "/kaggle/input/titanic-tutorial/__resultx__.html\n",
      "/kaggle/input/titanic-tutorial/__notebook__.ipynb\n",
      "/kaggle/input/titanic-tutorial/__output__.json\n",
      "/kaggle/input/titanic-tutorial/custom.css\n",
      "/kaggle/input/titanic/train.csv\n",
      "/kaggle/input/titanic/test.csv\n",
      "/kaggle/input/titanic/gender_submission.csv\n"
     ]
    }
   ],
   "source": [
    "# This Python 3 environment comes with many helpful analytics libraries installed\n",
    "# It is defined by the kaggle/python Docker image: https://github.com/kaggle/docker-python\n",
    "# For example, here's several helpful packages to load\n",
    "\n",
    "import numpy as np # linear algebra\n",
    "import pandas as pd # data processing, CSV file I/O (e.g. pd.read_csv)\n",
    "\n",
    "# Input data files are available in the read-only \"../input/\" directory\n",
    "# For example, running this (by clicking run or pressing Shift+Enter) will list all files under the input directory\n",
    "\n",
    "import os\n",
    "for dirname, _, filenames in os.walk('/kaggle/input'):\n",
    "    for filename in filenames:\n",
    "        print(os.path.join(dirname, filename))\n",
    "\n",
    "# You can write up to 20GB to the current directory (/kaggle/working/) that gets preserved as output when you create a version using \"Save & Run All\" \n",
    "# You can also write temporary files to /kaggle/temp/, but they won't be saved outside of the current session"
   ]
  },
  {
   "cell_type": "code",
   "execution_count": 2,
   "id": "ba397a80",
   "metadata": {
    "execution": {
     "iopub.execute_input": "2021-10-18T04:48:18.063192Z",
     "iopub.status.busy": "2021-10-18T04:48:18.062271Z",
     "iopub.status.idle": "2021-10-18T04:48:19.082762Z",
     "shell.execute_reply": "2021-10-18T04:48:19.082171Z",
     "shell.execute_reply.started": "2021-10-18T04:23:27.499077Z"
    },
    "papermill": {
     "duration": 1.073024,
     "end_time": "2021-10-18T04:48:19.082906",
     "exception": false,
     "start_time": "2021-10-18T04:48:18.009882",
     "status": "completed"
    },
    "tags": []
   },
   "outputs": [],
   "source": [
    "import seaborn as sns"
   ]
  },
  {
   "cell_type": "code",
   "execution_count": 3,
   "id": "62a060f8",
   "metadata": {
    "execution": {
     "iopub.execute_input": "2021-10-18T04:48:19.182956Z",
     "iopub.status.busy": "2021-10-18T04:48:19.181919Z",
     "iopub.status.idle": "2021-10-18T04:48:19.184913Z",
     "shell.execute_reply": "2021-10-18T04:48:19.184384Z",
     "shell.execute_reply.started": "2021-10-18T04:23:27.850564Z"
    },
    "papermill": {
     "duration": 0.054521,
     "end_time": "2021-10-18T04:48:19.185093",
     "exception": false,
     "start_time": "2021-10-18T04:48:19.130572",
     "status": "completed"
    },
    "tags": []
   },
   "outputs": [],
   "source": [
    "import matplotlib.pyplot as plt"
   ]
  },
  {
   "cell_type": "code",
   "execution_count": 4,
   "id": "f7d022a0",
   "metadata": {
    "execution": {
     "iopub.execute_input": "2021-10-18T04:48:19.284955Z",
     "iopub.status.busy": "2021-10-18T04:48:19.283814Z",
     "iopub.status.idle": "2021-10-18T04:48:19.301987Z",
     "shell.execute_reply": "2021-10-18T04:48:19.302522Z",
     "shell.execute_reply.started": "2021-10-18T04:23:27.856590Z"
    },
    "papermill": {
     "duration": 0.070773,
     "end_time": "2021-10-18T04:48:19.302712",
     "exception": false,
     "start_time": "2021-10-18T04:48:19.231939",
     "status": "completed"
    },
    "tags": []
   },
   "outputs": [],
   "source": [
    "test_df = pd.read_csv('../input/titanic/test.csv')"
   ]
  },
  {
   "cell_type": "code",
   "execution_count": 5,
   "id": "d8c2b3c1",
   "metadata": {
    "execution": {
     "iopub.execute_input": "2021-10-18T04:48:19.472619Z",
     "iopub.status.busy": "2021-10-18T04:48:19.471520Z",
     "iopub.status.idle": "2021-10-18T04:48:19.489583Z",
     "shell.execute_reply": "2021-10-18T04:48:19.490138Z",
     "shell.execute_reply.started": "2021-10-18T04:23:27.877292Z"
    },
    "papermill": {
     "duration": 0.139322,
     "end_time": "2021-10-18T04:48:19.490319",
     "exception": false,
     "start_time": "2021-10-18T04:48:19.350997",
     "status": "completed"
    },
    "tags": []
   },
   "outputs": [
    {
     "data": {
      "text/html": [
       "<div>\n",
       "<style scoped>\n",
       "    .dataframe tbody tr th:only-of-type {\n",
       "        vertical-align: middle;\n",
       "    }\n",
       "\n",
       "    .dataframe tbody tr th {\n",
       "        vertical-align: top;\n",
       "    }\n",
       "\n",
       "    .dataframe thead th {\n",
       "        text-align: right;\n",
       "    }\n",
       "</style>\n",
       "<table border=\"1\" class=\"dataframe\">\n",
       "  <thead>\n",
       "    <tr style=\"text-align: right;\">\n",
       "      <th></th>\n",
       "      <th>PassengerId</th>\n",
       "      <th>Pclass</th>\n",
       "      <th>Name</th>\n",
       "      <th>Sex</th>\n",
       "      <th>Age</th>\n",
       "      <th>SibSp</th>\n",
       "      <th>Parch</th>\n",
       "      <th>Ticket</th>\n",
       "      <th>Fare</th>\n",
       "      <th>Cabin</th>\n",
       "      <th>Embarked</th>\n",
       "    </tr>\n",
       "  </thead>\n",
       "  <tbody>\n",
       "    <tr>\n",
       "      <th>0</th>\n",
       "      <td>892</td>\n",
       "      <td>3</td>\n",
       "      <td>Kelly, Mr. James</td>\n",
       "      <td>male</td>\n",
       "      <td>34.5</td>\n",
       "      <td>0</td>\n",
       "      <td>0</td>\n",
       "      <td>330911</td>\n",
       "      <td>7.8292</td>\n",
       "      <td>NaN</td>\n",
       "      <td>Q</td>\n",
       "    </tr>\n",
       "    <tr>\n",
       "      <th>1</th>\n",
       "      <td>893</td>\n",
       "      <td>3</td>\n",
       "      <td>Wilkes, Mrs. James (Ellen Needs)</td>\n",
       "      <td>female</td>\n",
       "      <td>47.0</td>\n",
       "      <td>1</td>\n",
       "      <td>0</td>\n",
       "      <td>363272</td>\n",
       "      <td>7.0000</td>\n",
       "      <td>NaN</td>\n",
       "      <td>S</td>\n",
       "    </tr>\n",
       "    <tr>\n",
       "      <th>2</th>\n",
       "      <td>894</td>\n",
       "      <td>2</td>\n",
       "      <td>Myles, Mr. Thomas Francis</td>\n",
       "      <td>male</td>\n",
       "      <td>62.0</td>\n",
       "      <td>0</td>\n",
       "      <td>0</td>\n",
       "      <td>240276</td>\n",
       "      <td>9.6875</td>\n",
       "      <td>NaN</td>\n",
       "      <td>Q</td>\n",
       "    </tr>\n",
       "    <tr>\n",
       "      <th>3</th>\n",
       "      <td>895</td>\n",
       "      <td>3</td>\n",
       "      <td>Wirz, Mr. Albert</td>\n",
       "      <td>male</td>\n",
       "      <td>27.0</td>\n",
       "      <td>0</td>\n",
       "      <td>0</td>\n",
       "      <td>315154</td>\n",
       "      <td>8.6625</td>\n",
       "      <td>NaN</td>\n",
       "      <td>S</td>\n",
       "    </tr>\n",
       "    <tr>\n",
       "      <th>4</th>\n",
       "      <td>896</td>\n",
       "      <td>3</td>\n",
       "      <td>Hirvonen, Mrs. Alexander (Helga E Lindqvist)</td>\n",
       "      <td>female</td>\n",
       "      <td>22.0</td>\n",
       "      <td>1</td>\n",
       "      <td>1</td>\n",
       "      <td>3101298</td>\n",
       "      <td>12.2875</td>\n",
       "      <td>NaN</td>\n",
       "      <td>S</td>\n",
       "    </tr>\n",
       "  </tbody>\n",
       "</table>\n",
       "</div>"
      ],
      "text/plain": [
       "   PassengerId  Pclass                                          Name     Sex  \\\n",
       "0          892       3                              Kelly, Mr. James    male   \n",
       "1          893       3              Wilkes, Mrs. James (Ellen Needs)  female   \n",
       "2          894       2                     Myles, Mr. Thomas Francis    male   \n",
       "3          895       3                              Wirz, Mr. Albert    male   \n",
       "4          896       3  Hirvonen, Mrs. Alexander (Helga E Lindqvist)  female   \n",
       "\n",
       "    Age  SibSp  Parch   Ticket     Fare Cabin Embarked  \n",
       "0  34.5      0      0   330911   7.8292   NaN        Q  \n",
       "1  47.0      1      0   363272   7.0000   NaN        S  \n",
       "2  62.0      0      0   240276   9.6875   NaN        Q  \n",
       "3  27.0      0      0   315154   8.6625   NaN        S  \n",
       "4  22.0      1      1  3101298  12.2875   NaN        S  "
      ]
     },
     "execution_count": 5,
     "metadata": {},
     "output_type": "execute_result"
    }
   ],
   "source": [
    "test_df.head()"
   ]
  },
  {
   "cell_type": "code",
   "execution_count": 6,
   "id": "f46689af",
   "metadata": {
    "execution": {
     "iopub.execute_input": "2021-10-18T04:48:19.593468Z",
     "iopub.status.busy": "2021-10-18T04:48:19.592633Z",
     "iopub.status.idle": "2021-10-18T04:48:19.609537Z",
     "shell.execute_reply": "2021-10-18T04:48:19.608909Z",
     "shell.execute_reply.started": "2021-10-18T04:23:27.898036Z"
    },
    "papermill": {
     "duration": 0.070028,
     "end_time": "2021-10-18T04:48:19.609702",
     "exception": false,
     "start_time": "2021-10-18T04:48:19.539674",
     "status": "completed"
    },
    "tags": []
   },
   "outputs": [],
   "source": [
    "df = pd.read_csv('../input/titanic/train.csv')"
   ]
  },
  {
   "cell_type": "code",
   "execution_count": 7,
   "id": "692f11d1",
   "metadata": {
    "execution": {
     "iopub.execute_input": "2021-10-18T04:48:19.708829Z",
     "iopub.status.busy": "2021-10-18T04:48:19.708119Z",
     "iopub.status.idle": "2021-10-18T04:48:19.723745Z",
     "shell.execute_reply": "2021-10-18T04:48:19.724241Z",
     "shell.execute_reply.started": "2021-10-18T04:23:27.916697Z"
    },
    "papermill": {
     "duration": 0.066887,
     "end_time": "2021-10-18T04:48:19.724440",
     "exception": false,
     "start_time": "2021-10-18T04:48:19.657553",
     "status": "completed"
    },
    "tags": []
   },
   "outputs": [
    {
     "data": {
      "text/html": [
       "<div>\n",
       "<style scoped>\n",
       "    .dataframe tbody tr th:only-of-type {\n",
       "        vertical-align: middle;\n",
       "    }\n",
       "\n",
       "    .dataframe tbody tr th {\n",
       "        vertical-align: top;\n",
       "    }\n",
       "\n",
       "    .dataframe thead th {\n",
       "        text-align: right;\n",
       "    }\n",
       "</style>\n",
       "<table border=\"1\" class=\"dataframe\">\n",
       "  <thead>\n",
       "    <tr style=\"text-align: right;\">\n",
       "      <th></th>\n",
       "      <th>PassengerId</th>\n",
       "      <th>Survived</th>\n",
       "      <th>Pclass</th>\n",
       "      <th>Name</th>\n",
       "      <th>Sex</th>\n",
       "      <th>Age</th>\n",
       "      <th>SibSp</th>\n",
       "      <th>Parch</th>\n",
       "      <th>Ticket</th>\n",
       "      <th>Fare</th>\n",
       "      <th>Cabin</th>\n",
       "      <th>Embarked</th>\n",
       "    </tr>\n",
       "  </thead>\n",
       "  <tbody>\n",
       "    <tr>\n",
       "      <th>0</th>\n",
       "      <td>1</td>\n",
       "      <td>0</td>\n",
       "      <td>3</td>\n",
       "      <td>Braund, Mr. Owen Harris</td>\n",
       "      <td>male</td>\n",
       "      <td>22.0</td>\n",
       "      <td>1</td>\n",
       "      <td>0</td>\n",
       "      <td>A/5 21171</td>\n",
       "      <td>7.2500</td>\n",
       "      <td>NaN</td>\n",
       "      <td>S</td>\n",
       "    </tr>\n",
       "    <tr>\n",
       "      <th>1</th>\n",
       "      <td>2</td>\n",
       "      <td>1</td>\n",
       "      <td>1</td>\n",
       "      <td>Cumings, Mrs. John Bradley (Florence Briggs Th...</td>\n",
       "      <td>female</td>\n",
       "      <td>38.0</td>\n",
       "      <td>1</td>\n",
       "      <td>0</td>\n",
       "      <td>PC 17599</td>\n",
       "      <td>71.2833</td>\n",
       "      <td>C85</td>\n",
       "      <td>C</td>\n",
       "    </tr>\n",
       "    <tr>\n",
       "      <th>2</th>\n",
       "      <td>3</td>\n",
       "      <td>1</td>\n",
       "      <td>3</td>\n",
       "      <td>Heikkinen, Miss. Laina</td>\n",
       "      <td>female</td>\n",
       "      <td>26.0</td>\n",
       "      <td>0</td>\n",
       "      <td>0</td>\n",
       "      <td>STON/O2. 3101282</td>\n",
       "      <td>7.9250</td>\n",
       "      <td>NaN</td>\n",
       "      <td>S</td>\n",
       "    </tr>\n",
       "    <tr>\n",
       "      <th>3</th>\n",
       "      <td>4</td>\n",
       "      <td>1</td>\n",
       "      <td>1</td>\n",
       "      <td>Futrelle, Mrs. Jacques Heath (Lily May Peel)</td>\n",
       "      <td>female</td>\n",
       "      <td>35.0</td>\n",
       "      <td>1</td>\n",
       "      <td>0</td>\n",
       "      <td>113803</td>\n",
       "      <td>53.1000</td>\n",
       "      <td>C123</td>\n",
       "      <td>S</td>\n",
       "    </tr>\n",
       "    <tr>\n",
       "      <th>4</th>\n",
       "      <td>5</td>\n",
       "      <td>0</td>\n",
       "      <td>3</td>\n",
       "      <td>Allen, Mr. William Henry</td>\n",
       "      <td>male</td>\n",
       "      <td>35.0</td>\n",
       "      <td>0</td>\n",
       "      <td>0</td>\n",
       "      <td>373450</td>\n",
       "      <td>8.0500</td>\n",
       "      <td>NaN</td>\n",
       "      <td>S</td>\n",
       "    </tr>\n",
       "  </tbody>\n",
       "</table>\n",
       "</div>"
      ],
      "text/plain": [
       "   PassengerId  Survived  Pclass  \\\n",
       "0            1         0       3   \n",
       "1            2         1       1   \n",
       "2            3         1       3   \n",
       "3            4         1       1   \n",
       "4            5         0       3   \n",
       "\n",
       "                                                Name     Sex   Age  SibSp  \\\n",
       "0                            Braund, Mr. Owen Harris    male  22.0      1   \n",
       "1  Cumings, Mrs. John Bradley (Florence Briggs Th...  female  38.0      1   \n",
       "2                             Heikkinen, Miss. Laina  female  26.0      0   \n",
       "3       Futrelle, Mrs. Jacques Heath (Lily May Peel)  female  35.0      1   \n",
       "4                           Allen, Mr. William Henry    male  35.0      0   \n",
       "\n",
       "   Parch            Ticket     Fare Cabin Embarked  \n",
       "0      0         A/5 21171   7.2500   NaN        S  \n",
       "1      0          PC 17599  71.2833   C85        C  \n",
       "2      0  STON/O2. 3101282   7.9250   NaN        S  \n",
       "3      0            113803  53.1000  C123        S  \n",
       "4      0            373450   8.0500   NaN        S  "
      ]
     },
     "execution_count": 7,
     "metadata": {},
     "output_type": "execute_result"
    }
   ],
   "source": [
    "df.head()"
   ]
  },
  {
   "cell_type": "code",
   "execution_count": 8,
   "id": "e59ddf3e",
   "metadata": {
    "execution": {
     "iopub.execute_input": "2021-10-18T04:48:19.825728Z",
     "iopub.status.busy": "2021-10-18T04:48:19.825091Z",
     "iopub.status.idle": "2021-10-18T04:48:19.849501Z",
     "shell.execute_reply": "2021-10-18T04:48:19.850083Z",
     "shell.execute_reply.started": "2021-10-18T04:23:27.936082Z"
    },
    "papermill": {
     "duration": 0.076888,
     "end_time": "2021-10-18T04:48:19.850327",
     "exception": false,
     "start_time": "2021-10-18T04:48:19.773439",
     "status": "completed"
    },
    "tags": []
   },
   "outputs": [
    {
     "name": "stdout",
     "output_type": "stream",
     "text": [
      "<class 'pandas.core.frame.DataFrame'>\n",
      "RangeIndex: 891 entries, 0 to 890\n",
      "Data columns (total 12 columns):\n",
      " #   Column       Non-Null Count  Dtype  \n",
      "---  ------       --------------  -----  \n",
      " 0   PassengerId  891 non-null    int64  \n",
      " 1   Survived     891 non-null    int64  \n",
      " 2   Pclass       891 non-null    int64  \n",
      " 3   Name         891 non-null    object \n",
      " 4   Sex          891 non-null    object \n",
      " 5   Age          714 non-null    float64\n",
      " 6   SibSp        891 non-null    int64  \n",
      " 7   Parch        891 non-null    int64  \n",
      " 8   Ticket       891 non-null    object \n",
      " 9   Fare         891 non-null    float64\n",
      " 10  Cabin        204 non-null    object \n",
      " 11  Embarked     889 non-null    object \n",
      "dtypes: float64(2), int64(5), object(5)\n",
      "memory usage: 83.7+ KB\n"
     ]
    }
   ],
   "source": [
    "df.info()"
   ]
  },
  {
   "cell_type": "code",
   "execution_count": 9,
   "id": "5613be31",
   "metadata": {
    "execution": {
     "iopub.execute_input": "2021-10-18T04:48:19.954447Z",
     "iopub.status.busy": "2021-10-18T04:48:19.953750Z",
     "iopub.status.idle": "2021-10-18T04:48:19.985830Z",
     "shell.execute_reply": "2021-10-18T04:48:19.985193Z",
     "shell.execute_reply.started": "2021-10-18T04:23:27.954972Z"
    },
    "papermill": {
     "duration": 0.085125,
     "end_time": "2021-10-18T04:48:19.985980",
     "exception": false,
     "start_time": "2021-10-18T04:48:19.900855",
     "status": "completed"
    },
    "tags": []
   },
   "outputs": [
    {
     "data": {
      "text/html": [
       "<div>\n",
       "<style scoped>\n",
       "    .dataframe tbody tr th:only-of-type {\n",
       "        vertical-align: middle;\n",
       "    }\n",
       "\n",
       "    .dataframe tbody tr th {\n",
       "        vertical-align: top;\n",
       "    }\n",
       "\n",
       "    .dataframe thead th {\n",
       "        text-align: right;\n",
       "    }\n",
       "</style>\n",
       "<table border=\"1\" class=\"dataframe\">\n",
       "  <thead>\n",
       "    <tr style=\"text-align: right;\">\n",
       "      <th></th>\n",
       "      <th>PassengerId</th>\n",
       "      <th>Survived</th>\n",
       "      <th>Pclass</th>\n",
       "      <th>Age</th>\n",
       "      <th>SibSp</th>\n",
       "      <th>Parch</th>\n",
       "      <th>Fare</th>\n",
       "    </tr>\n",
       "  </thead>\n",
       "  <tbody>\n",
       "    <tr>\n",
       "      <th>count</th>\n",
       "      <td>891.000000</td>\n",
       "      <td>891.000000</td>\n",
       "      <td>891.000000</td>\n",
       "      <td>714.000000</td>\n",
       "      <td>891.000000</td>\n",
       "      <td>891.000000</td>\n",
       "      <td>891.000000</td>\n",
       "    </tr>\n",
       "    <tr>\n",
       "      <th>mean</th>\n",
       "      <td>446.000000</td>\n",
       "      <td>0.383838</td>\n",
       "      <td>2.308642</td>\n",
       "      <td>29.699118</td>\n",
       "      <td>0.523008</td>\n",
       "      <td>0.381594</td>\n",
       "      <td>32.204208</td>\n",
       "    </tr>\n",
       "    <tr>\n",
       "      <th>std</th>\n",
       "      <td>257.353842</td>\n",
       "      <td>0.486592</td>\n",
       "      <td>0.836071</td>\n",
       "      <td>14.526497</td>\n",
       "      <td>1.102743</td>\n",
       "      <td>0.806057</td>\n",
       "      <td>49.693429</td>\n",
       "    </tr>\n",
       "    <tr>\n",
       "      <th>min</th>\n",
       "      <td>1.000000</td>\n",
       "      <td>0.000000</td>\n",
       "      <td>1.000000</td>\n",
       "      <td>0.420000</td>\n",
       "      <td>0.000000</td>\n",
       "      <td>0.000000</td>\n",
       "      <td>0.000000</td>\n",
       "    </tr>\n",
       "    <tr>\n",
       "      <th>25%</th>\n",
       "      <td>223.500000</td>\n",
       "      <td>0.000000</td>\n",
       "      <td>2.000000</td>\n",
       "      <td>20.125000</td>\n",
       "      <td>0.000000</td>\n",
       "      <td>0.000000</td>\n",
       "      <td>7.910400</td>\n",
       "    </tr>\n",
       "    <tr>\n",
       "      <th>50%</th>\n",
       "      <td>446.000000</td>\n",
       "      <td>0.000000</td>\n",
       "      <td>3.000000</td>\n",
       "      <td>28.000000</td>\n",
       "      <td>0.000000</td>\n",
       "      <td>0.000000</td>\n",
       "      <td>14.454200</td>\n",
       "    </tr>\n",
       "    <tr>\n",
       "      <th>75%</th>\n",
       "      <td>668.500000</td>\n",
       "      <td>1.000000</td>\n",
       "      <td>3.000000</td>\n",
       "      <td>38.000000</td>\n",
       "      <td>1.000000</td>\n",
       "      <td>0.000000</td>\n",
       "      <td>31.000000</td>\n",
       "    </tr>\n",
       "    <tr>\n",
       "      <th>max</th>\n",
       "      <td>891.000000</td>\n",
       "      <td>1.000000</td>\n",
       "      <td>3.000000</td>\n",
       "      <td>80.000000</td>\n",
       "      <td>8.000000</td>\n",
       "      <td>6.000000</td>\n",
       "      <td>512.329200</td>\n",
       "    </tr>\n",
       "  </tbody>\n",
       "</table>\n",
       "</div>"
      ],
      "text/plain": [
       "       PassengerId    Survived      Pclass         Age       SibSp  \\\n",
       "count   891.000000  891.000000  891.000000  714.000000  891.000000   \n",
       "mean    446.000000    0.383838    2.308642   29.699118    0.523008   \n",
       "std     257.353842    0.486592    0.836071   14.526497    1.102743   \n",
       "min       1.000000    0.000000    1.000000    0.420000    0.000000   \n",
       "25%     223.500000    0.000000    2.000000   20.125000    0.000000   \n",
       "50%     446.000000    0.000000    3.000000   28.000000    0.000000   \n",
       "75%     668.500000    1.000000    3.000000   38.000000    1.000000   \n",
       "max     891.000000    1.000000    3.000000   80.000000    8.000000   \n",
       "\n",
       "            Parch        Fare  \n",
       "count  891.000000  891.000000  \n",
       "mean     0.381594   32.204208  \n",
       "std      0.806057   49.693429  \n",
       "min      0.000000    0.000000  \n",
       "25%      0.000000    7.910400  \n",
       "50%      0.000000   14.454200  \n",
       "75%      0.000000   31.000000  \n",
       "max      6.000000  512.329200  "
      ]
     },
     "execution_count": 9,
     "metadata": {},
     "output_type": "execute_result"
    }
   ],
   "source": [
    "df.describe()"
   ]
  },
  {
   "cell_type": "markdown",
   "id": "4548e9c1",
   "metadata": {
    "papermill": {
     "duration": 0.049122,
     "end_time": "2021-10-18T04:48:20.084532",
     "exception": false,
     "start_time": "2021-10-18T04:48:20.035410",
     "status": "completed"
    },
    "tags": []
   },
   "source": [
    "# **Exploratory Data Analysis**"
   ]
  },
  {
   "cell_type": "code",
   "execution_count": 10,
   "id": "176f21fa",
   "metadata": {
    "execution": {
     "iopub.execute_input": "2021-10-18T04:48:20.189917Z",
     "iopub.status.busy": "2021-10-18T04:48:20.188859Z",
     "iopub.status.idle": "2021-10-18T04:48:20.863165Z",
     "shell.execute_reply": "2021-10-18T04:48:20.863642Z",
     "shell.execute_reply.started": "2021-10-18T04:23:27.985762Z"
    },
    "papermill": {
     "duration": 0.729473,
     "end_time": "2021-10-18T04:48:20.863824",
     "exception": false,
     "start_time": "2021-10-18T04:48:20.134351",
     "status": "completed"
    },
    "tags": []
   },
   "outputs": [
    {
     "data": {
      "text/plain": [
       "<AxesSubplot:>"
      ]
     },
     "execution_count": 10,
     "metadata": {},
     "output_type": "execute_result"
    },
    {
     "data": {
      "image/png": "[encoded data removed]",
      "text/plain": [
       "<Figure size 864x432 with 2 Axes>"
      ]
     },
     "metadata": {
      "needs_background": "light"
     },
     "output_type": "display_data"
    }
   ],
   "source": [
    "plt.figure(figsize=(12,6))\n",
    "sns.heatmap(df.isnull())"
   ]
  },
  {
   "cell_type": "code",
   "execution_count": 11,
   "id": "bca38211",
   "metadata": {
    "execution": {
     "iopub.execute_input": "2021-10-18T04:48:20.971231Z",
     "iopub.status.busy": "2021-10-18T04:48:20.970478Z",
     "iopub.status.idle": "2021-10-18T04:48:21.167879Z",
     "shell.execute_reply": "2021-10-18T04:48:21.167298Z",
     "shell.execute_reply.started": "2021-10-18T04:23:28.659983Z"
    },
    "papermill": {
     "duration": 0.253659,
     "end_time": "2021-10-18T04:48:21.168039",
     "exception": false,
     "start_time": "2021-10-18T04:48:20.914380",
     "status": "completed"
    },
    "tags": []
   },
   "outputs": [
    {
     "data": {
      "text/plain": [
       "<AxesSubplot:xlabel='Survived', ylabel='count'>"
      ]
     },
     "execution_count": 11,
     "metadata": {},
     "output_type": "execute_result"
    },
    {
     "data": {
      "image/png": "[encoded data removed]",
      "text/plain": [
       "<Figure size 432x288 with 1 Axes>"
      ]
     },
     "metadata": {},
     "output_type": "display_data"
    }
   ],
   "source": [
    "sns.set_style('whitegrid')\n",
    "sns.countplot(data=df, x='Survived', hue='Sex')"
   ]
  },
  {
   "cell_type": "code",
   "execution_count": 12,
   "id": "f1f0411f",
   "metadata": {
    "execution": {
     "iopub.execute_input": "2021-10-18T04:48:21.278840Z",
     "iopub.status.busy": "2021-10-18T04:48:21.277924Z",
     "iopub.status.idle": "2021-10-18T04:48:21.489022Z",
     "shell.execute_reply": "2021-10-18T04:48:21.488334Z",
     "shell.execute_reply.started": "2021-10-18T04:23:28.891334Z"
    },
    "papermill": {
     "duration": 0.268697,
     "end_time": "2021-10-18T04:48:21.489190",
     "exception": false,
     "start_time": "2021-10-18T04:48:21.220493",
     "status": "completed"
    },
    "tags": []
   },
   "outputs": [
    {
     "data": {
      "text/plain": [
       "<AxesSubplot:xlabel='Survived', ylabel='count'>"
      ]
     },
     "execution_count": 12,
     "metadata": {},
     "output_type": "execute_result"
    },
    {
     "data": {
      "image/png": "[encoded data removed]",
      "text/plain": [
       "<Figure size 432x288 with 1 Axes>"
      ]
     },
     "metadata": {},
     "output_type": "display_data"
    }
   ],
   "source": [
    "sns.countplot(data=df, x='Survived', hue='Pclass')"
   ]
  },
  {
   "cell_type": "code",
   "execution_count": 13,
   "id": "575a54d3",
   "metadata": {
    "execution": {
     "iopub.execute_input": "2021-10-18T04:48:21.606816Z",
     "iopub.status.busy": "2021-10-18T04:48:21.600644Z",
     "iopub.status.idle": "2021-10-18T04:48:22.083587Z",
     "shell.execute_reply": "2021-10-18T04:48:22.082957Z",
     "shell.execute_reply.started": "2021-10-18T04:23:29.151616Z"
    },
    "papermill": {
     "duration": 0.540596,
     "end_time": "2021-10-18T04:48:22.083743",
     "exception": false,
     "start_time": "2021-10-18T04:48:21.543147",
     "status": "completed"
    },
    "tags": []
   },
   "outputs": [
    {
     "data": {
      "text/plain": [
       "<seaborn.axisgrid.FacetGrid at 0x7f264f4bdad0>"
      ]
     },
     "execution_count": 13,
     "metadata": {},
     "output_type": "execute_result"
    },
    {
     "data": {
      "image/png": "[encoded data removed]",
      "text/plain": [
       "<Figure size 360x360 with 1 Axes>"
      ]
     },
     "metadata": {},
     "output_type": "display_data"
    }
   ],
   "source": [
    "sns.displot(df['Age'].dropna(), kde=False, bins=35)"
   ]
  },
  {
   "cell_type": "code",
   "execution_count": 14,
   "id": "5ceff62c",
   "metadata": {
    "execution": {
     "iopub.execute_input": "2021-10-18T04:48:22.226120Z",
     "iopub.status.busy": "2021-10-18T04:48:22.197900Z",
     "iopub.status.idle": "2021-10-18T04:48:22.418193Z",
     "shell.execute_reply": "2021-10-18T04:48:22.417636Z",
     "shell.execute_reply.started": "2021-10-18T04:23:29.698082Z"
    },
    "papermill": {
     "duration": 0.280168,
     "end_time": "2021-10-18T04:48:22.418342",
     "exception": false,
     "start_time": "2021-10-18T04:48:22.138174",
     "status": "completed"
    },
    "tags": []
   },
   "outputs": [
    {
     "data": {
      "text/plain": [
       "<AxesSubplot:xlabel='SibSp', ylabel='count'>"
      ]
     },
     "execution_count": 14,
     "metadata": {},
     "output_type": "execute_result"
    },
    {
     "data": {
      "image/png": "[encoded data removed]",
      "text/plain": [
       "<Figure size 432x288 with 1 Axes>"
      ]
     },
     "metadata": {},
     "output_type": "display_data"
    }
   ],
   "source": [
    "sns.countplot(data=df, x='SibSp')"
   ]
  },
  {
   "cell_type": "code",
   "execution_count": 15,
   "id": "291b2ab3",
   "metadata": {
    "execution": {
     "iopub.execute_input": "2021-10-18T04:48:22.567917Z",
     "iopub.status.busy": "2021-10-18T04:48:22.535796Z",
     "iopub.status.idle": "2021-10-18T04:48:22.758966Z",
     "shell.execute_reply": "2021-10-18T04:48:22.758011Z",
     "shell.execute_reply.started": "2021-10-18T04:23:29.971338Z"
    },
    "papermill": {
     "duration": 0.284966,
     "end_time": "2021-10-18T04:48:22.759140",
     "exception": false,
     "start_time": "2021-10-18T04:48:22.474174",
     "status": "completed"
    },
    "tags": []
   },
   "outputs": [
    {
     "data": {
      "text/plain": [
       "<AxesSubplot:xlabel='Pclass', ylabel='Age'>"
      ]
     },
     "execution_count": 15,
     "metadata": {},
     "output_type": "execute_result"
    },
    {
     "data": {
      "image/png": "[encoded data removed]",
      "text/plain": [
       "<Figure size 432x288 with 1 Axes>"
      ]
     },
     "metadata": {},
     "output_type": "display_data"
    }
   ],
   "source": [
    "sns.boxplot(data=df, x='Pclass', y='Age')"
   ]
  },
  {
   "cell_type": "markdown",
   "id": "d46496a7",
   "metadata": {
    "papermill": {
     "duration": 0.05898,
     "end_time": "2021-10-18T04:48:22.875242",
     "exception": false,
     "start_time": "2021-10-18T04:48:22.816262",
     "status": "completed"
    },
    "tags": []
   },
   "source": [
    "# **Cleaning the data**"
   ]
  },
  {
   "cell_type": "markdown",
   "id": "6f8c005b",
   "metadata": {
    "papermill": {
     "duration": 0.059104,
     "end_time": "2021-10-18T04:48:22.990974",
     "exception": false,
     "start_time": "2021-10-18T04:48:22.931870",
     "status": "completed"
    },
    "tags": []
   },
   "source": [
    "Fill the null values in Age column"
   ]
  },
  {
   "cell_type": "code",
   "execution_count": 16,
   "id": "c4d50bf6",
   "metadata": {
    "execution": {
     "iopub.execute_input": "2021-10-18T04:48:23.110601Z",
     "iopub.status.busy": "2021-10-18T04:48:23.109820Z",
     "iopub.status.idle": "2021-10-18T04:48:23.120951Z",
     "shell.execute_reply": "2021-10-18T04:48:23.120401Z",
     "shell.execute_reply.started": "2021-10-18T04:23:30.229333Z"
    },
    "papermill": {
     "duration": 0.071756,
     "end_time": "2021-10-18T04:48:23.121134",
     "exception": false,
     "start_time": "2021-10-18T04:48:23.049378",
     "status": "completed"
    },
    "tags": []
   },
   "outputs": [
    {
     "data": {
      "text/plain": [
       "Pclass\n",
       "1    38.233441\n",
       "2    29.877630\n",
       "3    25.140620\n",
       "Name: Age, dtype: float64"
      ]
     },
     "execution_count": 16,
     "metadata": {},
     "output_type": "execute_result"
    }
   ],
   "source": [
    "age_by_class = df.groupby('Pclass')['Age'].mean()\n",
    "age_by_class"
   ]
  },
  {
   "cell_type": "code",
   "execution_count": 17,
   "id": "e8ebf818",
   "metadata": {
    "execution": {
     "iopub.execute_input": "2021-10-18T04:48:23.241138Z",
     "iopub.status.busy": "2021-10-18T04:48:23.240433Z",
     "iopub.status.idle": "2021-10-18T04:48:23.242289Z",
     "shell.execute_reply": "2021-10-18T04:48:23.242755Z",
     "shell.execute_reply.started": "2021-10-18T04:23:30.240607Z"
    },
    "papermill": {
     "duration": 0.065214,
     "end_time": "2021-10-18T04:48:23.242933",
     "exception": false,
     "start_time": "2021-10-18T04:48:23.177719",
     "status": "completed"
    },
    "tags": []
   },
   "outputs": [],
   "source": [
    "def fill_age(x):\n",
    "    Age = x[0]\n",
    "    Pclass = x[1]\n",
    "    if pd.isnull(Age):\n",
    "        if(Pclass==1):\n",
    "            return 38\n",
    "        elif(Pclass==2):\n",
    "            return 29\n",
    "        else:\n",
    "            return 25\n",
    "    return Age"
   ]
  },
  {
   "cell_type": "code",
   "execution_count": 18,
   "id": "33e6b9f0",
   "metadata": {
    "execution": {
     "iopub.execute_input": "2021-10-18T04:48:23.360735Z",
     "iopub.status.busy": "2021-10-18T04:48:23.360012Z",
     "iopub.status.idle": "2021-10-18T04:48:23.380881Z",
     "shell.execute_reply": "2021-10-18T04:48:23.381437Z",
     "shell.execute_reply.started": "2021-10-18T04:23:30.253370Z"
    },
    "papermill": {
     "duration": 0.081448,
     "end_time": "2021-10-18T04:48:23.381645",
     "exception": false,
     "start_time": "2021-10-18T04:48:23.300197",
     "status": "completed"
    },
    "tags": []
   },
   "outputs": [],
   "source": [
    "df['Age'] = df[['Age', 'Pclass']].apply(fill_age, axis=1)"
   ]
  },
  {
   "cell_type": "code",
   "execution_count": 19,
   "id": "d4ca8fb3",
   "metadata": {
    "execution": {
     "iopub.execute_input": "2021-10-18T04:48:23.498644Z",
     "iopub.status.busy": "2021-10-18T04:48:23.497867Z",
     "iopub.status.idle": "2021-10-18T04:48:24.071896Z",
     "shell.execute_reply": "2021-10-18T04:48:24.071161Z",
     "shell.execute_reply.started": "2021-10-18T04:23:30.281796Z"
    },
    "papermill": {
     "duration": 0.633464,
     "end_time": "2021-10-18T04:48:24.072114",
     "exception": false,
     "start_time": "2021-10-18T04:48:23.438650",
     "status": "completed"
    },
    "tags": []
   },
   "outputs": [
    {
     "data": {
      "text/plain": [
       "<AxesSubplot:>"
      ]
     },
     "execution_count": 19,
     "metadata": {},
     "output_type": "execute_result"
    },
    {
     "data": {
      "image/png": "[encoded data removed]",
      "text/plain": [
       "<Figure size 864x432 with 2 Axes>"
      ]
     },
     "metadata": {},
     "output_type": "display_data"
    }
   ],
   "source": [
    "plt.figure(figsize=(12,6))\n",
    "sns.heatmap(df.isnull())"
   ]
  },
  {
   "cell_type": "code",
   "execution_count": 20,
   "id": "4edf6ec5",
   "metadata": {
    "execution": {
     "iopub.execute_input": "2021-10-18T04:48:24.196875Z",
     "iopub.status.busy": "2021-10-18T04:48:24.196157Z",
     "iopub.status.idle": "2021-10-18T04:48:24.199080Z",
     "shell.execute_reply": "2021-10-18T04:48:24.198508Z",
     "shell.execute_reply.started": "2021-10-18T04:23:30.877689Z"
    },
    "papermill": {
     "duration": 0.066733,
     "end_time": "2021-10-18T04:48:24.199238",
     "exception": false,
     "start_time": "2021-10-18T04:48:24.132505",
     "status": "completed"
    },
    "tags": []
   },
   "outputs": [],
   "source": [
    "df = df.drop('Cabin', axis=1)"
   ]
  },
  {
   "cell_type": "code",
   "execution_count": 21,
   "id": "a1d87ab9",
   "metadata": {
    "execution": {
     "iopub.execute_input": "2021-10-18T04:48:24.332733Z",
     "iopub.status.busy": "2021-10-18T04:48:24.322010Z",
     "iopub.status.idle": "2021-10-18T04:48:24.865098Z",
     "shell.execute_reply": "2021-10-18T04:48:24.864350Z",
     "shell.execute_reply.started": "2021-10-18T04:23:30.886149Z"
    },
    "papermill": {
     "duration": 0.608411,
     "end_time": "2021-10-18T04:48:24.865252",
     "exception": false,
     "start_time": "2021-10-18T04:48:24.256841",
     "status": "completed"
    },
    "tags": []
   },
   "outputs": [
    {
     "data": {
      "text/plain": [
       "<AxesSubplot:>"
      ]
     },
     "execution_count": 21,
     "metadata": {},
     "output_type": "execute_result"
    },
    {
     "data": {
      "image/png": "[encoded data removed]",
      "text/plain": [
       "<Figure size 864x432 with 2 Axes>"
      ]
     },
     "metadata": {},
     "output_type": "display_data"
    }
   ],
   "source": [
    "plt.figure(figsize=(12,6))\n",
    "sns.heatmap(df.isnull())"
   ]
  },
  {
   "cell_type": "code",
   "execution_count": 22,
   "id": "1d137317",
   "metadata": {
    "execution": {
     "iopub.execute_input": "2021-10-18T04:48:24.994894Z",
     "iopub.status.busy": "2021-10-18T04:48:24.993864Z",
     "iopub.status.idle": "2021-10-18T04:48:25.002425Z",
     "shell.execute_reply": "2021-10-18T04:48:25.001831Z",
     "shell.execute_reply.started": "2021-10-18T04:23:31.473092Z"
    },
    "papermill": {
     "duration": 0.076413,
     "end_time": "2021-10-18T04:48:25.002597",
     "exception": false,
     "start_time": "2021-10-18T04:48:24.926184",
     "status": "completed"
    },
    "tags": []
   },
   "outputs": [],
   "source": [
    "df = df.dropna()"
   ]
  },
  {
   "cell_type": "code",
   "execution_count": 23,
   "id": "038beb5e",
   "metadata": {
    "execution": {
     "iopub.execute_input": "2021-10-18T04:48:25.125238Z",
     "iopub.status.busy": "2021-10-18T04:48:25.124217Z",
     "iopub.status.idle": "2021-10-18T04:48:25.804989Z",
     "shell.execute_reply": "2021-10-18T04:48:25.804427Z",
     "shell.execute_reply.started": "2021-10-18T04:23:31.482022Z"
    },
    "papermill": {
     "duration": 0.742795,
     "end_time": "2021-10-18T04:48:25.805157",
     "exception": false,
     "start_time": "2021-10-18T04:48:25.062362",
     "status": "completed"
    },
    "tags": []
   },
   "outputs": [
    {
     "data": {
      "text/plain": [
       "<AxesSubplot:>"
      ]
     },
     "execution_count": 23,
     "metadata": {},
     "output_type": "execute_result"
    },
    {
     "data": {
      "image/png": "[encoded data removed]",
      "text/plain": [
       "<Figure size 864x432 with 2 Axes>"
      ]
     },
     "metadata": {},
     "output_type": "display_data"
    }
   ],
   "source": [
    "plt.figure(figsize=(12,6))\n",
    "sns.heatmap(df.isnull())"
   ]
  },
  {
   "cell_type": "code",
   "execution_count": 24,
   "id": "77056575",
   "metadata": {
    "execution": {
     "iopub.execute_input": "2021-10-18T04:48:25.944762Z",
     "iopub.status.busy": "2021-10-18T04:48:25.943723Z",
     "iopub.status.idle": "2021-10-18T04:48:25.948085Z",
     "shell.execute_reply": "2021-10-18T04:48:25.947510Z",
     "shell.execute_reply.started": "2021-10-18T04:23:32.204360Z"
    },
    "papermill": {
     "duration": 0.082254,
     "end_time": "2021-10-18T04:48:25.948233",
     "exception": false,
     "start_time": "2021-10-18T04:48:25.865979",
     "status": "completed"
    },
    "tags": []
   },
   "outputs": [
    {
     "data": {
      "text/html": [
       "<div>\n",
       "<style scoped>\n",
       "    .dataframe tbody tr th:only-of-type {\n",
       "        vertical-align: middle;\n",
       "    }\n",
       "\n",
       "    .dataframe tbody tr th {\n",
       "        vertical-align: top;\n",
       "    }\n",
       "\n",
       "    .dataframe thead th {\n",
       "        text-align: right;\n",
       "    }\n",
       "</style>\n",
       "<table border=\"1\" class=\"dataframe\">\n",
       "  <thead>\n",
       "    <tr style=\"text-align: right;\">\n",
       "      <th></th>\n",
       "      <th>PassengerId</th>\n",
       "      <th>Survived</th>\n",
       "      <th>Pclass</th>\n",
       "      <th>Name</th>\n",
       "      <th>Sex</th>\n",
       "      <th>Age</th>\n",
       "      <th>SibSp</th>\n",
       "      <th>Parch</th>\n",
       "      <th>Ticket</th>\n",
       "      <th>Fare</th>\n",
       "      <th>Embarked</th>\n",
       "    </tr>\n",
       "  </thead>\n",
       "  <tbody>\n",
       "    <tr>\n",
       "      <th>0</th>\n",
       "      <td>1</td>\n",
       "      <td>0</td>\n",
       "      <td>3</td>\n",
       "      <td>Braund, Mr. Owen Harris</td>\n",
       "      <td>male</td>\n",
       "      <td>22.0</td>\n",
       "      <td>1</td>\n",
       "      <td>0</td>\n",
       "      <td>A/5 21171</td>\n",
       "      <td>7.2500</td>\n",
       "      <td>S</td>\n",
       "    </tr>\n",
       "    <tr>\n",
       "      <th>1</th>\n",
       "      <td>2</td>\n",
       "      <td>1</td>\n",
       "      <td>1</td>\n",
       "      <td>Cumings, Mrs. John Bradley (Florence Briggs Th...</td>\n",
       "      <td>female</td>\n",
       "      <td>38.0</td>\n",
       "      <td>1</td>\n",
       "      <td>0</td>\n",
       "      <td>PC 17599</td>\n",
       "      <td>71.2833</td>\n",
       "      <td>C</td>\n",
       "    </tr>\n",
       "    <tr>\n",
       "      <th>2</th>\n",
       "      <td>3</td>\n",
       "      <td>1</td>\n",
       "      <td>3</td>\n",
       "      <td>Heikkinen, Miss. Laina</td>\n",
       "      <td>female</td>\n",
       "      <td>26.0</td>\n",
       "      <td>0</td>\n",
       "      <td>0</td>\n",
       "      <td>STON/O2. 3101282</td>\n",
       "      <td>7.9250</td>\n",
       "      <td>S</td>\n",
       "    </tr>\n",
       "    <tr>\n",
       "      <th>3</th>\n",
       "      <td>4</td>\n",
       "      <td>1</td>\n",
       "      <td>1</td>\n",
       "      <td>Futrelle, Mrs. Jacques Heath (Lily May Peel)</td>\n",
       "      <td>female</td>\n",
       "      <td>35.0</td>\n",
       "      <td>1</td>\n",
       "      <td>0</td>\n",
       "      <td>113803</td>\n",
       "      <td>53.1000</td>\n",
       "      <td>S</td>\n",
       "    </tr>\n",
       "    <tr>\n",
       "      <th>4</th>\n",
       "      <td>5</td>\n",
       "      <td>0</td>\n",
       "      <td>3</td>\n",
       "      <td>Allen, Mr. William Henry</td>\n",
       "      <td>male</td>\n",
       "      <td>35.0</td>\n",
       "      <td>0</td>\n",
       "      <td>0</td>\n",
       "      <td>373450</td>\n",
       "      <td>8.0500</td>\n",
       "      <td>S</td>\n",
       "    </tr>\n",
       "  </tbody>\n",
       "</table>\n",
       "</div>"
      ],
      "text/plain": [
       "   PassengerId  Survived  Pclass  \\\n",
       "0            1         0       3   \n",
       "1            2         1       1   \n",
       "2            3         1       3   \n",
       "3            4         1       1   \n",
       "4            5         0       3   \n",
       "\n",
       "                                                Name     Sex   Age  SibSp  \\\n",
       "0                            Braund, Mr. Owen Harris    male  22.0      1   \n",
       "1  Cumings, Mrs. John Bradley (Florence Briggs Th...  female  38.0      1   \n",
       "2                             Heikkinen, Miss. Laina  female  26.0      0   \n",
       "3       Futrelle, Mrs. Jacques Heath (Lily May Peel)  female  35.0      1   \n",
       "4                           Allen, Mr. William Henry    male  35.0      0   \n",
       "\n",
       "   Parch            Ticket     Fare Embarked  \n",
       "0      0         A/5 21171   7.2500        S  \n",
       "1      0          PC 17599  71.2833        C  \n",
       "2      0  STON/O2. 3101282   7.9250        S  \n",
       "3      0            113803  53.1000        S  \n",
       "4      0            373450   8.0500        S  "
      ]
     },
     "execution_count": 24,
     "metadata": {},
     "output_type": "execute_result"
    }
   ],
   "source": [
    "df.head()"
   ]
  },
  {
   "cell_type": "code",
   "execution_count": 25,
   "id": "bbfd165a",
   "metadata": {
    "execution": {
     "iopub.execute_input": "2021-10-18T04:48:26.075569Z",
     "iopub.status.busy": "2021-10-18T04:48:26.074843Z",
     "iopub.status.idle": "2021-10-18T04:48:26.082560Z",
     "shell.execute_reply": "2021-10-18T04:48:26.081958Z",
     "shell.execute_reply.started": "2021-10-18T04:23:32.223297Z"
    },
    "papermill": {
     "duration": 0.071951,
     "end_time": "2021-10-18T04:48:26.082716",
     "exception": false,
     "start_time": "2021-10-18T04:48:26.010765",
     "status": "completed"
    },
    "tags": []
   },
   "outputs": [
    {
     "data": {
      "text/plain": [
       "S    644\n",
       "C    168\n",
       "Q     77\n",
       "Name: Embarked, dtype: int64"
      ]
     },
     "execution_count": 25,
     "metadata": {},
     "output_type": "execute_result"
    }
   ],
   "source": [
    "df['Embarked'].value_counts()"
   ]
  },
  {
   "cell_type": "code",
   "execution_count": 26,
   "id": "a270c82b",
   "metadata": {
    "execution": {
     "iopub.execute_input": "2021-10-18T04:48:26.214773Z",
     "iopub.status.busy": "2021-10-18T04:48:26.214020Z",
     "iopub.status.idle": "2021-10-18T04:48:26.217264Z",
     "shell.execute_reply": "2021-10-18T04:48:26.216638Z",
     "shell.execute_reply.started": "2021-10-18T04:23:32.237844Z"
    },
    "papermill": {
     "duration": 0.071276,
     "end_time": "2021-10-18T04:48:26.217413",
     "exception": false,
     "start_time": "2021-10-18T04:48:26.146137",
     "status": "completed"
    },
    "tags": []
   },
   "outputs": [],
   "source": [
    "embarked_dummies = pd.get_dummies(df['Embarked'], drop_first=True)"
   ]
  },
  {
   "cell_type": "code",
   "execution_count": 27,
   "id": "dddc4d0f",
   "metadata": {
    "execution": {
     "iopub.execute_input": "2021-10-18T04:48:26.344110Z",
     "iopub.status.busy": "2021-10-18T04:48:26.343430Z",
     "iopub.status.idle": "2021-10-18T04:48:26.353836Z",
     "shell.execute_reply": "2021-10-18T04:48:26.354475Z",
     "shell.execute_reply.started": "2021-10-18T04:23:32.247635Z"
    },
    "papermill": {
     "duration": 0.075475,
     "end_time": "2021-10-18T04:48:26.354655",
     "exception": false,
     "start_time": "2021-10-18T04:48:26.279180",
     "status": "completed"
    },
    "tags": []
   },
   "outputs": [
    {
     "data": {
      "text/html": [
       "<div>\n",
       "<style scoped>\n",
       "    .dataframe tbody tr th:only-of-type {\n",
       "        vertical-align: middle;\n",
       "    }\n",
       "\n",
       "    .dataframe tbody tr th {\n",
       "        vertical-align: top;\n",
       "    }\n",
       "\n",
       "    .dataframe thead th {\n",
       "        text-align: right;\n",
       "    }\n",
       "</style>\n",
       "<table border=\"1\" class=\"dataframe\">\n",
       "  <thead>\n",
       "    <tr style=\"text-align: right;\">\n",
       "      <th></th>\n",
       "      <th>Q</th>\n",
       "      <th>S</th>\n",
       "    </tr>\n",
       "  </thead>\n",
       "  <tbody>\n",
       "    <tr>\n",
       "      <th>0</th>\n",
       "      <td>0</td>\n",
       "      <td>1</td>\n",
       "    </tr>\n",
       "    <tr>\n",
       "      <th>1</th>\n",
       "      <td>0</td>\n",
       "      <td>0</td>\n",
       "    </tr>\n",
       "    <tr>\n",
       "      <th>2</th>\n",
       "      <td>0</td>\n",
       "      <td>1</td>\n",
       "    </tr>\n",
       "    <tr>\n",
       "      <th>3</th>\n",
       "      <td>0</td>\n",
       "      <td>1</td>\n",
       "    </tr>\n",
       "    <tr>\n",
       "      <th>4</th>\n",
       "      <td>0</td>\n",
       "      <td>1</td>\n",
       "    </tr>\n",
       "    <tr>\n",
       "      <th>...</th>\n",
       "      <td>...</td>\n",
       "      <td>...</td>\n",
       "    </tr>\n",
       "    <tr>\n",
       "      <th>886</th>\n",
       "      <td>0</td>\n",
       "      <td>1</td>\n",
       "    </tr>\n",
       "    <tr>\n",
       "      <th>887</th>\n",
       "      <td>0</td>\n",
       "      <td>1</td>\n",
       "    </tr>\n",
       "    <tr>\n",
       "      <th>888</th>\n",
       "      <td>0</td>\n",
       "      <td>1</td>\n",
       "    </tr>\n",
       "    <tr>\n",
       "      <th>889</th>\n",
       "      <td>0</td>\n",
       "      <td>0</td>\n",
       "    </tr>\n",
       "    <tr>\n",
       "      <th>890</th>\n",
       "      <td>1</td>\n",
       "      <td>0</td>\n",
       "    </tr>\n",
       "  </tbody>\n",
       "</table>\n",
       "<p>889 rows × 2 columns</p>\n",
       "</div>"
      ],
      "text/plain": [
       "     Q  S\n",
       "0    0  1\n",
       "1    0  0\n",
       "2    0  1\n",
       "3    0  1\n",
       "4    0  1\n",
       "..  .. ..\n",
       "886  0  1\n",
       "887  0  1\n",
       "888  0  1\n",
       "889  0  0\n",
       "890  1  0\n",
       "\n",
       "[889 rows x 2 columns]"
      ]
     },
     "execution_count": 27,
     "metadata": {},
     "output_type": "execute_result"
    }
   ],
   "source": [
    "embarked_dummies"
   ]
  },
  {
   "cell_type": "code",
   "execution_count": 28,
   "id": "dd2c1ae9",
   "metadata": {
    "execution": {
     "iopub.execute_input": "2021-10-18T04:48:26.483426Z",
     "iopub.status.busy": "2021-10-18T04:48:26.482728Z",
     "iopub.status.idle": "2021-10-18T04:48:26.487573Z",
     "shell.execute_reply": "2021-10-18T04:48:26.488231Z",
     "shell.execute_reply.started": "2021-10-18T04:23:32.266335Z"
    },
    "papermill": {
     "duration": 0.070426,
     "end_time": "2021-10-18T04:48:26.488411",
     "exception": false,
     "start_time": "2021-10-18T04:48:26.417985",
     "status": "completed"
    },
    "tags": []
   },
   "outputs": [],
   "source": [
    "sex_dummies = pd.get_dummies(df['Sex'], drop_first=True)"
   ]
  },
  {
   "cell_type": "code",
   "execution_count": 29,
   "id": "a9f7f5e4",
   "metadata": {
    "execution": {
     "iopub.execute_input": "2021-10-18T04:48:26.615081Z",
     "iopub.status.busy": "2021-10-18T04:48:26.614394Z",
     "iopub.status.idle": "2021-10-18T04:48:26.623404Z",
     "shell.execute_reply": "2021-10-18T04:48:26.624018Z",
     "shell.execute_reply.started": "2021-10-18T04:23:32.277816Z"
    },
    "papermill": {
     "duration": 0.074091,
     "end_time": "2021-10-18T04:48:26.624224",
     "exception": false,
     "start_time": "2021-10-18T04:48:26.550133",
     "status": "completed"
    },
    "tags": []
   },
   "outputs": [
    {
     "data": {
      "text/html": [
       "<div>\n",
       "<style scoped>\n",
       "    .dataframe tbody tr th:only-of-type {\n",
       "        vertical-align: middle;\n",
       "    }\n",
       "\n",
       "    .dataframe tbody tr th {\n",
       "        vertical-align: top;\n",
       "    }\n",
       "\n",
       "    .dataframe thead th {\n",
       "        text-align: right;\n",
       "    }\n",
       "</style>\n",
       "<table border=\"1\" class=\"dataframe\">\n",
       "  <thead>\n",
       "    <tr style=\"text-align: right;\">\n",
       "      <th></th>\n",
       "      <th>male</th>\n",
       "    </tr>\n",
       "  </thead>\n",
       "  <tbody>\n",
       "    <tr>\n",
       "      <th>0</th>\n",
       "      <td>1</td>\n",
       "    </tr>\n",
       "    <tr>\n",
       "      <th>1</th>\n",
       "      <td>0</td>\n",
       "    </tr>\n",
       "    <tr>\n",
       "      <th>2</th>\n",
       "      <td>0</td>\n",
       "    </tr>\n",
       "    <tr>\n",
       "      <th>3</th>\n",
       "      <td>0</td>\n",
       "    </tr>\n",
       "    <tr>\n",
       "      <th>4</th>\n",
       "      <td>1</td>\n",
       "    </tr>\n",
       "    <tr>\n",
       "      <th>...</th>\n",
       "      <td>...</td>\n",
       "    </tr>\n",
       "    <tr>\n",
       "      <th>886</th>\n",
       "      <td>1</td>\n",
       "    </tr>\n",
       "    <tr>\n",
       "      <th>887</th>\n",
       "      <td>0</td>\n",
       "    </tr>\n",
       "    <tr>\n",
       "      <th>888</th>\n",
       "      <td>0</td>\n",
       "    </tr>\n",
       "    <tr>\n",
       "      <th>889</th>\n",
       "      <td>1</td>\n",
       "    </tr>\n",
       "    <tr>\n",
       "      <th>890</th>\n",
       "      <td>1</td>\n",
       "    </tr>\n",
       "  </tbody>\n",
       "</table>\n",
       "<p>889 rows × 1 columns</p>\n",
       "</div>"
      ],
      "text/plain": [
       "     male\n",
       "0       1\n",
       "1       0\n",
       "2       0\n",
       "3       0\n",
       "4       1\n",
       "..    ...\n",
       "886     1\n",
       "887     0\n",
       "888     0\n",
       "889     1\n",
       "890     1\n",
       "\n",
       "[889 rows x 1 columns]"
      ]
     },
     "execution_count": 29,
     "metadata": {},
     "output_type": "execute_result"
    }
   ],
   "source": [
    "sex_dummies"
   ]
  },
  {
   "cell_type": "code",
   "execution_count": 30,
   "id": "6b726cbf",
   "metadata": {
    "execution": {
     "iopub.execute_input": "2021-10-18T04:48:26.752206Z",
     "iopub.status.busy": "2021-10-18T04:48:26.751383Z",
     "iopub.status.idle": "2021-10-18T04:48:26.758683Z",
     "shell.execute_reply": "2021-10-18T04:48:26.759255Z",
     "shell.execute_reply.started": "2021-10-18T04:23:32.294986Z"
    },
    "papermill": {
     "duration": 0.07303,
     "end_time": "2021-10-18T04:48:26.759435",
     "exception": false,
     "start_time": "2021-10-18T04:48:26.686405",
     "status": "completed"
    },
    "tags": []
   },
   "outputs": [],
   "source": [
    "df = pd.concat([df.drop(['Embarked','Sex'],axis=1),embarked_dummies, sex_dummies],axis=1)"
   ]
  },
  {
   "cell_type": "code",
   "execution_count": 31,
   "id": "8daf8810",
   "metadata": {
    "execution": {
     "iopub.execute_input": "2021-10-18T04:48:26.888898Z",
     "iopub.status.busy": "2021-10-18T04:48:26.888226Z",
     "iopub.status.idle": "2021-10-18T04:48:26.903171Z",
     "shell.execute_reply": "2021-10-18T04:48:26.903805Z",
     "shell.execute_reply.started": "2021-10-18T04:23:32.307754Z"
    },
    "papermill": {
     "duration": 0.08209,
     "end_time": "2021-10-18T04:48:26.904010",
     "exception": false,
     "start_time": "2021-10-18T04:48:26.821920",
     "status": "completed"
    },
    "tags": []
   },
   "outputs": [
    {
     "data": {
      "text/html": [
       "<div>\n",
       "<style scoped>\n",
       "    .dataframe tbody tr th:only-of-type {\n",
       "        vertical-align: middle;\n",
       "    }\n",
       "\n",
       "    .dataframe tbody tr th {\n",
       "        vertical-align: top;\n",
       "    }\n",
       "\n",
       "    .dataframe thead th {\n",
       "        text-align: right;\n",
       "    }\n",
       "</style>\n",
       "<table border=\"1\" class=\"dataframe\">\n",
       "  <thead>\n",
       "    <tr style=\"text-align: right;\">\n",
       "      <th></th>\n",
       "      <th>PassengerId</th>\n",
       "      <th>Survived</th>\n",
       "      <th>Pclass</th>\n",
       "      <th>Name</th>\n",
       "      <th>Age</th>\n",
       "      <th>SibSp</th>\n",
       "      <th>Parch</th>\n",
       "      <th>Ticket</th>\n",
       "      <th>Fare</th>\n",
       "      <th>Q</th>\n",
       "      <th>S</th>\n",
       "      <th>male</th>\n",
       "    </tr>\n",
       "  </thead>\n",
       "  <tbody>\n",
       "    <tr>\n",
       "      <th>0</th>\n",
       "      <td>1</td>\n",
       "      <td>0</td>\n",
       "      <td>3</td>\n",
       "      <td>Braund, Mr. Owen Harris</td>\n",
       "      <td>22.0</td>\n",
       "      <td>1</td>\n",
       "      <td>0</td>\n",
       "      <td>A/5 21171</td>\n",
       "      <td>7.2500</td>\n",
       "      <td>0</td>\n",
       "      <td>1</td>\n",
       "      <td>1</td>\n",
       "    </tr>\n",
       "    <tr>\n",
       "      <th>1</th>\n",
       "      <td>2</td>\n",
       "      <td>1</td>\n",
       "      <td>1</td>\n",
       "      <td>Cumings, Mrs. John Bradley (Florence Briggs Th...</td>\n",
       "      <td>38.0</td>\n",
       "      <td>1</td>\n",
       "      <td>0</td>\n",
       "      <td>PC 17599</td>\n",
       "      <td>71.2833</td>\n",
       "      <td>0</td>\n",
       "      <td>0</td>\n",
       "      <td>0</td>\n",
       "    </tr>\n",
       "    <tr>\n",
       "      <th>2</th>\n",
       "      <td>3</td>\n",
       "      <td>1</td>\n",
       "      <td>3</td>\n",
       "      <td>Heikkinen, Miss. Laina</td>\n",
       "      <td>26.0</td>\n",
       "      <td>0</td>\n",
       "      <td>0</td>\n",
       "      <td>STON/O2. 3101282</td>\n",
       "      <td>7.9250</td>\n",
       "      <td>0</td>\n",
       "      <td>1</td>\n",
       "      <td>0</td>\n",
       "    </tr>\n",
       "    <tr>\n",
       "      <th>3</th>\n",
       "      <td>4</td>\n",
       "      <td>1</td>\n",
       "      <td>1</td>\n",
       "      <td>Futrelle, Mrs. Jacques Heath (Lily May Peel)</td>\n",
       "      <td>35.0</td>\n",
       "      <td>1</td>\n",
       "      <td>0</td>\n",
       "      <td>113803</td>\n",
       "      <td>53.1000</td>\n",
       "      <td>0</td>\n",
       "      <td>1</td>\n",
       "      <td>0</td>\n",
       "    </tr>\n",
       "    <tr>\n",
       "      <th>4</th>\n",
       "      <td>5</td>\n",
       "      <td>0</td>\n",
       "      <td>3</td>\n",
       "      <td>Allen, Mr. William Henry</td>\n",
       "      <td>35.0</td>\n",
       "      <td>0</td>\n",
       "      <td>0</td>\n",
       "      <td>373450</td>\n",
       "      <td>8.0500</td>\n",
       "      <td>0</td>\n",
       "      <td>1</td>\n",
       "      <td>1</td>\n",
       "    </tr>\n",
       "  </tbody>\n",
       "</table>\n",
       "</div>"
      ],
      "text/plain": [
       "   PassengerId  Survived  Pclass  \\\n",
       "0            1         0       3   \n",
       "1            2         1       1   \n",
       "2            3         1       3   \n",
       "3            4         1       1   \n",
       "4            5         0       3   \n",
       "\n",
       "                                                Name   Age  SibSp  Parch  \\\n",
       "0                            Braund, Mr. Owen Harris  22.0      1      0   \n",
       "1  Cumings, Mrs. John Bradley (Florence Briggs Th...  38.0      1      0   \n",
       "2                             Heikkinen, Miss. Laina  26.0      0      0   \n",
       "3       Futrelle, Mrs. Jacques Heath (Lily May Peel)  35.0      1      0   \n",
       "4                           Allen, Mr. William Henry  35.0      0      0   \n",
       "\n",
       "             Ticket     Fare  Q  S  male  \n",
       "0         A/5 21171   7.2500  0  1     1  \n",
       "1          PC 17599  71.2833  0  0     0  \n",
       "2  STON/O2. 3101282   7.9250  0  1     0  \n",
       "3            113803  53.1000  0  1     0  \n",
       "4            373450   8.0500  0  1     1  "
      ]
     },
     "execution_count": 31,
     "metadata": {},
     "output_type": "execute_result"
    }
   ],
   "source": [
    "df.head()"
   ]
  },
  {
   "cell_type": "code",
   "execution_count": 32,
   "id": "8006f773",
   "metadata": {
    "execution": {
     "iopub.execute_input": "2021-10-18T04:48:27.047527Z",
     "iopub.status.busy": "2021-10-18T04:48:27.046767Z",
     "iopub.status.idle": "2021-10-18T04:48:27.052519Z",
     "shell.execute_reply": "2021-10-18T04:48:27.053114Z",
     "shell.execute_reply.started": "2021-10-18T04:23:32.332110Z"
    },
    "papermill": {
     "duration": 0.07246,
     "end_time": "2021-10-18T04:48:27.053300",
     "exception": false,
     "start_time": "2021-10-18T04:48:26.980840",
     "status": "completed"
    },
    "tags": []
   },
   "outputs": [],
   "source": [
    "df = df.drop(['Name', 'Ticket'], axis=1)"
   ]
  },
  {
   "cell_type": "code",
   "execution_count": 33,
   "id": "15861b04",
   "metadata": {
    "execution": {
     "iopub.execute_input": "2021-10-18T04:48:27.183969Z",
     "iopub.status.busy": "2021-10-18T04:48:27.183284Z",
     "iopub.status.idle": "2021-10-18T04:48:27.195800Z",
     "shell.execute_reply": "2021-10-18T04:48:27.196405Z",
     "shell.execute_reply.started": "2021-10-18T04:23:32.343685Z"
    },
    "papermill": {
     "duration": 0.079624,
     "end_time": "2021-10-18T04:48:27.196587",
     "exception": false,
     "start_time": "2021-10-18T04:48:27.116963",
     "status": "completed"
    },
    "tags": []
   },
   "outputs": [
    {
     "data": {
      "text/html": [
       "<div>\n",
       "<style scoped>\n",
       "    .dataframe tbody tr th:only-of-type {\n",
       "        vertical-align: middle;\n",
       "    }\n",
       "\n",
       "    .dataframe tbody tr th {\n",
       "        vertical-align: top;\n",
       "    }\n",
       "\n",
       "    .dataframe thead th {\n",
       "        text-align: right;\n",
       "    }\n",
       "</style>\n",
       "<table border=\"1\" class=\"dataframe\">\n",
       "  <thead>\n",
       "    <tr style=\"text-align: right;\">\n",
       "      <th></th>\n",
       "      <th>PassengerId</th>\n",
       "      <th>Survived</th>\n",
       "      <th>Pclass</th>\n",
       "      <th>Age</th>\n",
       "      <th>SibSp</th>\n",
       "      <th>Parch</th>\n",
       "      <th>Fare</th>\n",
       "      <th>Q</th>\n",
       "      <th>S</th>\n",
       "      <th>male</th>\n",
       "    </tr>\n",
       "  </thead>\n",
       "  <tbody>\n",
       "    <tr>\n",
       "      <th>0</th>\n",
       "      <td>1</td>\n",
       "      <td>0</td>\n",
       "      <td>3</td>\n",
       "      <td>22.0</td>\n",
       "      <td>1</td>\n",
       "      <td>0</td>\n",
       "      <td>7.2500</td>\n",
       "      <td>0</td>\n",
       "      <td>1</td>\n",
       "      <td>1</td>\n",
       "    </tr>\n",
       "    <tr>\n",
       "      <th>1</th>\n",
       "      <td>2</td>\n",
       "      <td>1</td>\n",
       "      <td>1</td>\n",
       "      <td>38.0</td>\n",
       "      <td>1</td>\n",
       "      <td>0</td>\n",
       "      <td>71.2833</td>\n",
       "      <td>0</td>\n",
       "      <td>0</td>\n",
       "      <td>0</td>\n",
       "    </tr>\n",
       "    <tr>\n",
       "      <th>2</th>\n",
       "      <td>3</td>\n",
       "      <td>1</td>\n",
       "      <td>3</td>\n",
       "      <td>26.0</td>\n",
       "      <td>0</td>\n",
       "      <td>0</td>\n",
       "      <td>7.9250</td>\n",
       "      <td>0</td>\n",
       "      <td>1</td>\n",
       "      <td>0</td>\n",
       "    </tr>\n",
       "    <tr>\n",
       "      <th>3</th>\n",
       "      <td>4</td>\n",
       "      <td>1</td>\n",
       "      <td>1</td>\n",
       "      <td>35.0</td>\n",
       "      <td>1</td>\n",
       "      <td>0</td>\n",
       "      <td>53.1000</td>\n",
       "      <td>0</td>\n",
       "      <td>1</td>\n",
       "      <td>0</td>\n",
       "    </tr>\n",
       "    <tr>\n",
       "      <th>4</th>\n",
       "      <td>5</td>\n",
       "      <td>0</td>\n",
       "      <td>3</td>\n",
       "      <td>35.0</td>\n",
       "      <td>0</td>\n",
       "      <td>0</td>\n",
       "      <td>8.0500</td>\n",
       "      <td>0</td>\n",
       "      <td>1</td>\n",
       "      <td>1</td>\n",
       "    </tr>\n",
       "  </tbody>\n",
       "</table>\n",
       "</div>"
      ],
      "text/plain": [
       "   PassengerId  Survived  Pclass   Age  SibSp  Parch     Fare  Q  S  male\n",
       "0            1         0       3  22.0      1      0   7.2500  0  1     1\n",
       "1            2         1       1  38.0      1      0  71.2833  0  0     0\n",
       "2            3         1       3  26.0      0      0   7.9250  0  1     0\n",
       "3            4         1       1  35.0      1      0  53.1000  0  1     0\n",
       "4            5         0       3  35.0      0      0   8.0500  0  1     1"
      ]
     },
     "execution_count": 33,
     "metadata": {},
     "output_type": "execute_result"
    }
   ],
   "source": [
    "df.head()"
   ]
  },
  {
   "cell_type": "markdown",
   "id": "ed954601",
   "metadata": {
    "papermill": {
     "duration": 0.063256,
     "end_time": "2021-10-18T04:48:27.323643",
     "exception": false,
     "start_time": "2021-10-18T04:48:27.260387",
     "status": "completed"
    },
    "tags": []
   },
   "source": [
    "# **Test Data**"
   ]
  },
  {
   "cell_type": "code",
   "execution_count": 34,
   "id": "ee465959",
   "metadata": {
    "execution": {
     "iopub.execute_input": "2021-10-18T04:48:27.457006Z",
     "iopub.status.busy": "2021-10-18T04:48:27.456263Z",
     "iopub.status.idle": "2021-10-18T04:48:27.470993Z",
     "shell.execute_reply": "2021-10-18T04:48:27.471516Z",
     "shell.execute_reply.started": "2021-10-18T04:23:32.364082Z"
    },
    "papermill": {
     "duration": 0.08448,
     "end_time": "2021-10-18T04:48:27.471710",
     "exception": false,
     "start_time": "2021-10-18T04:48:27.387230",
     "status": "completed"
    },
    "tags": []
   },
   "outputs": [
    {
     "data": {
      "text/html": [
       "<div>\n",
       "<style scoped>\n",
       "    .dataframe tbody tr th:only-of-type {\n",
       "        vertical-align: middle;\n",
       "    }\n",
       "\n",
       "    .dataframe tbody tr th {\n",
       "        vertical-align: top;\n",
       "    }\n",
       "\n",
       "    .dataframe thead th {\n",
       "        text-align: right;\n",
       "    }\n",
       "</style>\n",
       "<table border=\"1\" class=\"dataframe\">\n",
       "  <thead>\n",
       "    <tr style=\"text-align: right;\">\n",
       "      <th></th>\n",
       "      <th>PassengerId</th>\n",
       "      <th>Pclass</th>\n",
       "      <th>Name</th>\n",
       "      <th>Sex</th>\n",
       "      <th>Age</th>\n",
       "      <th>SibSp</th>\n",
       "      <th>Parch</th>\n",
       "      <th>Ticket</th>\n",
       "      <th>Fare</th>\n",
       "      <th>Cabin</th>\n",
       "      <th>Embarked</th>\n",
       "    </tr>\n",
       "  </thead>\n",
       "  <tbody>\n",
       "    <tr>\n",
       "      <th>0</th>\n",
       "      <td>892</td>\n",
       "      <td>3</td>\n",
       "      <td>Kelly, Mr. James</td>\n",
       "      <td>male</td>\n",
       "      <td>34.5</td>\n",
       "      <td>0</td>\n",
       "      <td>0</td>\n",
       "      <td>330911</td>\n",
       "      <td>7.8292</td>\n",
       "      <td>NaN</td>\n",
       "      <td>Q</td>\n",
       "    </tr>\n",
       "    <tr>\n",
       "      <th>1</th>\n",
       "      <td>893</td>\n",
       "      <td>3</td>\n",
       "      <td>Wilkes, Mrs. James (Ellen Needs)</td>\n",
       "      <td>female</td>\n",
       "      <td>47.0</td>\n",
       "      <td>1</td>\n",
       "      <td>0</td>\n",
       "      <td>363272</td>\n",
       "      <td>7.0000</td>\n",
       "      <td>NaN</td>\n",
       "      <td>S</td>\n",
       "    </tr>\n",
       "    <tr>\n",
       "      <th>2</th>\n",
       "      <td>894</td>\n",
       "      <td>2</td>\n",
       "      <td>Myles, Mr. Thomas Francis</td>\n",
       "      <td>male</td>\n",
       "      <td>62.0</td>\n",
       "      <td>0</td>\n",
       "      <td>0</td>\n",
       "      <td>240276</td>\n",
       "      <td>9.6875</td>\n",
       "      <td>NaN</td>\n",
       "      <td>Q</td>\n",
       "    </tr>\n",
       "    <tr>\n",
       "      <th>3</th>\n",
       "      <td>895</td>\n",
       "      <td>3</td>\n",
       "      <td>Wirz, Mr. Albert</td>\n",
       "      <td>male</td>\n",
       "      <td>27.0</td>\n",
       "      <td>0</td>\n",
       "      <td>0</td>\n",
       "      <td>315154</td>\n",
       "      <td>8.6625</td>\n",
       "      <td>NaN</td>\n",
       "      <td>S</td>\n",
       "    </tr>\n",
       "    <tr>\n",
       "      <th>4</th>\n",
       "      <td>896</td>\n",
       "      <td>3</td>\n",
       "      <td>Hirvonen, Mrs. Alexander (Helga E Lindqvist)</td>\n",
       "      <td>female</td>\n",
       "      <td>22.0</td>\n",
       "      <td>1</td>\n",
       "      <td>1</td>\n",
       "      <td>3101298</td>\n",
       "      <td>12.2875</td>\n",
       "      <td>NaN</td>\n",
       "      <td>S</td>\n",
       "    </tr>\n",
       "  </tbody>\n",
       "</table>\n",
       "</div>"
      ],
      "text/plain": [
       "   PassengerId  Pclass                                          Name     Sex  \\\n",
       "0          892       3                              Kelly, Mr. James    male   \n",
       "1          893       3              Wilkes, Mrs. James (Ellen Needs)  female   \n",
       "2          894       2                     Myles, Mr. Thomas Francis    male   \n",
       "3          895       3                              Wirz, Mr. Albert    male   \n",
       "4          896       3  Hirvonen, Mrs. Alexander (Helga E Lindqvist)  female   \n",
       "\n",
       "    Age  SibSp  Parch   Ticket     Fare Cabin Embarked  \n",
       "0  34.5      0      0   330911   7.8292   NaN        Q  \n",
       "1  47.0      1      0   363272   7.0000   NaN        S  \n",
       "2  62.0      0      0   240276   9.6875   NaN        Q  \n",
       "3  27.0      0      0   315154   8.6625   NaN        S  \n",
       "4  22.0      1      1  3101298  12.2875   NaN        S  "
      ]
     },
     "execution_count": 34,
     "metadata": {},
     "output_type": "execute_result"
    }
   ],
   "source": [
    "test_df.head()"
   ]
  },
  {
   "cell_type": "code",
   "execution_count": 35,
   "id": "f0c61597",
   "metadata": {
    "execution": {
     "iopub.execute_input": "2021-10-18T04:48:27.608499Z",
     "iopub.status.busy": "2021-10-18T04:48:27.606687Z",
     "iopub.status.idle": "2021-10-18T04:48:27.609289Z",
     "shell.execute_reply": "2021-10-18T04:48:27.609800Z",
     "shell.execute_reply.started": "2021-10-18T04:23:32.385390Z"
    },
    "papermill": {
     "duration": 0.073461,
     "end_time": "2021-10-18T04:48:27.610012",
     "exception": false,
     "start_time": "2021-10-18T04:48:27.536551",
     "status": "completed"
    },
    "tags": []
   },
   "outputs": [],
   "source": [
    "test_df = test_df.drop(['Name', 'Ticket', 'Cabin'], axis=1)"
   ]
  },
  {
   "cell_type": "code",
   "execution_count": 36,
   "id": "2fb1da67",
   "metadata": {
    "execution": {
     "iopub.execute_input": "2021-10-18T04:48:27.741293Z",
     "iopub.status.busy": "2021-10-18T04:48:27.740585Z",
     "iopub.status.idle": "2021-10-18T04:48:27.752697Z",
     "shell.execute_reply": "2021-10-18T04:48:27.753232Z",
     "shell.execute_reply.started": "2021-10-18T04:23:32.392778Z"
    },
    "papermill": {
     "duration": 0.078825,
     "end_time": "2021-10-18T04:48:27.753413",
     "exception": false,
     "start_time": "2021-10-18T04:48:27.674588",
     "status": "completed"
    },
    "tags": []
   },
   "outputs": [
    {
     "data": {
      "text/html": [
       "<div>\n",
       "<style scoped>\n",
       "    .dataframe tbody tr th:only-of-type {\n",
       "        vertical-align: middle;\n",
       "    }\n",
       "\n",
       "    .dataframe tbody tr th {\n",
       "        vertical-align: top;\n",
       "    }\n",
       "\n",
       "    .dataframe thead th {\n",
       "        text-align: right;\n",
       "    }\n",
       "</style>\n",
       "<table border=\"1\" class=\"dataframe\">\n",
       "  <thead>\n",
       "    <tr style=\"text-align: right;\">\n",
       "      <th></th>\n",
       "      <th>PassengerId</th>\n",
       "      <th>Pclass</th>\n",
       "      <th>Sex</th>\n",
       "      <th>Age</th>\n",
       "      <th>SibSp</th>\n",
       "      <th>Parch</th>\n",
       "      <th>Fare</th>\n",
       "      <th>Embarked</th>\n",
       "    </tr>\n",
       "  </thead>\n",
       "  <tbody>\n",
       "    <tr>\n",
       "      <th>0</th>\n",
       "      <td>892</td>\n",
       "      <td>3</td>\n",
       "      <td>male</td>\n",
       "      <td>34.5</td>\n",
       "      <td>0</td>\n",
       "      <td>0</td>\n",
       "      <td>7.8292</td>\n",
       "      <td>Q</td>\n",
       "    </tr>\n",
       "    <tr>\n",
       "      <th>1</th>\n",
       "      <td>893</td>\n",
       "      <td>3</td>\n",
       "      <td>female</td>\n",
       "      <td>47.0</td>\n",
       "      <td>1</td>\n",
       "      <td>0</td>\n",
       "      <td>7.0000</td>\n",
       "      <td>S</td>\n",
       "    </tr>\n",
       "    <tr>\n",
       "      <th>2</th>\n",
       "      <td>894</td>\n",
       "      <td>2</td>\n",
       "      <td>male</td>\n",
       "      <td>62.0</td>\n",
       "      <td>0</td>\n",
       "      <td>0</td>\n",
       "      <td>9.6875</td>\n",
       "      <td>Q</td>\n",
       "    </tr>\n",
       "    <tr>\n",
       "      <th>3</th>\n",
       "      <td>895</td>\n",
       "      <td>3</td>\n",
       "      <td>male</td>\n",
       "      <td>27.0</td>\n",
       "      <td>0</td>\n",
       "      <td>0</td>\n",
       "      <td>8.6625</td>\n",
       "      <td>S</td>\n",
       "    </tr>\n",
       "    <tr>\n",
       "      <th>4</th>\n",
       "      <td>896</td>\n",
       "      <td>3</td>\n",
       "      <td>female</td>\n",
       "      <td>22.0</td>\n",
       "      <td>1</td>\n",
       "      <td>1</td>\n",
       "      <td>12.2875</td>\n",
       "      <td>S</td>\n",
       "    </tr>\n",
       "  </tbody>\n",
       "</table>\n",
       "</div>"
      ],
      "text/plain": [
       "   PassengerId  Pclass     Sex   Age  SibSp  Parch     Fare Embarked\n",
       "0          892       3    male  34.5      0      0   7.8292        Q\n",
       "1          893       3  female  47.0      1      0   7.0000        S\n",
       "2          894       2    male  62.0      0      0   9.6875        Q\n",
       "3          895       3    male  27.0      0      0   8.6625        S\n",
       "4          896       3  female  22.0      1      1  12.2875        S"
      ]
     },
     "execution_count": 36,
     "metadata": {},
     "output_type": "execute_result"
    }
   ],
   "source": [
    "test_df.head()"
   ]
  },
  {
   "cell_type": "markdown",
   "id": "7ace823f",
   "metadata": {
    "papermill": {
     "duration": 0.064475,
     "end_time": "2021-10-18T04:48:27.882568",
     "exception": false,
     "start_time": "2021-10-18T04:48:27.818093",
     "status": "completed"
    },
    "tags": []
   },
   "source": [
    "**Cleaning data**"
   ]
  },
  {
   "cell_type": "code",
   "execution_count": 37,
   "id": "16929c97",
   "metadata": {
    "execution": {
     "iopub.execute_input": "2021-10-18T04:48:28.037566Z",
     "iopub.status.busy": "2021-10-18T04:48:28.036620Z",
     "iopub.status.idle": "2021-10-18T04:48:28.469830Z",
     "shell.execute_reply": "2021-10-18T04:48:28.469174Z",
     "shell.execute_reply.started": "2021-10-18T04:23:32.415031Z"
    },
    "papermill": {
     "duration": 0.519045,
     "end_time": "2021-10-18T04:48:28.470008",
     "exception": false,
     "start_time": "2021-10-18T04:48:27.950963",
     "status": "completed"
    },
    "tags": []
   },
   "outputs": [
    {
     "data": {
      "text/plain": [
       "<AxesSubplot:>"
      ]
     },
     "execution_count": 37,
     "metadata": {},
     "output_type": "execute_result"
    },
    {
     "data": {
      "image/png": "[encoded data removed]",
      "text/plain": [
       "<Figure size 432x288 with 2 Axes>"
      ]
     },
     "metadata": {},
     "output_type": "display_data"
    }
   ],
   "source": [
    "sns.heatmap(test_df.isnull())"
   ]
  },
  {
   "cell_type": "code",
   "execution_count": 38,
   "id": "048e636b",
   "metadata": {
    "execution": {
     "iopub.execute_input": "2021-10-18T04:48:28.616983Z",
     "iopub.status.busy": "2021-10-18T04:48:28.616035Z",
     "iopub.status.idle": "2021-10-18T04:48:28.618499Z",
     "shell.execute_reply": "2021-10-18T04:48:28.619024Z",
     "shell.execute_reply.started": "2021-10-18T04:23:32.878910Z"
    },
    "papermill": {
     "duration": 0.082962,
     "end_time": "2021-10-18T04:48:28.619216",
     "exception": false,
     "start_time": "2021-10-18T04:48:28.536254",
     "status": "completed"
    },
    "tags": []
   },
   "outputs": [],
   "source": [
    "test_df['Age'] = test_df[['Age', 'Pclass']].apply(fill_age, axis=1)"
   ]
  },
  {
   "cell_type": "code",
   "execution_count": 39,
   "id": "3bdbf453",
   "metadata": {
    "execution": {
     "iopub.execute_input": "2021-10-18T04:48:28.763575Z",
     "iopub.status.busy": "2021-10-18T04:48:28.756309Z",
     "iopub.status.idle": "2021-10-18T04:48:29.165498Z",
     "shell.execute_reply": "2021-10-18T04:48:29.166020Z",
     "shell.execute_reply.started": "2021-10-18T04:23:32.893945Z"
    },
    "papermill": {
     "duration": 0.480679,
     "end_time": "2021-10-18T04:48:29.166232",
     "exception": false,
     "start_time": "2021-10-18T04:48:28.685553",
     "status": "completed"
    },
    "tags": []
   },
   "outputs": [
    {
     "data": {
      "text/plain": [
       "<AxesSubplot:>"
      ]
     },
     "execution_count": 39,
     "metadata": {},
     "output_type": "execute_result"
    },
    {
     "data": {
      "image/png": "[encoded data removed]",
      "text/plain": [
       "<Figure size 432x288 with 2 Axes>"
      ]
     },
     "metadata": {},
     "output_type": "display_data"
    }
   ],
   "source": [
    "sns.heatmap(test_df.isnull())"
   ]
  },
  {
   "cell_type": "code",
   "execution_count": 40,
   "id": "c2f15ec2",
   "metadata": {
    "execution": {
     "iopub.execute_input": "2021-10-18T04:48:29.304746Z",
     "iopub.status.busy": "2021-10-18T04:48:29.304090Z",
     "iopub.status.idle": "2021-10-18T04:48:29.774129Z",
     "shell.execute_reply": "2021-10-18T04:48:29.774705Z",
     "shell.execute_reply.started": "2021-10-18T04:23:33.357372Z"
    },
    "papermill": {
     "duration": 0.541927,
     "end_time": "2021-10-18T04:48:29.774898",
     "exception": false,
     "start_time": "2021-10-18T04:48:29.232971",
     "status": "completed"
    },
    "tags": []
   },
   "outputs": [
    {
     "data": {
      "text/plain": [
       "<AxesSubplot:>"
      ]
     },
     "execution_count": 40,
     "metadata": {},
     "output_type": "execute_result"
    },
    {
     "data": {
      "image/png": "[encoded data removed]",
      "text/plain": [
       "<Figure size 432x288 with 2 Axes>"
      ]
     },
     "metadata": {},
     "output_type": "display_data"
    }
   ],
   "source": [
    "sns.heatmap(df.isnull())"
   ]
  },
  {
   "cell_type": "code",
   "execution_count": 41,
   "id": "59a7b402",
   "metadata": {
    "execution": {
     "iopub.execute_input": "2021-10-18T04:48:29.924552Z",
     "iopub.status.busy": "2021-10-18T04:48:29.923849Z",
     "iopub.status.idle": "2021-10-18T04:48:29.926763Z",
     "shell.execute_reply": "2021-10-18T04:48:29.926224Z",
     "shell.execute_reply.started": "2021-10-18T04:23:33.863729Z"
    },
    "papermill": {
     "duration": 0.082467,
     "end_time": "2021-10-18T04:48:29.926902",
     "exception": false,
     "start_time": "2021-10-18T04:48:29.844435",
     "status": "completed"
    },
    "tags": []
   },
   "outputs": [],
   "source": [
    "embarked_dummies_test = pd.get_dummies(test_df['Embarked'], drop_first=True)\n",
    "sex_dummies_test = pd.get_dummies(test_df['Sex'], drop_first=True)\n",
    "test_df = pd.concat([test_df.drop(['Embarked','Sex'],axis=1),embarked_dummies_test, sex_dummies_test],axis=1)"
   ]
  },
  {
   "cell_type": "markdown",
   "id": "b114ec11",
   "metadata": {
    "papermill": {
     "duration": 0.068858,
     "end_time": "2021-10-18T04:48:30.066338",
     "exception": false,
     "start_time": "2021-10-18T04:48:29.997480",
     "status": "completed"
    },
    "tags": []
   },
   "source": [
    "# **Modelling**"
   ]
  },
  {
   "cell_type": "code",
   "execution_count": 42,
   "id": "a7227e5a",
   "metadata": {
    "execution": {
     "iopub.execute_input": "2021-10-18T04:48:30.219443Z",
     "iopub.status.busy": "2021-10-18T04:48:30.218680Z",
     "iopub.status.idle": "2021-10-18T04:48:30.221650Z",
     "shell.execute_reply": "2021-10-18T04:48:30.222182Z",
     "shell.execute_reply.started": "2021-10-18T04:23:33.875511Z"
    },
    "papermill": {
     "duration": 0.086093,
     "end_time": "2021-10-18T04:48:30.222357",
     "exception": false,
     "start_time": "2021-10-18T04:48:30.136264",
     "status": "completed"
    },
    "tags": []
   },
   "outputs": [
    {
     "name": "stdout",
     "output_type": "stream",
     "text": [
      "<class 'pandas.core.frame.DataFrame'>\n",
      "Int64Index: 889 entries, 0 to 890\n",
      "Data columns (total 10 columns):\n",
      " #   Column       Non-Null Count  Dtype  \n",
      "---  ------       --------------  -----  \n",
      " 0   PassengerId  889 non-null    int64  \n",
      " 1   Survived     889 non-null    int64  \n",
      " 2   Pclass       889 non-null    int64  \n",
      " 3   Age          889 non-null    float64\n",
      " 4   SibSp        889 non-null    int64  \n",
      " 5   Parch        889 non-null    int64  \n",
      " 6   Fare         889 non-null    float64\n",
      " 7   Q            889 non-null    uint8  \n",
      " 8   S            889 non-null    uint8  \n",
      " 9   male         889 non-null    uint8  \n",
      "dtypes: float64(2), int64(5), uint8(3)\n",
      "memory usage: 58.2 KB\n"
     ]
    }
   ],
   "source": [
    "df.info()"
   ]
  },
  {
   "cell_type": "code",
   "execution_count": 43,
   "id": "88c6e864",
   "metadata": {
    "execution": {
     "iopub.execute_input": "2021-10-18T04:48:30.373948Z",
     "iopub.status.busy": "2021-10-18T04:48:30.373167Z",
     "iopub.status.idle": "2021-10-18T04:48:30.377122Z",
     "shell.execute_reply": "2021-10-18T04:48:30.376584Z",
     "shell.execute_reply.started": "2021-10-18T04:23:33.894978Z"
    },
    "papermill": {
     "duration": 0.085875,
     "end_time": "2021-10-18T04:48:30.377260",
     "exception": false,
     "start_time": "2021-10-18T04:48:30.291385",
     "status": "completed"
    },
    "tags": []
   },
   "outputs": [
    {
     "name": "stdout",
     "output_type": "stream",
     "text": [
      "<class 'pandas.core.frame.DataFrame'>\n",
      "RangeIndex: 418 entries, 0 to 417\n",
      "Data columns (total 9 columns):\n",
      " #   Column       Non-Null Count  Dtype  \n",
      "---  ------       --------------  -----  \n",
      " 0   PassengerId  418 non-null    int64  \n",
      " 1   Pclass       418 non-null    int64  \n",
      " 2   Age          418 non-null    float64\n",
      " 3   SibSp        418 non-null    int64  \n",
      " 4   Parch        418 non-null    int64  \n",
      " 5   Fare         417 non-null    float64\n",
      " 6   Q            418 non-null    uint8  \n",
      " 7   S            418 non-null    uint8  \n",
      " 8   male         418 non-null    uint8  \n",
      "dtypes: float64(2), int64(4), uint8(3)\n",
      "memory usage: 20.9 KB\n"
     ]
    }
   ],
   "source": [
    "test_df.info()"
   ]
  },
  {
   "cell_type": "code",
   "execution_count": 44,
   "id": "70399f4b",
   "metadata": {
    "execution": {
     "iopub.execute_input": "2021-10-18T04:48:30.528846Z",
     "iopub.status.busy": "2021-10-18T04:48:30.528164Z",
     "iopub.status.idle": "2021-10-18T04:48:30.533229Z",
     "shell.execute_reply": "2021-10-18T04:48:30.532683Z",
     "shell.execute_reply.started": "2021-10-18T04:23:33.913923Z"
    },
    "papermill": {
     "duration": 0.086958,
     "end_time": "2021-10-18T04:48:30.533384",
     "exception": false,
     "start_time": "2021-10-18T04:48:30.446426",
     "status": "completed"
    },
    "tags": []
   },
   "outputs": [
    {
     "data": {
      "text/html": [
       "<div>\n",
       "<style scoped>\n",
       "    .dataframe tbody tr th:only-of-type {\n",
       "        vertical-align: middle;\n",
       "    }\n",
       "\n",
       "    .dataframe tbody tr th {\n",
       "        vertical-align: top;\n",
       "    }\n",
       "\n",
       "    .dataframe thead th {\n",
       "        text-align: right;\n",
       "    }\n",
       "</style>\n",
       "<table border=\"1\" class=\"dataframe\">\n",
       "  <thead>\n",
       "    <tr style=\"text-align: right;\">\n",
       "      <th></th>\n",
       "      <th>PassengerId</th>\n",
       "      <th>Survived</th>\n",
       "      <th>Pclass</th>\n",
       "      <th>Age</th>\n",
       "      <th>SibSp</th>\n",
       "      <th>Parch</th>\n",
       "      <th>Fare</th>\n",
       "      <th>Q</th>\n",
       "      <th>S</th>\n",
       "      <th>male</th>\n",
       "    </tr>\n",
       "  </thead>\n",
       "  <tbody>\n",
       "    <tr>\n",
       "      <th>0</th>\n",
       "      <td>1</td>\n",
       "      <td>0</td>\n",
       "      <td>3</td>\n",
       "      <td>22.0</td>\n",
       "      <td>1</td>\n",
       "      <td>0</td>\n",
       "      <td>7.2500</td>\n",
       "      <td>0</td>\n",
       "      <td>1</td>\n",
       "      <td>1</td>\n",
       "    </tr>\n",
       "    <tr>\n",
       "      <th>1</th>\n",
       "      <td>2</td>\n",
       "      <td>1</td>\n",
       "      <td>1</td>\n",
       "      <td>38.0</td>\n",
       "      <td>1</td>\n",
       "      <td>0</td>\n",
       "      <td>71.2833</td>\n",
       "      <td>0</td>\n",
       "      <td>0</td>\n",
       "      <td>0</td>\n",
       "    </tr>\n",
       "    <tr>\n",
       "      <th>2</th>\n",
       "      <td>3</td>\n",
       "      <td>1</td>\n",
       "      <td>3</td>\n",
       "      <td>26.0</td>\n",
       "      <td>0</td>\n",
       "      <td>0</td>\n",
       "      <td>7.9250</td>\n",
       "      <td>0</td>\n",
       "      <td>1</td>\n",
       "      <td>0</td>\n",
       "    </tr>\n",
       "    <tr>\n",
       "      <th>3</th>\n",
       "      <td>4</td>\n",
       "      <td>1</td>\n",
       "      <td>1</td>\n",
       "      <td>35.0</td>\n",
       "      <td>1</td>\n",
       "      <td>0</td>\n",
       "      <td>53.1000</td>\n",
       "      <td>0</td>\n",
       "      <td>1</td>\n",
       "      <td>0</td>\n",
       "    </tr>\n",
       "    <tr>\n",
       "      <th>4</th>\n",
       "      <td>5</td>\n",
       "      <td>0</td>\n",
       "      <td>3</td>\n",
       "      <td>35.0</td>\n",
       "      <td>0</td>\n",
       "      <td>0</td>\n",
       "      <td>8.0500</td>\n",
       "      <td>0</td>\n",
       "      <td>1</td>\n",
       "      <td>1</td>\n",
       "    </tr>\n",
       "  </tbody>\n",
       "</table>\n",
       "</div>"
      ],
      "text/plain": [
       "   PassengerId  Survived  Pclass   Age  SibSp  Parch     Fare  Q  S  male\n",
       "0            1         0       3  22.0      1      0   7.2500  0  1     1\n",
       "1            2         1       1  38.0      1      0  71.2833  0  0     0\n",
       "2            3         1       3  26.0      0      0   7.9250  0  1     0\n",
       "3            4         1       1  35.0      1      0  53.1000  0  1     0\n",
       "4            5         0       3  35.0      0      0   8.0500  0  1     1"
      ]
     },
     "execution_count": 44,
     "metadata": {},
     "output_type": "execute_result"
    }
   ],
   "source": [
    "df.head()"
   ]
  },
  {
   "cell_type": "code",
   "execution_count": 45,
   "id": "662fb88c",
   "metadata": {
    "execution": {
     "iopub.execute_input": "2021-10-18T04:48:30.680654Z",
     "iopub.status.busy": "2021-10-18T04:48:30.677617Z",
     "iopub.status.idle": "2021-10-18T04:48:30.691036Z",
     "shell.execute_reply": "2021-10-18T04:48:30.690394Z",
     "shell.execute_reply.started": "2021-10-18T04:23:33.933348Z"
    },
    "papermill": {
     "duration": 0.086481,
     "end_time": "2021-10-18T04:48:30.691195",
     "exception": false,
     "start_time": "2021-10-18T04:48:30.604714",
     "status": "completed"
    },
    "tags": []
   },
   "outputs": [
    {
     "data": {
      "text/html": [
       "<div>\n",
       "<style scoped>\n",
       "    .dataframe tbody tr th:only-of-type {\n",
       "        vertical-align: middle;\n",
       "    }\n",
       "\n",
       "    .dataframe tbody tr th {\n",
       "        vertical-align: top;\n",
       "    }\n",
       "\n",
       "    .dataframe thead th {\n",
       "        text-align: right;\n",
       "    }\n",
       "</style>\n",
       "<table border=\"1\" class=\"dataframe\">\n",
       "  <thead>\n",
       "    <tr style=\"text-align: right;\">\n",
       "      <th></th>\n",
       "      <th>PassengerId</th>\n",
       "      <th>Pclass</th>\n",
       "      <th>Age</th>\n",
       "      <th>SibSp</th>\n",
       "      <th>Parch</th>\n",
       "      <th>Fare</th>\n",
       "      <th>Q</th>\n",
       "      <th>S</th>\n",
       "      <th>male</th>\n",
       "    </tr>\n",
       "  </thead>\n",
       "  <tbody>\n",
       "    <tr>\n",
       "      <th>0</th>\n",
       "      <td>892</td>\n",
       "      <td>3</td>\n",
       "      <td>34.5</td>\n",
       "      <td>0</td>\n",
       "      <td>0</td>\n",
       "      <td>7.8292</td>\n",
       "      <td>1</td>\n",
       "      <td>0</td>\n",
       "      <td>1</td>\n",
       "    </tr>\n",
       "    <tr>\n",
       "      <th>1</th>\n",
       "      <td>893</td>\n",
       "      <td>3</td>\n",
       "      <td>47.0</td>\n",
       "      <td>1</td>\n",
       "      <td>0</td>\n",
       "      <td>7.0000</td>\n",
       "      <td>0</td>\n",
       "      <td>1</td>\n",
       "      <td>0</td>\n",
       "    </tr>\n",
       "    <tr>\n",
       "      <th>2</th>\n",
       "      <td>894</td>\n",
       "      <td>2</td>\n",
       "      <td>62.0</td>\n",
       "      <td>0</td>\n",
       "      <td>0</td>\n",
       "      <td>9.6875</td>\n",
       "      <td>1</td>\n",
       "      <td>0</td>\n",
       "      <td>1</td>\n",
       "    </tr>\n",
       "    <tr>\n",
       "      <th>3</th>\n",
       "      <td>895</td>\n",
       "      <td>3</td>\n",
       "      <td>27.0</td>\n",
       "      <td>0</td>\n",
       "      <td>0</td>\n",
       "      <td>8.6625</td>\n",
       "      <td>0</td>\n",
       "      <td>1</td>\n",
       "      <td>1</td>\n",
       "    </tr>\n",
       "    <tr>\n",
       "      <th>4</th>\n",
       "      <td>896</td>\n",
       "      <td>3</td>\n",
       "      <td>22.0</td>\n",
       "      <td>1</td>\n",
       "      <td>1</td>\n",
       "      <td>12.2875</td>\n",
       "      <td>0</td>\n",
       "      <td>1</td>\n",
       "      <td>0</td>\n",
       "    </tr>\n",
       "  </tbody>\n",
       "</table>\n",
       "</div>"
      ],
      "text/plain": [
       "   PassengerId  Pclass   Age  SibSp  Parch     Fare  Q  S  male\n",
       "0          892       3  34.5      0      0   7.8292  1  0     1\n",
       "1          893       3  47.0      1      0   7.0000  0  1     0\n",
       "2          894       2  62.0      0      0   9.6875  1  0     1\n",
       "3          895       3  27.0      0      0   8.6625  0  1     1\n",
       "4          896       3  22.0      1      1  12.2875  0  1     0"
      ]
     },
     "execution_count": 45,
     "metadata": {},
     "output_type": "execute_result"
    }
   ],
   "source": [
    "test_df.head()"
   ]
  },
  {
   "cell_type": "code",
   "execution_count": 46,
   "id": "7c4f74e0",
   "metadata": {
    "execution": {
     "iopub.execute_input": "2021-10-18T04:48:30.974074Z",
     "iopub.status.busy": "2021-10-18T04:48:30.973300Z",
     "iopub.status.idle": "2021-10-18T04:48:31.591264Z",
     "shell.execute_reply": "2021-10-18T04:48:31.590522Z",
     "shell.execute_reply.started": "2021-10-18T04:42:50.332919Z"
    },
    "papermill": {
     "duration": 0.829525,
     "end_time": "2021-10-18T04:48:31.591415",
     "exception": false,
     "start_time": "2021-10-18T04:48:30.761890",
     "status": "completed"
    },
    "tags": []
   },
   "outputs": [],
   "source": [
    "from sklearn.ensemble import RandomForestClassifier\n",
    "\n",
    "y = df[\"Survived\"]\n",
    "\n",
    "features = [\"Pclass\", \"Age\", \"SibSp\", \"Parch\", \"male\", \"Q\", \"S\"]\n",
    "X = df[features]\n",
    "X_test = test_df[features]\n",
    "\n",
    "model = RandomForestClassifier(n_estimators=100, max_depth=5, random_state=1)\n",
    "model.fit(X, y)\n",
    "predictions = model.predict(X_test)"
   ]
  },
  {
   "cell_type": "code",
   "execution_count": 47,
   "id": "8c958ce9",
   "metadata": {
    "execution": {
     "iopub.execute_input": "2021-10-18T04:48:31.738687Z",
     "iopub.status.busy": "2021-10-18T04:48:31.737966Z",
     "iopub.status.idle": "2021-10-18T04:48:31.744789Z",
     "shell.execute_reply": "2021-10-18T04:48:31.744292Z",
     "shell.execute_reply.started": "2021-10-18T04:42:51.271948Z"
    },
    "papermill": {
     "duration": 0.082918,
     "end_time": "2021-10-18T04:48:31.744933",
     "exception": false,
     "start_time": "2021-10-18T04:48:31.662015",
     "status": "completed"
    },
    "tags": []
   },
   "outputs": [
    {
     "name": "stdout",
     "output_type": "stream",
     "text": [
      "Saved!\n"
     ]
    }
   ],
   "source": [
    "output = pd.DataFrame({'PassengerId': test_df.PassengerId, 'Survived': predictions})\n",
    "output.to_csv('submission.csv', index=False)\n",
    "print(\"Saved!\")"
   ]
  },
  {
   "cell_type": "code",
   "execution_count": 48,
   "id": "7a33b83e",
   "metadata": {
    "execution": {
     "iopub.execute_input": "2021-10-18T04:48:31.891348Z",
     "iopub.status.busy": "2021-10-18T04:48:31.890649Z",
     "iopub.status.idle": "2021-10-18T04:48:31.896070Z",
     "shell.execute_reply": "2021-10-18T04:48:31.895360Z",
     "shell.execute_reply.started": "2021-10-18T04:42:52.781796Z"
    },
    "papermill": {
     "duration": 0.080819,
     "end_time": "2021-10-18T04:48:31.896225",
     "exception": false,
     "start_time": "2021-10-18T04:48:31.815406",
     "status": "completed"
    },
    "tags": []
   },
   "outputs": [],
   "source": [
    "output_df = pd.read_csv('../working/submission.csv')"
   ]
  },
  {
   "cell_type": "code",
   "execution_count": 49,
   "id": "e89a15f1",
   "metadata": {
    "execution": {
     "iopub.execute_input": "2021-10-18T04:48:32.051868Z",
     "iopub.status.busy": "2021-10-18T04:48:32.051107Z",
     "iopub.status.idle": "2021-10-18T04:48:32.053876Z",
     "shell.execute_reply": "2021-10-18T04:48:32.054407Z",
     "shell.execute_reply.started": "2021-10-18T04:47:23.461326Z"
    },
    "papermill": {
     "duration": 0.086138,
     "end_time": "2021-10-18T04:48:32.054585",
     "exception": false,
     "start_time": "2021-10-18T04:48:31.968447",
     "status": "completed"
    },
    "tags": []
   },
   "outputs": [
    {
     "name": "stdout",
     "output_type": "stream",
     "text": [
      "<class 'pandas.core.frame.DataFrame'>\n",
      "RangeIndex: 418 entries, 0 to 417\n",
      "Data columns (total 2 columns):\n",
      " #   Column       Non-Null Count  Dtype\n",
      "---  ------       --------------  -----\n",
      " 0   PassengerId  418 non-null    int64\n",
      " 1   Survived     418 non-null    int64\n",
      "dtypes: int64(2)\n",
      "memory usage: 6.7 KB\n"
     ]
    }
   ],
   "source": [
    "output_df.info()"
   ]
  },
  {
   "cell_type": "code",
   "execution_count": 50,
   "id": "d9b7d2de",
   "metadata": {
    "execution": {
     "iopub.execute_input": "2021-10-18T04:48:32.201618Z",
     "iopub.status.busy": "2021-10-18T04:48:32.200891Z",
     "iopub.status.idle": "2021-10-18T04:48:32.203484Z",
     "shell.execute_reply": "2021-10-18T04:48:32.203986Z",
     "shell.execute_reply.started": "2021-10-18T04:42:53.808823Z"
    },
    "papermill": {
     "duration": 0.078807,
     "end_time": "2021-10-18T04:48:32.204178",
     "exception": false,
     "start_time": "2021-10-18T04:48:32.125371",
     "status": "completed"
    },
    "tags": []
   },
   "outputs": [
    {
     "data": {
      "text/plain": [
       "279"
      ]
     },
     "execution_count": 50,
     "metadata": {},
     "output_type": "execute_result"
    }
   ],
   "source": [
    "sum(output_df['Survived'] == 0)"
   ]
  },
  {
   "cell_type": "code",
   "execution_count": 51,
   "id": "a510b851",
   "metadata": {
    "execution": {
     "iopub.execute_input": "2021-10-18T04:48:32.379704Z",
     "iopub.status.busy": "2021-10-18T04:48:32.378873Z",
     "iopub.status.idle": "2021-10-18T04:48:32.383845Z",
     "shell.execute_reply": "2021-10-18T04:48:32.383305Z",
     "shell.execute_reply.started": "2021-10-18T04:42:54.620952Z"
    },
    "papermill": {
     "duration": 0.103653,
     "end_time": "2021-10-18T04:48:32.383994",
     "exception": false,
     "start_time": "2021-10-18T04:48:32.280341",
     "status": "completed"
    },
    "tags": []
   },
   "outputs": [
    {
     "data": {
      "text/plain": [
       "139"
      ]
     },
     "execution_count": 51,
     "metadata": {},
     "output_type": "execute_result"
    }
   ],
   "source": [
    "sum(output_df['Survived'] == 1)"
   ]
  },
  {
   "cell_type": "code",
   "execution_count": 52,
   "id": "7d88bdde",
   "metadata": {
    "execution": {
     "iopub.execute_input": "2021-10-18T04:48:32.540855Z",
     "iopub.status.busy": "2021-10-18T04:48:32.539866Z",
     "iopub.status.idle": "2021-10-18T04:48:32.575400Z",
     "shell.execute_reply": "2021-10-18T04:48:32.576166Z",
     "shell.execute_reply.started": "2021-10-18T04:46:21.281563Z"
    },
    "papermill": {
     "duration": 0.120031,
     "end_time": "2021-10-18T04:48:32.576426",
     "exception": false,
     "start_time": "2021-10-18T04:48:32.456395",
     "status": "completed"
    },
    "tags": []
   },
   "outputs": [],
   "source": [
    "output_df_tutorial = pd.read_csv('../input/titanic-tutorial/submission.csv')"
   ]
  },
  {
   "cell_type": "code",
   "execution_count": 53,
   "id": "67984736",
   "metadata": {
    "execution": {
     "iopub.execute_input": "2021-10-18T04:48:32.749790Z",
     "iopub.status.busy": "2021-10-18T04:48:32.749033Z",
     "iopub.status.idle": "2021-10-18T04:48:32.751965Z",
     "shell.execute_reply": "2021-10-18T04:48:32.752507Z",
     "shell.execute_reply.started": "2021-10-18T04:47:05.020895Z"
    },
    "papermill": {
     "duration": 0.087551,
     "end_time": "2021-10-18T04:48:32.752676",
     "exception": false,
     "start_time": "2021-10-18T04:48:32.665125",
     "status": "completed"
    },
    "tags": []
   },
   "outputs": [
    {
     "name": "stdout",
     "output_type": "stream",
     "text": [
      "<class 'pandas.core.frame.DataFrame'>\n",
      "RangeIndex: 418 entries, 0 to 417\n",
      "Data columns (total 2 columns):\n",
      " #   Column       Non-Null Count  Dtype\n",
      "---  ------       --------------  -----\n",
      " 0   PassengerId  418 non-null    int64\n",
      " 1   Survived     418 non-null    int64\n",
      "dtypes: int64(2)\n",
      "memory usage: 6.7 KB\n"
     ]
    }
   ],
   "source": [
    "output_df_tutorial.info()"
   ]
  },
  {
   "cell_type": "code",
   "execution_count": 54,
   "id": "b6b61eaa",
   "metadata": {
    "execution": {
     "iopub.execute_input": "2021-10-18T04:48:32.904371Z",
     "iopub.status.busy": "2021-10-18T04:48:32.903670Z",
     "iopub.status.idle": "2021-10-18T04:48:32.910090Z",
     "shell.execute_reply": "2021-10-18T04:48:32.910634Z",
     "shell.execute_reply.started": "2021-10-18T04:46:36.628729Z"
    },
    "papermill": {
     "duration": 0.082906,
     "end_time": "2021-10-18T04:48:32.910802",
     "exception": false,
     "start_time": "2021-10-18T04:48:32.827896",
     "status": "completed"
    },
    "tags": []
   },
   "outputs": [
    {
     "data": {
      "text/plain": [
       "270"
      ]
     },
     "execution_count": 54,
     "metadata": {},
     "output_type": "execute_result"
    }
   ],
   "source": [
    "sum(output_df_tutorial['Survived'] == 0)"
   ]
  },
  {
   "cell_type": "code",
   "execution_count": 55,
   "id": "265b5653",
   "metadata": {
    "execution": {
     "iopub.execute_input": "2021-10-18T04:48:33.070528Z",
     "iopub.status.busy": "2021-10-18T04:48:33.069658Z",
     "iopub.status.idle": "2021-10-18T04:48:33.075305Z",
     "shell.execute_reply": "2021-10-18T04:48:33.075844Z",
     "shell.execute_reply.started": "2021-10-18T04:46:48.251079Z"
    },
    "papermill": {
     "duration": 0.090489,
     "end_time": "2021-10-18T04:48:33.076097",
     "exception": false,
     "start_time": "2021-10-18T04:48:32.985608",
     "status": "completed"
    },
    "tags": []
   },
   "outputs": [
    {
     "data": {
      "text/plain": [
       "148"
      ]
     },
     "execution_count": 55,
     "metadata": {},
     "output_type": "execute_result"
    }
   ],
   "source": [
    "sum(output_df_tutorial['Survived'] == 1)"
   ]
  },
  {
   "cell_type": "code",
   "execution_count": null,
   "id": "0f584638",
   "metadata": {
    "papermill": {
     "duration": 0.071752,
     "end_time": "2021-10-18T04:48:33.220765",
     "exception": false,
     "start_time": "2021-10-18T04:48:33.149013",
     "status": "completed"
    },
    "tags": []
   },
   "outputs": [],
   "source": []
  }
 ],
 "metadata": {
  "kernelspec": {
   "display_name": "Python 3",
   "language": "python",
   "name": "python3"
  },
  "language_info": {
   "codemirror_mode": {
    "name": "ipython",
    "version": 3
   },
   "file_extension": ".py",
   "mimetype": "text/x-python",
   "name": "python",
   "nbconvert_exporter": "python",
   "pygments_lexer": "ipython3",
   "version": "3.7.10"
  },
  "papermill": {
   "default_parameters": {},
   "duration": 25.987776,
   "end_time": "2021-10-18T04:48:34.103367",
   "environment_variables": {},
   "exception": null,
   "input_path": "__notebook__.ipynb",
   "output_path": "__notebook__.ipynb",
   "parameters": {},
   "start_time": "2021-10-18T04:48:08.115591",
   "version": "2.3.3"
  }
 },
 "nbformat": 4,
 "nbformat_minor": 5
}
