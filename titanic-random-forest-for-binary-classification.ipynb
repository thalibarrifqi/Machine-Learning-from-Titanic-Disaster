{
 "cells": [
  {
   "cell_type": "code",
   "execution_count": 1,
   "id": "6ab4cfa5",
   "metadata": {
    "_cell_guid": "b1076dfc-b9ad-4769-8c92-a6c4dae69d19",
    "_uuid": "8f2839f25d086af736a60e9eeb907d3b93b6e0e5",
    "execution": {
     "iopub.execute_input": "2021-10-18T09:09:53.950446Z",
     "iopub.status.busy": "2021-10-18T09:09:53.948642Z",
     "iopub.status.idle": "2021-10-18T09:09:53.966301Z",
     "shell.execute_reply": "2021-10-18T09:09:53.965500Z",
     "shell.execute_reply.started": "2021-10-18T08:56:32.002691Z"
    },
    "papermill": {
     "duration": 0.062908,
     "end_time": "2021-10-18T09:09:53.966466",
     "exception": false,
     "start_time": "2021-10-18T09:09:53.903558",
     "status": "completed"
    },
    "tags": []
   },
   "outputs": [
    {
     "name": "stdout",
     "output_type": "stream",
     "text": [
      "/kaggle/input/titanic/train.csv\n",
      "/kaggle/input/titanic/test.csv\n",
      "/kaggle/input/titanic/gender_submission.csv\n"
     ]
    }
   ],
   "source": [
    "# This Python 3 environment comes with many helpful analytics libraries installed\n",
    "# It is defined by the kaggle/python Docker image: https://github.com/kaggle/docker-python\n",
    "# For example, here's several helpful packages to load\n",
    "\n",
    "import numpy as np # linear algebra\n",
    "import pandas as pd # data processing, CSV file I/O (e.g. pd.read_csv)\n",
    "\n",
    "# Input data files are available in the read-only \"../input/\" directory\n",
    "# For example, running this (by clicking run or pressing Shift+Enter) will list all files under the input directory\n",
    "\n",
    "import os\n",
    "for dirname, _, filenames in os.walk('/kaggle/input'):\n",
    "    for filename in filenames:\n",
    "        print(os.path.join(dirname, filename))\n",
    "\n",
    "# You can write up to 20GB to the current directory (/kaggle/working/) that gets preserved as output when you create a version using \"Save & Run All\" \n",
    "# You can also write temporary files to /kaggle/temp/, but they won't be saved outside of the current session"
   ]
  },
  {
   "cell_type": "code",
   "execution_count": 2,
   "id": "07892fd4",
   "metadata": {
    "execution": {
     "iopub.execute_input": "2021-10-18T09:09:54.050522Z",
     "iopub.status.busy": "2021-10-18T09:09:54.049874Z",
     "iopub.status.idle": "2021-10-18T09:09:54.053126Z",
     "shell.execute_reply": "2021-10-18T09:09:54.053671Z",
     "shell.execute_reply.started": "2021-10-18T08:56:32.881275Z"
    },
    "papermill": {
     "duration": 0.046777,
     "end_time": "2021-10-18T09:09:54.053842",
     "exception": false,
     "start_time": "2021-10-18T09:09:54.007065",
     "status": "completed"
    },
    "tags": []
   },
   "outputs": [],
   "source": [
    "import matplotlib.pyplot as plt"
   ]
  },
  {
   "cell_type": "code",
   "execution_count": 3,
   "id": "a72a4566",
   "metadata": {
    "execution": {
     "iopub.execute_input": "2021-10-18T09:09:54.136963Z",
     "iopub.status.busy": "2021-10-18T09:09:54.136322Z",
     "iopub.status.idle": "2021-10-18T09:09:55.058987Z",
     "shell.execute_reply": "2021-10-18T09:09:55.059487Z",
     "shell.execute_reply.started": "2021-10-18T08:56:33.375824Z"
    },
    "papermill": {
     "duration": 0.96576,
     "end_time": "2021-10-18T09:09:55.059693",
     "exception": false,
     "start_time": "2021-10-18T09:09:54.093933",
     "status": "completed"
    },
    "tags": []
   },
   "outputs": [],
   "source": [
    "import seaborn as sns"
   ]
  },
  {
   "cell_type": "markdown",
   "id": "aa44461a",
   "metadata": {
    "papermill": {
     "duration": 0.039481,
     "end_time": "2021-10-18T09:09:55.138869",
     "exception": false,
     "start_time": "2021-10-18T09:09:55.099388",
     "status": "completed"
    },
    "tags": []
   },
   "source": [
    "# **Load the data**"
   ]
  },
  {
   "cell_type": "code",
   "execution_count": 4,
   "id": "9e89ce2b",
   "metadata": {
    "execution": {
     "iopub.execute_input": "2021-10-18T09:09:55.221207Z",
     "iopub.status.busy": "2021-10-18T09:09:55.220530Z",
     "iopub.status.idle": "2021-10-18T09:09:55.244514Z",
     "shell.execute_reply": "2021-10-18T09:09:55.243939Z",
     "shell.execute_reply.started": "2021-10-18T08:56:34.371165Z"
    },
    "papermill": {
     "duration": 0.06646,
     "end_time": "2021-10-18T09:09:55.244676",
     "exception": false,
     "start_time": "2021-10-18T09:09:55.178216",
     "status": "completed"
    },
    "tags": []
   },
   "outputs": [],
   "source": [
    "train_df = pd.read_csv('../input/titanic/train.csv')"
   ]
  },
  {
   "cell_type": "code",
   "execution_count": 5,
   "id": "08d70ed2",
   "metadata": {
    "execution": {
     "iopub.execute_input": "2021-10-18T09:09:55.329340Z",
     "iopub.status.busy": "2021-10-18T09:09:55.328297Z",
     "iopub.status.idle": "2021-10-18T09:09:55.352785Z",
     "shell.execute_reply": "2021-10-18T09:09:55.352261Z",
     "shell.execute_reply.started": "2021-10-18T08:56:34.607420Z"
    },
    "papermill": {
     "duration": 0.067894,
     "end_time": "2021-10-18T09:09:55.352931",
     "exception": false,
     "start_time": "2021-10-18T09:09:55.285037",
     "status": "completed"
    },
    "tags": []
   },
   "outputs": [
    {
     "data": {
      "text/html": [
       "<div>\n",
       "<style scoped>\n",
       "    .dataframe tbody tr th:only-of-type {\n",
       "        vertical-align: middle;\n",
       "    }\n",
       "\n",
       "    .dataframe tbody tr th {\n",
       "        vertical-align: top;\n",
       "    }\n",
       "\n",
       "    .dataframe thead th {\n",
       "        text-align: right;\n",
       "    }\n",
       "</style>\n",
       "<table border=\"1\" class=\"dataframe\">\n",
       "  <thead>\n",
       "    <tr style=\"text-align: right;\">\n",
       "      <th></th>\n",
       "      <th>PassengerId</th>\n",
       "      <th>Survived</th>\n",
       "      <th>Pclass</th>\n",
       "      <th>Name</th>\n",
       "      <th>Sex</th>\n",
       "      <th>Age</th>\n",
       "      <th>SibSp</th>\n",
       "      <th>Parch</th>\n",
       "      <th>Ticket</th>\n",
       "      <th>Fare</th>\n",
       "      <th>Cabin</th>\n",
       "      <th>Embarked</th>\n",
       "    </tr>\n",
       "  </thead>\n",
       "  <tbody>\n",
       "    <tr>\n",
       "      <th>0</th>\n",
       "      <td>1</td>\n",
       "      <td>0</td>\n",
       "      <td>3</td>\n",
       "      <td>Braund, Mr. Owen Harris</td>\n",
       "      <td>male</td>\n",
       "      <td>22.0</td>\n",
       "      <td>1</td>\n",
       "      <td>0</td>\n",
       "      <td>A/5 21171</td>\n",
       "      <td>7.2500</td>\n",
       "      <td>NaN</td>\n",
       "      <td>S</td>\n",
       "    </tr>\n",
       "    <tr>\n",
       "      <th>1</th>\n",
       "      <td>2</td>\n",
       "      <td>1</td>\n",
       "      <td>1</td>\n",
       "      <td>Cumings, Mrs. John Bradley (Florence Briggs Th...</td>\n",
       "      <td>female</td>\n",
       "      <td>38.0</td>\n",
       "      <td>1</td>\n",
       "      <td>0</td>\n",
       "      <td>PC 17599</td>\n",
       "      <td>71.2833</td>\n",
       "      <td>C85</td>\n",
       "      <td>C</td>\n",
       "    </tr>\n",
       "    <tr>\n",
       "      <th>2</th>\n",
       "      <td>3</td>\n",
       "      <td>1</td>\n",
       "      <td>3</td>\n",
       "      <td>Heikkinen, Miss. Laina</td>\n",
       "      <td>female</td>\n",
       "      <td>26.0</td>\n",
       "      <td>0</td>\n",
       "      <td>0</td>\n",
       "      <td>STON/O2. 3101282</td>\n",
       "      <td>7.9250</td>\n",
       "      <td>NaN</td>\n",
       "      <td>S</td>\n",
       "    </tr>\n",
       "    <tr>\n",
       "      <th>3</th>\n",
       "      <td>4</td>\n",
       "      <td>1</td>\n",
       "      <td>1</td>\n",
       "      <td>Futrelle, Mrs. Jacques Heath (Lily May Peel)</td>\n",
       "      <td>female</td>\n",
       "      <td>35.0</td>\n",
       "      <td>1</td>\n",
       "      <td>0</td>\n",
       "      <td>113803</td>\n",
       "      <td>53.1000</td>\n",
       "      <td>C123</td>\n",
       "      <td>S</td>\n",
       "    </tr>\n",
       "    <tr>\n",
       "      <th>4</th>\n",
       "      <td>5</td>\n",
       "      <td>0</td>\n",
       "      <td>3</td>\n",
       "      <td>Allen, Mr. William Henry</td>\n",
       "      <td>male</td>\n",
       "      <td>35.0</td>\n",
       "      <td>0</td>\n",
       "      <td>0</td>\n",
       "      <td>373450</td>\n",
       "      <td>8.0500</td>\n",
       "      <td>NaN</td>\n",
       "      <td>S</td>\n",
       "    </tr>\n",
       "  </tbody>\n",
       "</table>\n",
       "</div>"
      ],
      "text/plain": [
       "   PassengerId  Survived  Pclass  \\\n",
       "0            1         0       3   \n",
       "1            2         1       1   \n",
       "2            3         1       3   \n",
       "3            4         1       1   \n",
       "4            5         0       3   \n",
       "\n",
       "                                                Name     Sex   Age  SibSp  \\\n",
       "0                            Braund, Mr. Owen Harris    male  22.0      1   \n",
       "1  Cumings, Mrs. John Bradley (Florence Briggs Th...  female  38.0      1   \n",
       "2                             Heikkinen, Miss. Laina  female  26.0      0   \n",
       "3       Futrelle, Mrs. Jacques Heath (Lily May Peel)  female  35.0      1   \n",
       "4                           Allen, Mr. William Henry    male  35.0      0   \n",
       "\n",
       "   Parch            Ticket     Fare Cabin Embarked  \n",
       "0      0         A/5 21171   7.2500   NaN        S  \n",
       "1      0          PC 17599  71.2833   C85        C  \n",
       "2      0  STON/O2. 3101282   7.9250   NaN        S  \n",
       "3      0            113803  53.1000  C123        S  \n",
       "4      0            373450   8.0500   NaN        S  "
      ]
     },
     "execution_count": 5,
     "metadata": {},
     "output_type": "execute_result"
    }
   ],
   "source": [
    "train_df.head()"
   ]
  },
  {
   "cell_type": "code",
   "execution_count": 6,
   "id": "9f49e259",
   "metadata": {
    "execution": {
     "iopub.execute_input": "2021-10-18T09:09:55.440372Z",
     "iopub.status.busy": "2021-10-18T09:09:55.439338Z",
     "iopub.status.idle": "2021-10-18T09:09:55.454519Z",
     "shell.execute_reply": "2021-10-18T09:09:55.455061Z",
     "shell.execute_reply.started": "2021-10-18T08:56:35.087461Z"
    },
    "papermill": {
     "duration": 0.060287,
     "end_time": "2021-10-18T09:09:55.455261",
     "exception": false,
     "start_time": "2021-10-18T09:09:55.394974",
     "status": "completed"
    },
    "tags": []
   },
   "outputs": [],
   "source": [
    "test_df = pd.read_csv('../input/titanic/test.csv')"
   ]
  },
  {
   "cell_type": "code",
   "execution_count": 7,
   "id": "7a9b50ea",
   "metadata": {
    "execution": {
     "iopub.execute_input": "2021-10-18T09:09:55.551795Z",
     "iopub.status.busy": "2021-10-18T09:09:55.538935Z",
     "iopub.status.idle": "2021-10-18T09:09:55.554684Z",
     "shell.execute_reply": "2021-10-18T09:09:55.555279Z",
     "shell.execute_reply.started": "2021-10-18T08:56:35.571393Z"
    },
    "papermill": {
     "duration": 0.059588,
     "end_time": "2021-10-18T09:09:55.555450",
     "exception": false,
     "start_time": "2021-10-18T09:09:55.495862",
     "status": "completed"
    },
    "tags": []
   },
   "outputs": [
    {
     "data": {
      "text/html": [
       "<div>\n",
       "<style scoped>\n",
       "    .dataframe tbody tr th:only-of-type {\n",
       "        vertical-align: middle;\n",
       "    }\n",
       "\n",
       "    .dataframe tbody tr th {\n",
       "        vertical-align: top;\n",
       "    }\n",
       "\n",
       "    .dataframe thead th {\n",
       "        text-align: right;\n",
       "    }\n",
       "</style>\n",
       "<table border=\"1\" class=\"dataframe\">\n",
       "  <thead>\n",
       "    <tr style=\"text-align: right;\">\n",
       "      <th></th>\n",
       "      <th>PassengerId</th>\n",
       "      <th>Pclass</th>\n",
       "      <th>Name</th>\n",
       "      <th>Sex</th>\n",
       "      <th>Age</th>\n",
       "      <th>SibSp</th>\n",
       "      <th>Parch</th>\n",
       "      <th>Ticket</th>\n",
       "      <th>Fare</th>\n",
       "      <th>Cabin</th>\n",
       "      <th>Embarked</th>\n",
       "    </tr>\n",
       "  </thead>\n",
       "  <tbody>\n",
       "    <tr>\n",
       "      <th>0</th>\n",
       "      <td>892</td>\n",
       "      <td>3</td>\n",
       "      <td>Kelly, Mr. James</td>\n",
       "      <td>male</td>\n",
       "      <td>34.5</td>\n",
       "      <td>0</td>\n",
       "      <td>0</td>\n",
       "      <td>330911</td>\n",
       "      <td>7.8292</td>\n",
       "      <td>NaN</td>\n",
       "      <td>Q</td>\n",
       "    </tr>\n",
       "    <tr>\n",
       "      <th>1</th>\n",
       "      <td>893</td>\n",
       "      <td>3</td>\n",
       "      <td>Wilkes, Mrs. James (Ellen Needs)</td>\n",
       "      <td>female</td>\n",
       "      <td>47.0</td>\n",
       "      <td>1</td>\n",
       "      <td>0</td>\n",
       "      <td>363272</td>\n",
       "      <td>7.0000</td>\n",
       "      <td>NaN</td>\n",
       "      <td>S</td>\n",
       "    </tr>\n",
       "    <tr>\n",
       "      <th>2</th>\n",
       "      <td>894</td>\n",
       "      <td>2</td>\n",
       "      <td>Myles, Mr. Thomas Francis</td>\n",
       "      <td>male</td>\n",
       "      <td>62.0</td>\n",
       "      <td>0</td>\n",
       "      <td>0</td>\n",
       "      <td>240276</td>\n",
       "      <td>9.6875</td>\n",
       "      <td>NaN</td>\n",
       "      <td>Q</td>\n",
       "    </tr>\n",
       "    <tr>\n",
       "      <th>3</th>\n",
       "      <td>895</td>\n",
       "      <td>3</td>\n",
       "      <td>Wirz, Mr. Albert</td>\n",
       "      <td>male</td>\n",
       "      <td>27.0</td>\n",
       "      <td>0</td>\n",
       "      <td>0</td>\n",
       "      <td>315154</td>\n",
       "      <td>8.6625</td>\n",
       "      <td>NaN</td>\n",
       "      <td>S</td>\n",
       "    </tr>\n",
       "    <tr>\n",
       "      <th>4</th>\n",
       "      <td>896</td>\n",
       "      <td>3</td>\n",
       "      <td>Hirvonen, Mrs. Alexander (Helga E Lindqvist)</td>\n",
       "      <td>female</td>\n",
       "      <td>22.0</td>\n",
       "      <td>1</td>\n",
       "      <td>1</td>\n",
       "      <td>3101298</td>\n",
       "      <td>12.2875</td>\n",
       "      <td>NaN</td>\n",
       "      <td>S</td>\n",
       "    </tr>\n",
       "  </tbody>\n",
       "</table>\n",
       "</div>"
      ],
      "text/plain": [
       "   PassengerId  Pclass                                          Name     Sex  \\\n",
       "0          892       3                              Kelly, Mr. James    male   \n",
       "1          893       3              Wilkes, Mrs. James (Ellen Needs)  female   \n",
       "2          894       2                     Myles, Mr. Thomas Francis    male   \n",
       "3          895       3                              Wirz, Mr. Albert    male   \n",
       "4          896       3  Hirvonen, Mrs. Alexander (Helga E Lindqvist)  female   \n",
       "\n",
       "    Age  SibSp  Parch   Ticket     Fare Cabin Embarked  \n",
       "0  34.5      0      0   330911   7.8292   NaN        Q  \n",
       "1  47.0      1      0   363272   7.0000   NaN        S  \n",
       "2  62.0      0      0   240276   9.6875   NaN        Q  \n",
       "3  27.0      0      0   315154   8.6625   NaN        S  \n",
       "4  22.0      1      1  3101298  12.2875   NaN        S  "
      ]
     },
     "execution_count": 7,
     "metadata": {},
     "output_type": "execute_result"
    }
   ],
   "source": [
    "test_df.head()"
   ]
  },
  {
   "cell_type": "markdown",
   "id": "ca4c6ba8",
   "metadata": {
    "papermill": {
     "duration": 0.040949,
     "end_time": "2021-10-18T09:09:55.696784",
     "exception": false,
     "start_time": "2021-10-18T09:09:55.655835",
     "status": "completed"
    },
    "tags": []
   },
   "source": [
    "# **Data Training**"
   ]
  },
  {
   "cell_type": "markdown",
   "id": "dec1fd67",
   "metadata": {
    "papermill": {
     "duration": 0.040446,
     "end_time": "2021-10-18T09:09:55.778071",
     "exception": false,
     "start_time": "2021-10-18T09:09:55.737625",
     "status": "completed"
    },
    "tags": []
   },
   "source": [
    "**Exploratory Data Analysis**"
   ]
  },
  {
   "cell_type": "code",
   "execution_count": 8,
   "id": "ba0072ba",
   "metadata": {
    "execution": {
     "iopub.execute_input": "2021-10-18T09:09:55.863118Z",
     "iopub.status.busy": "2021-10-18T09:09:55.862474Z",
     "iopub.status.idle": "2021-10-18T09:09:56.547384Z",
     "shell.execute_reply": "2021-10-18T09:09:56.547998Z",
     "shell.execute_reply.started": "2021-10-18T08:56:36.876623Z"
    },
    "papermill": {
     "duration": 0.729327,
     "end_time": "2021-10-18T09:09:56.548184",
     "exception": false,
     "start_time": "2021-10-18T09:09:55.818857",
     "status": "completed"
    },
    "tags": []
   },
   "outputs": [
    {
     "data": {
      "text/plain": [
       "<AxesSubplot:>"
      ]
     },
     "execution_count": 8,
     "metadata": {},
     "output_type": "execute_result"
    },
    {
     "data": {
      "image/png": "[encoded data removed]",
      "text/plain": [
       "<Figure size 720x432 with 2 Axes>"
      ]
     },
     "metadata": {
      "needs_background": "light"
     },
     "output_type": "display_data"
    }
   ],
   "source": [
    "plt.figure(figsize=(10,6))\n",
    "sns.heatmap(train_df.isnull())"
   ]
  },
  {
   "cell_type": "code",
   "execution_count": 9,
   "id": "961d6ab2",
   "metadata": {
    "execution": {
     "iopub.execute_input": "2021-10-18T09:09:56.644956Z",
     "iopub.status.busy": "2021-10-18T09:09:56.644079Z",
     "iopub.status.idle": "2021-10-18T09:09:56.883185Z",
     "shell.execute_reply": "2021-10-18T09:09:56.883740Z",
     "shell.execute_reply.started": "2021-10-18T08:56:37.645267Z"
    },
    "papermill": {
     "duration": 0.291539,
     "end_time": "2021-10-18T09:09:56.883922",
     "exception": false,
     "start_time": "2021-10-18T09:09:56.592383",
     "status": "completed"
    },
    "tags": []
   },
   "outputs": [
    {
     "data": {
      "text/plain": [
       "<AxesSubplot:xlabel='Survived', ylabel='count'>"
      ]
     },
     "execution_count": 9,
     "metadata": {},
     "output_type": "execute_result"
    },
    {
     "data": {
      "image/png": "[encoded data removed]",
      "text/plain": [
       "<Figure size 720x432 with 1 Axes>"
      ]
     },
     "metadata": {},
     "output_type": "display_data"
    }
   ],
   "source": [
    "sns.set_style('whitegrid')\n",
    "plt.figure(figsize=(10,6))\n",
    "sns.countplot(data=train_df, x='Survived', hue='Sex')"
   ]
  },
  {
   "cell_type": "code",
   "execution_count": 10,
   "id": "844ef04f",
   "metadata": {
    "execution": {
     "iopub.execute_input": "2021-10-18T09:09:56.973722Z",
     "iopub.status.busy": "2021-10-18T09:09:56.973080Z",
     "iopub.status.idle": "2021-10-18T09:09:57.230174Z",
     "shell.execute_reply": "2021-10-18T09:09:57.229480Z",
     "shell.execute_reply.started": "2021-10-18T08:56:37.904547Z"
    },
    "papermill": {
     "duration": 0.30305,
     "end_time": "2021-10-18T09:09:57.230318",
     "exception": false,
     "start_time": "2021-10-18T09:09:56.927268",
     "status": "completed"
    },
    "tags": []
   },
   "outputs": [
    {
     "data": {
      "text/plain": [
       "<AxesSubplot:xlabel='Survived', ylabel='count'>"
      ]
     },
     "execution_count": 10,
     "metadata": {},
     "output_type": "execute_result"
    },
    {
     "data": {
      "image/png": "[encoded data removed]",
      "text/plain": [
       "<Figure size 720x432 with 1 Axes>"
      ]
     },
     "metadata": {},
     "output_type": "display_data"
    }
   ],
   "source": [
    "plt.figure(figsize=(10,6))\n",
    "sns.countplot(data=train_df, x='Survived', hue='Pclass')"
   ]
  },
  {
   "cell_type": "code",
   "execution_count": 11,
   "id": "2045df56",
   "metadata": {
    "execution": {
     "iopub.execute_input": "2021-10-18T09:09:57.326862Z",
     "iopub.status.busy": "2021-10-18T09:09:57.326179Z",
     "iopub.status.idle": "2021-10-18T09:09:57.869539Z",
     "shell.execute_reply": "2021-10-18T09:09:57.868990Z",
     "shell.execute_reply.started": "2021-10-18T08:56:38.175875Z"
    },
    "papermill": {
     "duration": 0.594922,
     "end_time": "2021-10-18T09:09:57.869727",
     "exception": false,
     "start_time": "2021-10-18T09:09:57.274805",
     "status": "completed"
    },
    "tags": []
   },
   "outputs": [
    {
     "data": {
      "text/plain": [
       "<seaborn.axisgrid.FacetGrid at 0x7f55632e6c90>"
      ]
     },
     "execution_count": 11,
     "metadata": {},
     "output_type": "execute_result"
    },
    {
     "data": {
      "image/png": "[encoded data removed]",
      "text/plain": [
       "<Figure size 360x360 with 1 Axes>"
      ]
     },
     "metadata": {},
     "output_type": "display_data"
    }
   ],
   "source": [
    "sns.displot(train_df['Age'].dropna(), kde=False, bins=35)"
   ]
  },
  {
   "cell_type": "code",
   "execution_count": 12,
   "id": "4f351619",
   "metadata": {
    "execution": {
     "iopub.execute_input": "2021-10-18T09:09:57.969069Z",
     "iopub.status.busy": "2021-10-18T09:09:57.968029Z",
     "iopub.status.idle": "2021-10-18T09:09:58.231365Z",
     "shell.execute_reply": "2021-10-18T09:09:58.230687Z",
     "shell.execute_reply.started": "2021-10-18T08:56:38.728917Z"
    },
    "papermill": {
     "duration": 0.316077,
     "end_time": "2021-10-18T09:09:58.231505",
     "exception": false,
     "start_time": "2021-10-18T09:09:57.915428",
     "status": "completed"
    },
    "tags": []
   },
   "outputs": [
    {
     "data": {
      "text/plain": [
       "<AxesSubplot:xlabel='SibSp', ylabel='count'>"
      ]
     },
     "execution_count": 12,
     "metadata": {},
     "output_type": "execute_result"
    },
    {
     "data": {
      "image/png": "[encoded data removed]",
      "text/plain": [
       "<Figure size 720x432 with 1 Axes>"
      ]
     },
     "metadata": {},
     "output_type": "display_data"
    }
   ],
   "source": [
    "plt.figure(figsize=(10,6))\n",
    "sns.countplot(data=train_df, x='SibSp')"
   ]
  },
  {
   "cell_type": "code",
   "execution_count": 13,
   "id": "c46c3255",
   "metadata": {
    "execution": {
     "iopub.execute_input": "2021-10-18T09:09:58.331419Z",
     "iopub.status.busy": "2021-10-18T09:09:58.330773Z",
     "iopub.status.idle": "2021-10-18T09:09:58.590736Z",
     "shell.execute_reply": "2021-10-18T09:09:58.590209Z",
     "shell.execute_reply.started": "2021-10-18T08:56:39.015730Z"
    },
    "papermill": {
     "duration": 0.312469,
     "end_time": "2021-10-18T09:09:58.590886",
     "exception": false,
     "start_time": "2021-10-18T09:09:58.278417",
     "status": "completed"
    },
    "tags": []
   },
   "outputs": [
    {
     "data": {
      "text/plain": [
       "<AxesSubplot:xlabel='Pclass', ylabel='Age'>"
      ]
     },
     "execution_count": 13,
     "metadata": {},
     "output_type": "execute_result"
    },
    {
     "data": {
      "image/png": "[encoded data removed]",
      "text/plain": [
       "<Figure size 720x432 with 1 Axes>"
      ]
     },
     "metadata": {},
     "output_type": "display_data"
    }
   ],
   "source": [
    "plt.figure(figsize=(10,6))\n",
    "sns.boxplot(data=train_df, x='Pclass', y='Age')"
   ]
  },
  {
   "cell_type": "code",
   "execution_count": 14,
   "id": "360671fd",
   "metadata": {
    "execution": {
     "iopub.execute_input": "2021-10-18T09:09:58.714155Z",
     "iopub.status.busy": "2021-10-18T09:09:58.713516Z",
     "iopub.status.idle": "2021-10-18T09:09:59.025245Z",
     "shell.execute_reply": "2021-10-18T09:09:59.024676Z",
     "shell.execute_reply.started": "2021-10-18T08:56:39.411546Z"
    },
    "papermill": {
     "duration": 0.386862,
     "end_time": "2021-10-18T09:09:59.025386",
     "exception": false,
     "start_time": "2021-10-18T09:09:58.638524",
     "status": "completed"
    },
    "tags": []
   },
   "outputs": [
    {
     "data": {
      "text/plain": [
       "<AxesSubplot:xlabel='Age', ylabel='Fare'>"
      ]
     },
     "execution_count": 14,
     "metadata": {},
     "output_type": "execute_result"
    },
    {
     "data": {
      "image/png": "[encoded data removed]",
      "text/plain": [
       "<Figure size 720x432 with 1 Axes>"
      ]
     },
     "metadata": {},
     "output_type": "display_data"
    }
   ],
   "source": [
    "plt.figure(figsize=(10,6))\n",
    "sns.scatterplot(data=train_df, x='Age', y='Fare')"
   ]
  },
  {
   "cell_type": "markdown",
   "id": "49f74655",
   "metadata": {
    "papermill": {
     "duration": 0.049444,
     "end_time": "2021-10-18T09:09:59.125140",
     "exception": false,
     "start_time": "2021-10-18T09:09:59.075696",
     "status": "completed"
    },
    "tags": []
   },
   "source": [
    "**Cleaning the data**"
   ]
  },
  {
   "cell_type": "code",
   "execution_count": 15,
   "id": "a3bfebc8",
   "metadata": {
    "execution": {
     "iopub.execute_input": "2021-10-18T09:09:59.226478Z",
     "iopub.status.busy": "2021-10-18T09:09:59.225819Z",
     "iopub.status.idle": "2021-10-18T09:09:59.236085Z",
     "shell.execute_reply": "2021-10-18T09:09:59.235523Z",
     "shell.execute_reply.started": "2021-10-18T08:56:40.275290Z"
    },
    "papermill": {
     "duration": 0.062107,
     "end_time": "2021-10-18T09:09:59.236237",
     "exception": false,
     "start_time": "2021-10-18T09:09:59.174130",
     "status": "completed"
    },
    "tags": []
   },
   "outputs": [
    {
     "data": {
      "text/plain": [
       "Pclass\n",
       "1    38.233441\n",
       "2    29.877630\n",
       "3    25.140620\n",
       "Name: Age, dtype: float64"
      ]
     },
     "execution_count": 15,
     "metadata": {},
     "output_type": "execute_result"
    }
   ],
   "source": [
    "age_by_class = train_df.groupby('Pclass')['Age'].mean()\n",
    "age_by_class"
   ]
  },
  {
   "cell_type": "code",
   "execution_count": 16,
   "id": "767c2d0f",
   "metadata": {
    "execution": {
     "iopub.execute_input": "2021-10-18T09:09:59.339263Z",
     "iopub.status.busy": "2021-10-18T09:09:59.338276Z",
     "iopub.status.idle": "2021-10-18T09:09:59.343264Z",
     "shell.execute_reply": "2021-10-18T09:09:59.343813Z",
     "shell.execute_reply.started": "2021-10-18T08:56:40.904745Z"
    },
    "papermill": {
     "duration": 0.058283,
     "end_time": "2021-10-18T09:09:59.343982",
     "exception": false,
     "start_time": "2021-10-18T09:09:59.285699",
     "status": "completed"
    },
    "tags": []
   },
   "outputs": [],
   "source": [
    "def fill_age(x):\n",
    "    Age = x[0]\n",
    "    Pclass = x[1]\n",
    "    if pd.isnull(Age):\n",
    "        if(Pclass==1):\n",
    "            return 38\n",
    "        elif(Pclass==2):\n",
    "            return 30\n",
    "        else:\n",
    "            return 25\n",
    "    return Age"
   ]
  },
  {
   "cell_type": "code",
   "execution_count": 17,
   "id": "4242ca41",
   "metadata": {
    "execution": {
     "iopub.execute_input": "2021-10-18T09:09:59.446643Z",
     "iopub.status.busy": "2021-10-18T09:09:59.445671Z",
     "iopub.status.idle": "2021-10-18T09:09:59.467027Z",
     "shell.execute_reply": "2021-10-18T09:09:59.466436Z",
     "shell.execute_reply.started": "2021-10-18T08:56:41.475672Z"
    },
    "papermill": {
     "duration": 0.073792,
     "end_time": "2021-10-18T09:09:59.467170",
     "exception": false,
     "start_time": "2021-10-18T09:09:59.393378",
     "status": "completed"
    },
    "tags": []
   },
   "outputs": [],
   "source": [
    "train_df['Age'] = train_df[['Age', 'Pclass']].apply(fill_age, axis=1)"
   ]
  },
  {
   "cell_type": "code",
   "execution_count": 18,
   "id": "d15a3a05",
   "metadata": {
    "execution": {
     "iopub.execute_input": "2021-10-18T09:09:59.582875Z",
     "iopub.status.busy": "2021-10-18T09:09:59.573466Z",
     "iopub.status.idle": "2021-10-18T09:10:00.162352Z",
     "shell.execute_reply": "2021-10-18T09:10:00.162841Z",
     "shell.execute_reply.started": "2021-10-18T08:56:41.914308Z"
    },
    "papermill": {
     "duration": 0.646112,
     "end_time": "2021-10-18T09:10:00.163020",
     "exception": false,
     "start_time": "2021-10-18T09:09:59.516908",
     "status": "completed"
    },
    "tags": []
   },
   "outputs": [
    {
     "data": {
      "text/plain": [
       "<AxesSubplot:>"
      ]
     },
     "execution_count": 18,
     "metadata": {},
     "output_type": "execute_result"
    },
    {
     "data": {
      "image/png": "[encoded data removed]",
      "text/plain": [
       "<Figure size 864x432 with 2 Axes>"
      ]
     },
     "metadata": {},
     "output_type": "display_data"
    }
   ],
   "source": [
    "plt.figure(figsize=(12,6))\n",
    "sns.heatmap(train_df.isnull())"
   ]
  },
  {
   "cell_type": "code",
   "execution_count": 19,
   "id": "ff53c1a5",
   "metadata": {
    "execution": {
     "iopub.execute_input": "2021-10-18T09:10:00.271446Z",
     "iopub.status.busy": "2021-10-18T09:10:00.270784Z",
     "iopub.status.idle": "2021-10-18T09:10:00.273962Z",
     "shell.execute_reply": "2021-10-18T09:10:00.273348Z",
     "shell.execute_reply.started": "2021-10-18T08:56:42.520526Z"
    },
    "papermill": {
     "duration": 0.059527,
     "end_time": "2021-10-18T09:10:00.274106",
     "exception": false,
     "start_time": "2021-10-18T09:10:00.214579",
     "status": "completed"
    },
    "tags": []
   },
   "outputs": [],
   "source": [
    "train_df = train_df.drop('Cabin', axis=1)"
   ]
  },
  {
   "cell_type": "code",
   "execution_count": 20,
   "id": "f22d43c1",
   "metadata": {
    "execution": {
     "iopub.execute_input": "2021-10-18T09:10:00.385841Z",
     "iopub.status.busy": "2021-10-18T09:10:00.385123Z",
     "iopub.status.idle": "2021-10-18T09:10:00.953008Z",
     "shell.execute_reply": "2021-10-18T09:10:00.952368Z",
     "shell.execute_reply.started": "2021-10-18T08:56:43.575932Z"
    },
    "papermill": {
     "duration": 0.627925,
     "end_time": "2021-10-18T09:10:00.953155",
     "exception": false,
     "start_time": "2021-10-18T09:10:00.325230",
     "status": "completed"
    },
    "tags": []
   },
   "outputs": [
    {
     "data": {
      "text/plain": [
       "<AxesSubplot:>"
      ]
     },
     "execution_count": 20,
     "metadata": {},
     "output_type": "execute_result"
    },
    {
     "data": {
      "image/png": "[encoded data removed]",
      "text/plain": [
       "<Figure size 864x432 with 2 Axes>"
      ]
     },
     "metadata": {},
     "output_type": "display_data"
    }
   ],
   "source": [
    "plt.figure(figsize=(12,6))\n",
    "sns.heatmap(train_df.isnull())"
   ]
  },
  {
   "cell_type": "code",
   "execution_count": 21,
   "id": "e82b4729",
   "metadata": {
    "execution": {
     "iopub.execute_input": "2021-10-18T09:10:01.069039Z",
     "iopub.status.busy": "2021-10-18T09:10:01.068230Z",
     "iopub.status.idle": "2021-10-18T09:10:01.070932Z",
     "shell.execute_reply": "2021-10-18T09:10:01.070419Z",
     "shell.execute_reply.started": "2021-10-18T08:56:44.915694Z"
    },
    "papermill": {
     "duration": 0.065168,
     "end_time": "2021-10-18T09:10:01.071079",
     "exception": false,
     "start_time": "2021-10-18T09:10:01.005911",
     "status": "completed"
    },
    "tags": []
   },
   "outputs": [],
   "source": [
    "train_df = train_df.dropna()"
   ]
  },
  {
   "cell_type": "code",
   "execution_count": 22,
   "id": "4d3a88b5",
   "metadata": {
    "execution": {
     "iopub.execute_input": "2021-10-18T09:10:01.205366Z",
     "iopub.status.busy": "2021-10-18T09:10:01.183195Z",
     "iopub.status.idle": "2021-10-18T09:10:01.892202Z",
     "shell.execute_reply": "2021-10-18T09:10:01.891541Z",
     "shell.execute_reply.started": "2021-10-18T08:56:51.944220Z"
    },
    "papermill": {
     "duration": 0.768719,
     "end_time": "2021-10-18T09:10:01.892348",
     "exception": false,
     "start_time": "2021-10-18T09:10:01.123629",
     "status": "completed"
    },
    "tags": []
   },
   "outputs": [
    {
     "data": {
      "text/plain": [
       "<AxesSubplot:>"
      ]
     },
     "execution_count": 22,
     "metadata": {},
     "output_type": "execute_result"
    },
    {
     "data": {
      "image/png": "[encoded data removed]",
      "text/plain": [
       "<Figure size 864x432 with 2 Axes>"
      ]
     },
     "metadata": {},
     "output_type": "display_data"
    }
   ],
   "source": [
    "plt.figure(figsize=(12,6))\n",
    "sns.heatmap(train_df.isnull())"
   ]
  },
  {
   "cell_type": "markdown",
   "id": "1f52ccf9",
   "metadata": {
    "papermill": {
     "duration": 0.053539,
     "end_time": "2021-10-18T09:10:01.999914",
     "exception": false,
     "start_time": "2021-10-18T09:10:01.946375",
     "status": "completed"
    },
    "tags": []
   },
   "source": [
    "**Dummies for the categorized feature**"
   ]
  },
  {
   "cell_type": "code",
   "execution_count": 23,
   "id": "a8f26d9f",
   "metadata": {
    "execution": {
     "iopub.execute_input": "2021-10-18T09:10:02.115971Z",
     "iopub.status.busy": "2021-10-18T09:10:02.115285Z",
     "iopub.status.idle": "2021-10-18T09:10:02.117864Z",
     "shell.execute_reply": "2021-10-18T09:10:02.118342Z",
     "shell.execute_reply.started": "2021-10-18T08:56:53.204547Z"
    },
    "papermill": {
     "duration": 0.064163,
     "end_time": "2021-10-18T09:10:02.118503",
     "exception": false,
     "start_time": "2021-10-18T09:10:02.054340",
     "status": "completed"
    },
    "tags": []
   },
   "outputs": [
    {
     "data": {
      "text/plain": [
       "S    644\n",
       "C    168\n",
       "Q     77\n",
       "Name: Embarked, dtype: int64"
      ]
     },
     "execution_count": 23,
     "metadata": {},
     "output_type": "execute_result"
    }
   ],
   "source": [
    "train_df['Embarked'].value_counts()"
   ]
  },
  {
   "cell_type": "code",
   "execution_count": 24,
   "id": "f0d25f31",
   "metadata": {
    "execution": {
     "iopub.execute_input": "2021-10-18T09:10:02.239600Z",
     "iopub.status.busy": "2021-10-18T09:10:02.238641Z",
     "iopub.status.idle": "2021-10-18T09:10:02.242840Z",
     "shell.execute_reply": "2021-10-18T09:10:02.242286Z",
     "shell.execute_reply.started": "2021-10-18T08:56:54.043616Z"
    },
    "papermill": {
     "duration": 0.070205,
     "end_time": "2021-10-18T09:10:02.242979",
     "exception": false,
     "start_time": "2021-10-18T09:10:02.172774",
     "status": "completed"
    },
    "tags": []
   },
   "outputs": [
    {
     "data": {
      "text/html": [
       "<div>\n",
       "<style scoped>\n",
       "    .dataframe tbody tr th:only-of-type {\n",
       "        vertical-align: middle;\n",
       "    }\n",
       "\n",
       "    .dataframe tbody tr th {\n",
       "        vertical-align: top;\n",
       "    }\n",
       "\n",
       "    .dataframe thead th {\n",
       "        text-align: right;\n",
       "    }\n",
       "</style>\n",
       "<table border=\"1\" class=\"dataframe\">\n",
       "  <thead>\n",
       "    <tr style=\"text-align: right;\">\n",
       "      <th></th>\n",
       "      <th>Q</th>\n",
       "      <th>S</th>\n",
       "    </tr>\n",
       "  </thead>\n",
       "  <tbody>\n",
       "    <tr>\n",
       "      <th>0</th>\n",
       "      <td>0</td>\n",
       "      <td>1</td>\n",
       "    </tr>\n",
       "    <tr>\n",
       "      <th>1</th>\n",
       "      <td>0</td>\n",
       "      <td>0</td>\n",
       "    </tr>\n",
       "    <tr>\n",
       "      <th>2</th>\n",
       "      <td>0</td>\n",
       "      <td>1</td>\n",
       "    </tr>\n",
       "    <tr>\n",
       "      <th>3</th>\n",
       "      <td>0</td>\n",
       "      <td>1</td>\n",
       "    </tr>\n",
       "    <tr>\n",
       "      <th>4</th>\n",
       "      <td>0</td>\n",
       "      <td>1</td>\n",
       "    </tr>\n",
       "    <tr>\n",
       "      <th>...</th>\n",
       "      <td>...</td>\n",
       "      <td>...</td>\n",
       "    </tr>\n",
       "    <tr>\n",
       "      <th>886</th>\n",
       "      <td>0</td>\n",
       "      <td>1</td>\n",
       "    </tr>\n",
       "    <tr>\n",
       "      <th>887</th>\n",
       "      <td>0</td>\n",
       "      <td>1</td>\n",
       "    </tr>\n",
       "    <tr>\n",
       "      <th>888</th>\n",
       "      <td>0</td>\n",
       "      <td>1</td>\n",
       "    </tr>\n",
       "    <tr>\n",
       "      <th>889</th>\n",
       "      <td>0</td>\n",
       "      <td>0</td>\n",
       "    </tr>\n",
       "    <tr>\n",
       "      <th>890</th>\n",
       "      <td>1</td>\n",
       "      <td>0</td>\n",
       "    </tr>\n",
       "  </tbody>\n",
       "</table>\n",
       "<p>889 rows × 2 columns</p>\n",
       "</div>"
      ],
      "text/plain": [
       "     Q  S\n",
       "0    0  1\n",
       "1    0  0\n",
       "2    0  1\n",
       "3    0  1\n",
       "4    0  1\n",
       "..  .. ..\n",
       "886  0  1\n",
       "887  0  1\n",
       "888  0  1\n",
       "889  0  0\n",
       "890  1  0\n",
       "\n",
       "[889 rows x 2 columns]"
      ]
     },
     "execution_count": 24,
     "metadata": {},
     "output_type": "execute_result"
    }
   ],
   "source": [
    "embarked_dummies = pd.get_dummies(train_df['Embarked'], drop_first=True)\n",
    "embarked_dummies"
   ]
  },
  {
   "cell_type": "code",
   "execution_count": 25,
   "id": "cd33083b",
   "metadata": {
    "execution": {
     "iopub.execute_input": "2021-10-18T09:10:02.363920Z",
     "iopub.status.busy": "2021-10-18T09:10:02.357992Z",
     "iopub.status.idle": "2021-10-18T09:10:02.367599Z",
     "shell.execute_reply": "2021-10-18T09:10:02.366964Z",
     "shell.execute_reply.started": "2021-10-18T08:56:55.176222Z"
    },
    "papermill": {
     "duration": 0.069644,
     "end_time": "2021-10-18T09:10:02.367771",
     "exception": false,
     "start_time": "2021-10-18T09:10:02.298127",
     "status": "completed"
    },
    "tags": []
   },
   "outputs": [
    {
     "data": {
      "text/html": [
       "<div>\n",
       "<style scoped>\n",
       "    .dataframe tbody tr th:only-of-type {\n",
       "        vertical-align: middle;\n",
       "    }\n",
       "\n",
       "    .dataframe tbody tr th {\n",
       "        vertical-align: top;\n",
       "    }\n",
       "\n",
       "    .dataframe thead th {\n",
       "        text-align: right;\n",
       "    }\n",
       "</style>\n",
       "<table border=\"1\" class=\"dataframe\">\n",
       "  <thead>\n",
       "    <tr style=\"text-align: right;\">\n",
       "      <th></th>\n",
       "      <th>male</th>\n",
       "    </tr>\n",
       "  </thead>\n",
       "  <tbody>\n",
       "    <tr>\n",
       "      <th>0</th>\n",
       "      <td>1</td>\n",
       "    </tr>\n",
       "    <tr>\n",
       "      <th>1</th>\n",
       "      <td>0</td>\n",
       "    </tr>\n",
       "    <tr>\n",
       "      <th>2</th>\n",
       "      <td>0</td>\n",
       "    </tr>\n",
       "    <tr>\n",
       "      <th>3</th>\n",
       "      <td>0</td>\n",
       "    </tr>\n",
       "    <tr>\n",
       "      <th>4</th>\n",
       "      <td>1</td>\n",
       "    </tr>\n",
       "    <tr>\n",
       "      <th>...</th>\n",
       "      <td>...</td>\n",
       "    </tr>\n",
       "    <tr>\n",
       "      <th>886</th>\n",
       "      <td>1</td>\n",
       "    </tr>\n",
       "    <tr>\n",
       "      <th>887</th>\n",
       "      <td>0</td>\n",
       "    </tr>\n",
       "    <tr>\n",
       "      <th>888</th>\n",
       "      <td>0</td>\n",
       "    </tr>\n",
       "    <tr>\n",
       "      <th>889</th>\n",
       "      <td>1</td>\n",
       "    </tr>\n",
       "    <tr>\n",
       "      <th>890</th>\n",
       "      <td>1</td>\n",
       "    </tr>\n",
       "  </tbody>\n",
       "</table>\n",
       "<p>889 rows × 1 columns</p>\n",
       "</div>"
      ],
      "text/plain": [
       "     male\n",
       "0       1\n",
       "1       0\n",
       "2       0\n",
       "3       0\n",
       "4       1\n",
       "..    ...\n",
       "886     1\n",
       "887     0\n",
       "888     0\n",
       "889     1\n",
       "890     1\n",
       "\n",
       "[889 rows x 1 columns]"
      ]
     },
     "execution_count": 25,
     "metadata": {},
     "output_type": "execute_result"
    }
   ],
   "source": [
    "sex_dummies = pd.get_dummies(train_df['Sex'], drop_first=True)\n",
    "sex_dummies"
   ]
  },
  {
   "cell_type": "code",
   "execution_count": 26,
   "id": "e53d971f",
   "metadata": {
    "execution": {
     "iopub.execute_input": "2021-10-18T09:10:02.500226Z",
     "iopub.status.busy": "2021-10-18T09:10:02.487383Z",
     "iopub.status.idle": "2021-10-18T09:10:02.502937Z",
     "shell.execute_reply": "2021-10-18T09:10:02.503398Z",
     "shell.execute_reply.started": "2021-10-18T08:56:56.332086Z"
    },
    "papermill": {
     "duration": 0.078962,
     "end_time": "2021-10-18T09:10:02.503570",
     "exception": false,
     "start_time": "2021-10-18T09:10:02.424608",
     "status": "completed"
    },
    "tags": []
   },
   "outputs": [
    {
     "data": {
      "text/html": [
       "<div>\n",
       "<style scoped>\n",
       "    .dataframe tbody tr th:only-of-type {\n",
       "        vertical-align: middle;\n",
       "    }\n",
       "\n",
       "    .dataframe tbody tr th {\n",
       "        vertical-align: top;\n",
       "    }\n",
       "\n",
       "    .dataframe thead th {\n",
       "        text-align: right;\n",
       "    }\n",
       "</style>\n",
       "<table border=\"1\" class=\"dataframe\">\n",
       "  <thead>\n",
       "    <tr style=\"text-align: right;\">\n",
       "      <th></th>\n",
       "      <th>PassengerId</th>\n",
       "      <th>Survived</th>\n",
       "      <th>Pclass</th>\n",
       "      <th>Age</th>\n",
       "      <th>SibSp</th>\n",
       "      <th>Parch</th>\n",
       "      <th>Fare</th>\n",
       "      <th>Q</th>\n",
       "      <th>S</th>\n",
       "      <th>male</th>\n",
       "    </tr>\n",
       "  </thead>\n",
       "  <tbody>\n",
       "    <tr>\n",
       "      <th>0</th>\n",
       "      <td>1</td>\n",
       "      <td>0</td>\n",
       "      <td>3</td>\n",
       "      <td>22.0</td>\n",
       "      <td>1</td>\n",
       "      <td>0</td>\n",
       "      <td>7.2500</td>\n",
       "      <td>0</td>\n",
       "      <td>1</td>\n",
       "      <td>1</td>\n",
       "    </tr>\n",
       "    <tr>\n",
       "      <th>1</th>\n",
       "      <td>2</td>\n",
       "      <td>1</td>\n",
       "      <td>1</td>\n",
       "      <td>38.0</td>\n",
       "      <td>1</td>\n",
       "      <td>0</td>\n",
       "      <td>71.2833</td>\n",
       "      <td>0</td>\n",
       "      <td>0</td>\n",
       "      <td>0</td>\n",
       "    </tr>\n",
       "    <tr>\n",
       "      <th>2</th>\n",
       "      <td>3</td>\n",
       "      <td>1</td>\n",
       "      <td>3</td>\n",
       "      <td>26.0</td>\n",
       "      <td>0</td>\n",
       "      <td>0</td>\n",
       "      <td>7.9250</td>\n",
       "      <td>0</td>\n",
       "      <td>1</td>\n",
       "      <td>0</td>\n",
       "    </tr>\n",
       "    <tr>\n",
       "      <th>3</th>\n",
       "      <td>4</td>\n",
       "      <td>1</td>\n",
       "      <td>1</td>\n",
       "      <td>35.0</td>\n",
       "      <td>1</td>\n",
       "      <td>0</td>\n",
       "      <td>53.1000</td>\n",
       "      <td>0</td>\n",
       "      <td>1</td>\n",
       "      <td>0</td>\n",
       "    </tr>\n",
       "    <tr>\n",
       "      <th>4</th>\n",
       "      <td>5</td>\n",
       "      <td>0</td>\n",
       "      <td>3</td>\n",
       "      <td>35.0</td>\n",
       "      <td>0</td>\n",
       "      <td>0</td>\n",
       "      <td>8.0500</td>\n",
       "      <td>0</td>\n",
       "      <td>1</td>\n",
       "      <td>1</td>\n",
       "    </tr>\n",
       "    <tr>\n",
       "      <th>...</th>\n",
       "      <td>...</td>\n",
       "      <td>...</td>\n",
       "      <td>...</td>\n",
       "      <td>...</td>\n",
       "      <td>...</td>\n",
       "      <td>...</td>\n",
       "      <td>...</td>\n",
       "      <td>...</td>\n",
       "      <td>...</td>\n",
       "      <td>...</td>\n",
       "    </tr>\n",
       "    <tr>\n",
       "      <th>886</th>\n",
       "      <td>887</td>\n",
       "      <td>0</td>\n",
       "      <td>2</td>\n",
       "      <td>27.0</td>\n",
       "      <td>0</td>\n",
       "      <td>0</td>\n",
       "      <td>13.0000</td>\n",
       "      <td>0</td>\n",
       "      <td>1</td>\n",
       "      <td>1</td>\n",
       "    </tr>\n",
       "    <tr>\n",
       "      <th>887</th>\n",
       "      <td>888</td>\n",
       "      <td>1</td>\n",
       "      <td>1</td>\n",
       "      <td>19.0</td>\n",
       "      <td>0</td>\n",
       "      <td>0</td>\n",
       "      <td>30.0000</td>\n",
       "      <td>0</td>\n",
       "      <td>1</td>\n",
       "      <td>0</td>\n",
       "    </tr>\n",
       "    <tr>\n",
       "      <th>888</th>\n",
       "      <td>889</td>\n",
       "      <td>0</td>\n",
       "      <td>3</td>\n",
       "      <td>25.0</td>\n",
       "      <td>1</td>\n",
       "      <td>2</td>\n",
       "      <td>23.4500</td>\n",
       "      <td>0</td>\n",
       "      <td>1</td>\n",
       "      <td>0</td>\n",
       "    </tr>\n",
       "    <tr>\n",
       "      <th>889</th>\n",
       "      <td>890</td>\n",
       "      <td>1</td>\n",
       "      <td>1</td>\n",
       "      <td>26.0</td>\n",
       "      <td>0</td>\n",
       "      <td>0</td>\n",
       "      <td>30.0000</td>\n",
       "      <td>0</td>\n",
       "      <td>0</td>\n",
       "      <td>1</td>\n",
       "    </tr>\n",
       "    <tr>\n",
       "      <th>890</th>\n",
       "      <td>891</td>\n",
       "      <td>0</td>\n",
       "      <td>3</td>\n",
       "      <td>32.0</td>\n",
       "      <td>0</td>\n",
       "      <td>0</td>\n",
       "      <td>7.7500</td>\n",
       "      <td>1</td>\n",
       "      <td>0</td>\n",
       "      <td>1</td>\n",
       "    </tr>\n",
       "  </tbody>\n",
       "</table>\n",
       "<p>889 rows × 10 columns</p>\n",
       "</div>"
      ],
      "text/plain": [
       "     PassengerId  Survived  Pclass   Age  SibSp  Parch     Fare  Q  S  male\n",
       "0              1         0       3  22.0      1      0   7.2500  0  1     1\n",
       "1              2         1       1  38.0      1      0  71.2833  0  0     0\n",
       "2              3         1       3  26.0      0      0   7.9250  0  1     0\n",
       "3              4         1       1  35.0      1      0  53.1000  0  1     0\n",
       "4              5         0       3  35.0      0      0   8.0500  0  1     1\n",
       "..           ...       ...     ...   ...    ...    ...      ... .. ..   ...\n",
       "886          887         0       2  27.0      0      0  13.0000  0  1     1\n",
       "887          888         1       1  19.0      0      0  30.0000  0  1     0\n",
       "888          889         0       3  25.0      1      2  23.4500  0  1     0\n",
       "889          890         1       1  26.0      0      0  30.0000  0  0     1\n",
       "890          891         0       3  32.0      0      0   7.7500  1  0     1\n",
       "\n",
       "[889 rows x 10 columns]"
      ]
     },
     "execution_count": 26,
     "metadata": {},
     "output_type": "execute_result"
    }
   ],
   "source": [
    "train_df = pd.concat([train_df.drop(['Embarked','Sex','Name','Ticket'],axis=1),embarked_dummies, sex_dummies],axis=1)\n",
    "train_df"
   ]
  },
  {
   "cell_type": "markdown",
   "id": "1678eb1c",
   "metadata": {
    "papermill": {
     "duration": 0.0563,
     "end_time": "2021-10-18T09:10:02.618037",
     "exception": false,
     "start_time": "2021-10-18T09:10:02.561737",
     "status": "completed"
    },
    "tags": []
   },
   "source": [
    "# **Data Testing**"
   ]
  },
  {
   "cell_type": "markdown",
   "id": "1ac8ac3a",
   "metadata": {
    "papermill": {
     "duration": 0.05678,
     "end_time": "2021-10-18T09:10:02.732204",
     "exception": false,
     "start_time": "2021-10-18T09:10:02.675424",
     "status": "completed"
    },
    "tags": []
   },
   "source": [
    "**Cleaning the data**"
   ]
  },
  {
   "cell_type": "code",
   "execution_count": 27,
   "id": "665fc994",
   "metadata": {
    "execution": {
     "iopub.execute_input": "2021-10-18T09:10:02.851622Z",
     "iopub.status.busy": "2021-10-18T09:10:02.850996Z",
     "iopub.status.idle": "2021-10-18T09:10:03.398511Z",
     "shell.execute_reply": "2021-10-18T09:10:03.399019Z",
     "shell.execute_reply.started": "2021-10-18T08:56:58.535907Z"
    },
    "papermill": {
     "duration": 0.610348,
     "end_time": "2021-10-18T09:10:03.399188",
     "exception": false,
     "start_time": "2021-10-18T09:10:02.788840",
     "status": "completed"
    },
    "tags": []
   },
   "outputs": [
    {
     "data": {
      "text/plain": [
       "<AxesSubplot:>"
      ]
     },
     "execution_count": 27,
     "metadata": {},
     "output_type": "execute_result"
    },
    {
     "data": {
      "image/png": "[encoded data removed]",
      "text/plain": [
       "<Figure size 864x432 with 2 Axes>"
      ]
     },
     "metadata": {},
     "output_type": "display_data"
    }
   ],
   "source": [
    "plt.figure(figsize=(12,6))\n",
    "sns.heatmap(test_df.isnull())"
   ]
  },
  {
   "cell_type": "code",
   "execution_count": 28,
   "id": "21c3b3a7",
   "metadata": {
    "execution": {
     "iopub.execute_input": "2021-10-18T09:10:03.529138Z",
     "iopub.status.busy": "2021-10-18T09:10:03.525908Z",
     "iopub.status.idle": "2021-10-18T09:10:03.531925Z",
     "shell.execute_reply": "2021-10-18T09:10:03.531324Z",
     "shell.execute_reply.started": "2021-10-18T08:56:59.783676Z"
    },
    "papermill": {
     "duration": 0.075011,
     "end_time": "2021-10-18T09:10:03.532072",
     "exception": false,
     "start_time": "2021-10-18T09:10:03.457061",
     "status": "completed"
    },
    "tags": []
   },
   "outputs": [],
   "source": [
    "test_df['Age'] = test_df[['Age','Pclass']].apply(fill_age, axis=1)"
   ]
  },
  {
   "cell_type": "code",
   "execution_count": 29,
   "id": "aa711289",
   "metadata": {
    "execution": {
     "iopub.execute_input": "2021-10-18T09:10:03.651131Z",
     "iopub.status.busy": "2021-10-18T09:10:03.650172Z",
     "iopub.status.idle": "2021-10-18T09:10:03.654920Z",
     "shell.execute_reply": "2021-10-18T09:10:03.655375Z",
     "shell.execute_reply.started": "2021-10-18T08:57:03.383320Z"
    },
    "papermill": {
     "duration": 0.065915,
     "end_time": "2021-10-18T09:10:03.655546",
     "exception": false,
     "start_time": "2021-10-18T09:10:03.589631",
     "status": "completed"
    },
    "tags": []
   },
   "outputs": [],
   "source": [
    "test_df = test_df.drop('Cabin', axis=1)"
   ]
  },
  {
   "cell_type": "code",
   "execution_count": 30,
   "id": "f8734d47",
   "metadata": {
    "execution": {
     "iopub.execute_input": "2021-10-18T09:10:03.776695Z",
     "iopub.status.busy": "2021-10-18T09:10:03.775537Z",
     "iopub.status.idle": "2021-10-18T09:10:03.780101Z",
     "shell.execute_reply": "2021-10-18T09:10:03.780564Z",
     "shell.execute_reply.started": "2021-10-18T09:05:17.135469Z"
    },
    "papermill": {
     "duration": 0.066187,
     "end_time": "2021-10-18T09:10:03.780778",
     "exception": false,
     "start_time": "2021-10-18T09:10:03.714591",
     "status": "completed"
    },
    "tags": []
   },
   "outputs": [],
   "source": [
    "test_df = test_df.fillna(test_df['Fare'].mean())"
   ]
  },
  {
   "cell_type": "code",
   "execution_count": 31,
   "id": "477131ff",
   "metadata": {
    "execution": {
     "iopub.execute_input": "2021-10-18T09:10:03.899168Z",
     "iopub.status.busy": "2021-10-18T09:10:03.898398Z",
     "iopub.status.idle": "2021-10-18T09:10:04.573109Z",
     "shell.execute_reply": "2021-10-18T09:10:04.573739Z",
     "shell.execute_reply.started": "2021-10-18T09:05:20.655459Z"
    },
    "papermill": {
     "duration": 0.735595,
     "end_time": "2021-10-18T09:10:04.573913",
     "exception": false,
     "start_time": "2021-10-18T09:10:03.838318",
     "status": "completed"
    },
    "tags": []
   },
   "outputs": [
    {
     "data": {
      "text/plain": [
       "<AxesSubplot:>"
      ]
     },
     "execution_count": 31,
     "metadata": {},
     "output_type": "execute_result"
    },
    {
     "data": {
      "image/png": "[encoded data removed]",
      "text/plain": [
       "<Figure size 864x432 with 2 Axes>"
      ]
     },
     "metadata": {},
     "output_type": "display_data"
    }
   ],
   "source": [
    "plt.figure(figsize=(12,6))\n",
    "sns.heatmap(test_df.isnull())"
   ]
  },
  {
   "cell_type": "markdown",
   "id": "5e95405d",
   "metadata": {
    "papermill": {
     "duration": 0.066703,
     "end_time": "2021-10-18T09:10:04.700424",
     "exception": false,
     "start_time": "2021-10-18T09:10:04.633721",
     "status": "completed"
    },
    "tags": []
   },
   "source": [
    "**Dummies for categorized feature**"
   ]
  },
  {
   "cell_type": "code",
   "execution_count": 32,
   "id": "77191653",
   "metadata": {
    "execution": {
     "iopub.execute_input": "2021-10-18T09:10:04.847270Z",
     "iopub.status.busy": "2021-10-18T09:10:04.846307Z",
     "iopub.status.idle": "2021-10-18T09:10:04.854516Z",
     "shell.execute_reply": "2021-10-18T09:10:04.854009Z",
     "shell.execute_reply.started": "2021-10-18T09:05:25.252361Z"
    },
    "papermill": {
     "duration": 0.074514,
     "end_time": "2021-10-18T09:10:04.854678",
     "exception": false,
     "start_time": "2021-10-18T09:10:04.780164",
     "status": "completed"
    },
    "tags": []
   },
   "outputs": [
    {
     "data": {
      "text/plain": [
       "S    270\n",
       "C    102\n",
       "Q     46\n",
       "Name: Embarked, dtype: int64"
      ]
     },
     "execution_count": 32,
     "metadata": {},
     "output_type": "execute_result"
    }
   ],
   "source": [
    "test_df['Embarked'].value_counts()"
   ]
  },
  {
   "cell_type": "code",
   "execution_count": 33,
   "id": "c1400594",
   "metadata": {
    "execution": {
     "iopub.execute_input": "2021-10-18T09:10:04.986243Z",
     "iopub.status.busy": "2021-10-18T09:10:04.979083Z",
     "iopub.status.idle": "2021-10-18T09:10:04.989689Z",
     "shell.execute_reply": "2021-10-18T09:10:04.990361Z",
     "shell.execute_reply.started": "2021-10-18T09:05:27.641894Z"
    },
    "papermill": {
     "duration": 0.076261,
     "end_time": "2021-10-18T09:10:04.990542",
     "exception": false,
     "start_time": "2021-10-18T09:10:04.914281",
     "status": "completed"
    },
    "tags": []
   },
   "outputs": [
    {
     "data": {
      "text/html": [
       "<div>\n",
       "<style scoped>\n",
       "    .dataframe tbody tr th:only-of-type {\n",
       "        vertical-align: middle;\n",
       "    }\n",
       "\n",
       "    .dataframe tbody tr th {\n",
       "        vertical-align: top;\n",
       "    }\n",
       "\n",
       "    .dataframe thead th {\n",
       "        text-align: right;\n",
       "    }\n",
       "</style>\n",
       "<table border=\"1\" class=\"dataframe\">\n",
       "  <thead>\n",
       "    <tr style=\"text-align: right;\">\n",
       "      <th></th>\n",
       "      <th>Q</th>\n",
       "      <th>S</th>\n",
       "    </tr>\n",
       "  </thead>\n",
       "  <tbody>\n",
       "    <tr>\n",
       "      <th>0</th>\n",
       "      <td>1</td>\n",
       "      <td>0</td>\n",
       "    </tr>\n",
       "    <tr>\n",
       "      <th>1</th>\n",
       "      <td>0</td>\n",
       "      <td>1</td>\n",
       "    </tr>\n",
       "    <tr>\n",
       "      <th>2</th>\n",
       "      <td>1</td>\n",
       "      <td>0</td>\n",
       "    </tr>\n",
       "    <tr>\n",
       "      <th>3</th>\n",
       "      <td>0</td>\n",
       "      <td>1</td>\n",
       "    </tr>\n",
       "    <tr>\n",
       "      <th>4</th>\n",
       "      <td>0</td>\n",
       "      <td>1</td>\n",
       "    </tr>\n",
       "    <tr>\n",
       "      <th>...</th>\n",
       "      <td>...</td>\n",
       "      <td>...</td>\n",
       "    </tr>\n",
       "    <tr>\n",
       "      <th>413</th>\n",
       "      <td>0</td>\n",
       "      <td>1</td>\n",
       "    </tr>\n",
       "    <tr>\n",
       "      <th>414</th>\n",
       "      <td>0</td>\n",
       "      <td>0</td>\n",
       "    </tr>\n",
       "    <tr>\n",
       "      <th>415</th>\n",
       "      <td>0</td>\n",
       "      <td>1</td>\n",
       "    </tr>\n",
       "    <tr>\n",
       "      <th>416</th>\n",
       "      <td>0</td>\n",
       "      <td>1</td>\n",
       "    </tr>\n",
       "    <tr>\n",
       "      <th>417</th>\n",
       "      <td>0</td>\n",
       "      <td>0</td>\n",
       "    </tr>\n",
       "  </tbody>\n",
       "</table>\n",
       "<p>418 rows × 2 columns</p>\n",
       "</div>"
      ],
      "text/plain": [
       "     Q  S\n",
       "0    1  0\n",
       "1    0  1\n",
       "2    1  0\n",
       "3    0  1\n",
       "4    0  1\n",
       "..  .. ..\n",
       "413  0  1\n",
       "414  0  0\n",
       "415  0  1\n",
       "416  0  1\n",
       "417  0  0\n",
       "\n",
       "[418 rows x 2 columns]"
      ]
     },
     "execution_count": 33,
     "metadata": {},
     "output_type": "execute_result"
    }
   ],
   "source": [
    "embarked_dummies_test = pd.get_dummies(test_df['Embarked'], drop_first=True)\n",
    "embarked_dummies_test"
   ]
  },
  {
   "cell_type": "code",
   "execution_count": 34,
   "id": "07f5e428",
   "metadata": {
    "execution": {
     "iopub.execute_input": "2021-10-18T09:10:05.118825Z",
     "iopub.status.busy": "2021-10-18T09:10:05.117830Z",
     "iopub.status.idle": "2021-10-18T09:10:05.128291Z",
     "shell.execute_reply": "2021-10-18T09:10:05.127765Z",
     "shell.execute_reply.started": "2021-10-18T09:05:28.478427Z"
    },
    "papermill": {
     "duration": 0.076386,
     "end_time": "2021-10-18T09:10:05.128436",
     "exception": false,
     "start_time": "2021-10-18T09:10:05.052050",
     "status": "completed"
    },
    "tags": []
   },
   "outputs": [
    {
     "data": {
      "text/html": [
       "<div>\n",
       "<style scoped>\n",
       "    .dataframe tbody tr th:only-of-type {\n",
       "        vertical-align: middle;\n",
       "    }\n",
       "\n",
       "    .dataframe tbody tr th {\n",
       "        vertical-align: top;\n",
       "    }\n",
       "\n",
       "    .dataframe thead th {\n",
       "        text-align: right;\n",
       "    }\n",
       "</style>\n",
       "<table border=\"1\" class=\"dataframe\">\n",
       "  <thead>\n",
       "    <tr style=\"text-align: right;\">\n",
       "      <th></th>\n",
       "      <th>male</th>\n",
       "    </tr>\n",
       "  </thead>\n",
       "  <tbody>\n",
       "    <tr>\n",
       "      <th>0</th>\n",
       "      <td>1</td>\n",
       "    </tr>\n",
       "    <tr>\n",
       "      <th>1</th>\n",
       "      <td>0</td>\n",
       "    </tr>\n",
       "    <tr>\n",
       "      <th>2</th>\n",
       "      <td>1</td>\n",
       "    </tr>\n",
       "    <tr>\n",
       "      <th>3</th>\n",
       "      <td>1</td>\n",
       "    </tr>\n",
       "    <tr>\n",
       "      <th>4</th>\n",
       "      <td>0</td>\n",
       "    </tr>\n",
       "    <tr>\n",
       "      <th>...</th>\n",
       "      <td>...</td>\n",
       "    </tr>\n",
       "    <tr>\n",
       "      <th>413</th>\n",
       "      <td>1</td>\n",
       "    </tr>\n",
       "    <tr>\n",
       "      <th>414</th>\n",
       "      <td>0</td>\n",
       "    </tr>\n",
       "    <tr>\n",
       "      <th>415</th>\n",
       "      <td>1</td>\n",
       "    </tr>\n",
       "    <tr>\n",
       "      <th>416</th>\n",
       "      <td>1</td>\n",
       "    </tr>\n",
       "    <tr>\n",
       "      <th>417</th>\n",
       "      <td>1</td>\n",
       "    </tr>\n",
       "  </tbody>\n",
       "</table>\n",
       "<p>418 rows × 1 columns</p>\n",
       "</div>"
      ],
      "text/plain": [
       "     male\n",
       "0       1\n",
       "1       0\n",
       "2       1\n",
       "3       1\n",
       "4       0\n",
       "..    ...\n",
       "413     1\n",
       "414     0\n",
       "415     1\n",
       "416     1\n",
       "417     1\n",
       "\n",
       "[418 rows x 1 columns]"
      ]
     },
     "execution_count": 34,
     "metadata": {},
     "output_type": "execute_result"
    }
   ],
   "source": [
    "sex_dummies_test = pd.get_dummies(test_df['Sex'], drop_first=True)\n",
    "sex_dummies_test"
   ]
  },
  {
   "cell_type": "code",
   "execution_count": 35,
   "id": "0d361b9d",
   "metadata": {
    "execution": {
     "iopub.execute_input": "2021-10-18T09:10:05.270841Z",
     "iopub.status.busy": "2021-10-18T09:10:05.269951Z",
     "iopub.status.idle": "2021-10-18T09:10:05.273917Z",
     "shell.execute_reply": "2021-10-18T09:10:05.273255Z",
     "shell.execute_reply.started": "2021-10-18T09:05:29.356431Z"
    },
    "papermill": {
     "duration": 0.083894,
     "end_time": "2021-10-18T09:10:05.274064",
     "exception": false,
     "start_time": "2021-10-18T09:10:05.190170",
     "status": "completed"
    },
    "tags": []
   },
   "outputs": [
    {
     "data": {
      "text/html": [
       "<div>\n",
       "<style scoped>\n",
       "    .dataframe tbody tr th:only-of-type {\n",
       "        vertical-align: middle;\n",
       "    }\n",
       "\n",
       "    .dataframe tbody tr th {\n",
       "        vertical-align: top;\n",
       "    }\n",
       "\n",
       "    .dataframe thead th {\n",
       "        text-align: right;\n",
       "    }\n",
       "</style>\n",
       "<table border=\"1\" class=\"dataframe\">\n",
       "  <thead>\n",
       "    <tr style=\"text-align: right;\">\n",
       "      <th></th>\n",
       "      <th>PassengerId</th>\n",
       "      <th>Pclass</th>\n",
       "      <th>Age</th>\n",
       "      <th>SibSp</th>\n",
       "      <th>Parch</th>\n",
       "      <th>Fare</th>\n",
       "      <th>Q</th>\n",
       "      <th>S</th>\n",
       "      <th>male</th>\n",
       "    </tr>\n",
       "  </thead>\n",
       "  <tbody>\n",
       "    <tr>\n",
       "      <th>0</th>\n",
       "      <td>892</td>\n",
       "      <td>3</td>\n",
       "      <td>34.5</td>\n",
       "      <td>0</td>\n",
       "      <td>0</td>\n",
       "      <td>7.8292</td>\n",
       "      <td>1</td>\n",
       "      <td>0</td>\n",
       "      <td>1</td>\n",
       "    </tr>\n",
       "    <tr>\n",
       "      <th>1</th>\n",
       "      <td>893</td>\n",
       "      <td>3</td>\n",
       "      <td>47.0</td>\n",
       "      <td>1</td>\n",
       "      <td>0</td>\n",
       "      <td>7.0000</td>\n",
       "      <td>0</td>\n",
       "      <td>1</td>\n",
       "      <td>0</td>\n",
       "    </tr>\n",
       "    <tr>\n",
       "      <th>2</th>\n",
       "      <td>894</td>\n",
       "      <td>2</td>\n",
       "      <td>62.0</td>\n",
       "      <td>0</td>\n",
       "      <td>0</td>\n",
       "      <td>9.6875</td>\n",
       "      <td>1</td>\n",
       "      <td>0</td>\n",
       "      <td>1</td>\n",
       "    </tr>\n",
       "    <tr>\n",
       "      <th>3</th>\n",
       "      <td>895</td>\n",
       "      <td>3</td>\n",
       "      <td>27.0</td>\n",
       "      <td>0</td>\n",
       "      <td>0</td>\n",
       "      <td>8.6625</td>\n",
       "      <td>0</td>\n",
       "      <td>1</td>\n",
       "      <td>1</td>\n",
       "    </tr>\n",
       "    <tr>\n",
       "      <th>4</th>\n",
       "      <td>896</td>\n",
       "      <td>3</td>\n",
       "      <td>22.0</td>\n",
       "      <td>1</td>\n",
       "      <td>1</td>\n",
       "      <td>12.2875</td>\n",
       "      <td>0</td>\n",
       "      <td>1</td>\n",
       "      <td>0</td>\n",
       "    </tr>\n",
       "    <tr>\n",
       "      <th>...</th>\n",
       "      <td>...</td>\n",
       "      <td>...</td>\n",
       "      <td>...</td>\n",
       "      <td>...</td>\n",
       "      <td>...</td>\n",
       "      <td>...</td>\n",
       "      <td>...</td>\n",
       "      <td>...</td>\n",
       "      <td>...</td>\n",
       "    </tr>\n",
       "    <tr>\n",
       "      <th>413</th>\n",
       "      <td>1305</td>\n",
       "      <td>3</td>\n",
       "      <td>25.0</td>\n",
       "      <td>0</td>\n",
       "      <td>0</td>\n",
       "      <td>8.0500</td>\n",
       "      <td>0</td>\n",
       "      <td>1</td>\n",
       "      <td>1</td>\n",
       "    </tr>\n",
       "    <tr>\n",
       "      <th>414</th>\n",
       "      <td>1306</td>\n",
       "      <td>1</td>\n",
       "      <td>39.0</td>\n",
       "      <td>0</td>\n",
       "      <td>0</td>\n",
       "      <td>108.9000</td>\n",
       "      <td>0</td>\n",
       "      <td>0</td>\n",
       "      <td>0</td>\n",
       "    </tr>\n",
       "    <tr>\n",
       "      <th>415</th>\n",
       "      <td>1307</td>\n",
       "      <td>3</td>\n",
       "      <td>38.5</td>\n",
       "      <td>0</td>\n",
       "      <td>0</td>\n",
       "      <td>7.2500</td>\n",
       "      <td>0</td>\n",
       "      <td>1</td>\n",
       "      <td>1</td>\n",
       "    </tr>\n",
       "    <tr>\n",
       "      <th>416</th>\n",
       "      <td>1308</td>\n",
       "      <td>3</td>\n",
       "      <td>25.0</td>\n",
       "      <td>0</td>\n",
       "      <td>0</td>\n",
       "      <td>8.0500</td>\n",
       "      <td>0</td>\n",
       "      <td>1</td>\n",
       "      <td>1</td>\n",
       "    </tr>\n",
       "    <tr>\n",
       "      <th>417</th>\n",
       "      <td>1309</td>\n",
       "      <td>3</td>\n",
       "      <td>25.0</td>\n",
       "      <td>1</td>\n",
       "      <td>1</td>\n",
       "      <td>22.3583</td>\n",
       "      <td>0</td>\n",
       "      <td>0</td>\n",
       "      <td>1</td>\n",
       "    </tr>\n",
       "  </tbody>\n",
       "</table>\n",
       "<p>418 rows × 9 columns</p>\n",
       "</div>"
      ],
      "text/plain": [
       "     PassengerId  Pclass   Age  SibSp  Parch      Fare  Q  S  male\n",
       "0            892       3  34.5      0      0    7.8292  1  0     1\n",
       "1            893       3  47.0      1      0    7.0000  0  1     0\n",
       "2            894       2  62.0      0      0    9.6875  1  0     1\n",
       "3            895       3  27.0      0      0    8.6625  0  1     1\n",
       "4            896       3  22.0      1      1   12.2875  0  1     0\n",
       "..           ...     ...   ...    ...    ...       ... .. ..   ...\n",
       "413         1305       3  25.0      0      0    8.0500  0  1     1\n",
       "414         1306       1  39.0      0      0  108.9000  0  0     0\n",
       "415         1307       3  38.5      0      0    7.2500  0  1     1\n",
       "416         1308       3  25.0      0      0    8.0500  0  1     1\n",
       "417         1309       3  25.0      1      1   22.3583  0  0     1\n",
       "\n",
       "[418 rows x 9 columns]"
      ]
     },
     "execution_count": 35,
     "metadata": {},
     "output_type": "execute_result"
    }
   ],
   "source": [
    "test_df = pd.concat([test_df.drop(['Embarked','Sex','Name','Ticket'],axis=1),embarked_dummies_test, sex_dummies_test],axis=1)\n",
    "test_df"
   ]
  },
  {
   "cell_type": "code",
   "execution_count": 36,
   "id": "dde7fb66",
   "metadata": {
    "execution": {
     "iopub.execute_input": "2021-10-18T09:10:05.410386Z",
     "iopub.status.busy": "2021-10-18T09:10:05.409635Z",
     "iopub.status.idle": "2021-10-18T09:10:05.413792Z",
     "shell.execute_reply": "2021-10-18T09:10:05.413282Z",
     "shell.execute_reply.started": "2021-10-18T09:05:30.097552Z"
    },
    "papermill": {
     "duration": 0.078229,
     "end_time": "2021-10-18T09:10:05.413934",
     "exception": false,
     "start_time": "2021-10-18T09:10:05.335705",
     "status": "completed"
    },
    "tags": []
   },
   "outputs": [
    {
     "data": {
      "text/html": [
       "<div>\n",
       "<style scoped>\n",
       "    .dataframe tbody tr th:only-of-type {\n",
       "        vertical-align: middle;\n",
       "    }\n",
       "\n",
       "    .dataframe tbody tr th {\n",
       "        vertical-align: top;\n",
       "    }\n",
       "\n",
       "    .dataframe thead th {\n",
       "        text-align: right;\n",
       "    }\n",
       "</style>\n",
       "<table border=\"1\" class=\"dataframe\">\n",
       "  <thead>\n",
       "    <tr style=\"text-align: right;\">\n",
       "      <th></th>\n",
       "      <th>PassengerId</th>\n",
       "      <th>Survived</th>\n",
       "      <th>Pclass</th>\n",
       "      <th>Age</th>\n",
       "      <th>SibSp</th>\n",
       "      <th>Parch</th>\n",
       "      <th>Fare</th>\n",
       "      <th>Q</th>\n",
       "      <th>S</th>\n",
       "      <th>male</th>\n",
       "    </tr>\n",
       "  </thead>\n",
       "  <tbody>\n",
       "    <tr>\n",
       "      <th>0</th>\n",
       "      <td>1</td>\n",
       "      <td>0</td>\n",
       "      <td>3</td>\n",
       "      <td>22.0</td>\n",
       "      <td>1</td>\n",
       "      <td>0</td>\n",
       "      <td>7.2500</td>\n",
       "      <td>0</td>\n",
       "      <td>1</td>\n",
       "      <td>1</td>\n",
       "    </tr>\n",
       "    <tr>\n",
       "      <th>1</th>\n",
       "      <td>2</td>\n",
       "      <td>1</td>\n",
       "      <td>1</td>\n",
       "      <td>38.0</td>\n",
       "      <td>1</td>\n",
       "      <td>0</td>\n",
       "      <td>71.2833</td>\n",
       "      <td>0</td>\n",
       "      <td>0</td>\n",
       "      <td>0</td>\n",
       "    </tr>\n",
       "    <tr>\n",
       "      <th>2</th>\n",
       "      <td>3</td>\n",
       "      <td>1</td>\n",
       "      <td>3</td>\n",
       "      <td>26.0</td>\n",
       "      <td>0</td>\n",
       "      <td>0</td>\n",
       "      <td>7.9250</td>\n",
       "      <td>0</td>\n",
       "      <td>1</td>\n",
       "      <td>0</td>\n",
       "    </tr>\n",
       "    <tr>\n",
       "      <th>3</th>\n",
       "      <td>4</td>\n",
       "      <td>1</td>\n",
       "      <td>1</td>\n",
       "      <td>35.0</td>\n",
       "      <td>1</td>\n",
       "      <td>0</td>\n",
       "      <td>53.1000</td>\n",
       "      <td>0</td>\n",
       "      <td>1</td>\n",
       "      <td>0</td>\n",
       "    </tr>\n",
       "    <tr>\n",
       "      <th>4</th>\n",
       "      <td>5</td>\n",
       "      <td>0</td>\n",
       "      <td>3</td>\n",
       "      <td>35.0</td>\n",
       "      <td>0</td>\n",
       "      <td>0</td>\n",
       "      <td>8.0500</td>\n",
       "      <td>0</td>\n",
       "      <td>1</td>\n",
       "      <td>1</td>\n",
       "    </tr>\n",
       "  </tbody>\n",
       "</table>\n",
       "</div>"
      ],
      "text/plain": [
       "   PassengerId  Survived  Pclass   Age  SibSp  Parch     Fare  Q  S  male\n",
       "0            1         0       3  22.0      1      0   7.2500  0  1     1\n",
       "1            2         1       1  38.0      1      0  71.2833  0  0     0\n",
       "2            3         1       3  26.0      0      0   7.9250  0  1     0\n",
       "3            4         1       1  35.0      1      0  53.1000  0  1     0\n",
       "4            5         0       3  35.0      0      0   8.0500  0  1     1"
      ]
     },
     "execution_count": 36,
     "metadata": {},
     "output_type": "execute_result"
    }
   ],
   "source": [
    "train_df.head()"
   ]
  },
  {
   "cell_type": "markdown",
   "id": "45308f3f",
   "metadata": {
    "papermill": {
     "duration": 0.060706,
     "end_time": "2021-10-18T09:10:05.536337",
     "exception": false,
     "start_time": "2021-10-18T09:10:05.475631",
     "status": "completed"
    },
    "tags": []
   },
   "source": [
    "# **Modelling**"
   ]
  },
  {
   "cell_type": "code",
   "execution_count": 37,
   "id": "6c98c39f",
   "metadata": {
    "execution": {
     "iopub.execute_input": "2021-10-18T09:10:05.668395Z",
     "iopub.status.busy": "2021-10-18T09:10:05.667734Z",
     "iopub.status.idle": "2021-10-18T09:10:05.670225Z",
     "shell.execute_reply": "2021-10-18T09:10:05.670682Z",
     "shell.execute_reply.started": "2021-10-18T09:05:32.256440Z"
    },
    "papermill": {
     "duration": 0.073408,
     "end_time": "2021-10-18T09:10:05.670861",
     "exception": false,
     "start_time": "2021-10-18T09:10:05.597453",
     "status": "completed"
    },
    "tags": []
   },
   "outputs": [],
   "source": [
    "y = train_df['Survived']\n",
    "features = ['Pclass','Age','SibSp','Parch','Fare','Q','S','male']\n",
    "X = train_df[features]\n",
    "X_test = test_df[features]"
   ]
  },
  {
   "cell_type": "code",
   "execution_count": 38,
   "id": "19f09d7d",
   "metadata": {
    "execution": {
     "iopub.execute_input": "2021-10-18T09:10:05.798791Z",
     "iopub.status.busy": "2021-10-18T09:10:05.798122Z",
     "iopub.status.idle": "2021-10-18T09:10:06.167958Z",
     "shell.execute_reply": "2021-10-18T09:10:06.167321Z",
     "shell.execute_reply.started": "2021-10-18T09:05:34.515589Z"
    },
    "papermill": {
     "duration": 0.435763,
     "end_time": "2021-10-18T09:10:06.168100",
     "exception": false,
     "start_time": "2021-10-18T09:10:05.732337",
     "status": "completed"
    },
    "tags": []
   },
   "outputs": [],
   "source": [
    "from sklearn.ensemble import RandomForestClassifier"
   ]
  },
  {
   "cell_type": "code",
   "execution_count": 39,
   "id": "6c7aabba",
   "metadata": {
    "execution": {
     "iopub.execute_input": "2021-10-18T09:10:06.298318Z",
     "iopub.status.busy": "2021-10-18T09:10:06.297409Z",
     "iopub.status.idle": "2021-10-18T09:10:06.300376Z",
     "shell.execute_reply": "2021-10-18T09:10:06.299878Z",
     "shell.execute_reply.started": "2021-10-18T09:05:35.675574Z"
    },
    "papermill": {
     "duration": 0.069615,
     "end_time": "2021-10-18T09:10:06.300519",
     "exception": false,
     "start_time": "2021-10-18T09:10:06.230904",
     "status": "completed"
    },
    "tags": []
   },
   "outputs": [],
   "source": [
    "model = RandomForestClassifier(n_estimators=100, max_depth=5, random_state=1)"
   ]
  },
  {
   "cell_type": "code",
   "execution_count": 40,
   "id": "a6ea3f16",
   "metadata": {
    "execution": {
     "iopub.execute_input": "2021-10-18T09:10:06.438370Z",
     "iopub.status.busy": "2021-10-18T09:10:06.431935Z",
     "iopub.status.idle": "2021-10-18T09:10:06.644318Z",
     "shell.execute_reply": "2021-10-18T09:10:06.643365Z",
     "shell.execute_reply.started": "2021-10-18T09:05:36.475546Z"
    },
    "papermill": {
     "duration": 0.280862,
     "end_time": "2021-10-18T09:10:06.644470",
     "exception": false,
     "start_time": "2021-10-18T09:10:06.363608",
     "status": "completed"
    },
    "tags": []
   },
   "outputs": [
    {
     "data": {
      "text/plain": [
       "RandomForestClassifier(max_depth=5, random_state=1)"
      ]
     },
     "execution_count": 40,
     "metadata": {},
     "output_type": "execute_result"
    }
   ],
   "source": [
    "model.fit(X,y)"
   ]
  },
  {
   "cell_type": "code",
   "execution_count": 41,
   "id": "5293d86b",
   "metadata": {
    "execution": {
     "iopub.execute_input": "2021-10-18T09:10:06.773536Z",
     "iopub.status.busy": "2021-10-18T09:10:06.772877Z",
     "iopub.status.idle": "2021-10-18T09:10:06.790777Z",
     "shell.execute_reply": "2021-10-18T09:10:06.791318Z",
     "shell.execute_reply.started": "2021-10-18T09:05:37.415474Z"
    },
    "papermill": {
     "duration": 0.083681,
     "end_time": "2021-10-18T09:10:06.791506",
     "exception": false,
     "start_time": "2021-10-18T09:10:06.707825",
     "status": "completed"
    },
    "tags": []
   },
   "outputs": [],
   "source": [
    "predictions = model.predict(X_test)"
   ]
  },
  {
   "cell_type": "code",
   "execution_count": 42,
   "id": "a854ac39",
   "metadata": {
    "execution": {
     "iopub.execute_input": "2021-10-18T09:10:06.924839Z",
     "iopub.status.busy": "2021-10-18T09:10:06.924137Z",
     "iopub.status.idle": "2021-10-18T09:10:06.934798Z",
     "shell.execute_reply": "2021-10-18T09:10:06.934003Z",
     "shell.execute_reply.started": "2021-10-18T09:05:40.891709Z"
    },
    "papermill": {
     "duration": 0.079504,
     "end_time": "2021-10-18T09:10:06.934956",
     "exception": false,
     "start_time": "2021-10-18T09:10:06.855452",
     "status": "completed"
    },
    "tags": []
   },
   "outputs": [
    {
     "name": "stdout",
     "output_type": "stream",
     "text": [
      "Saved!\n"
     ]
    }
   ],
   "source": [
    "output = pd.DataFrame({'PassengerId': test_df.PassengerId, 'Survived': predictions})\n",
    "output.to_csv('submission.csv', index=False)\n",
    "print(\"Saved!\")"
   ]
  },
  {
   "cell_type": "code",
   "execution_count": 43,
   "id": "06d432ec",
   "metadata": {
    "execution": {
     "iopub.execute_input": "2021-10-18T09:10:07.066445Z",
     "iopub.status.busy": "2021-10-18T09:10:07.065813Z",
     "iopub.status.idle": "2021-10-18T09:10:07.071141Z",
     "shell.execute_reply": "2021-10-18T09:10:07.071666Z",
     "shell.execute_reply.started": "2021-10-18T09:05:44.816818Z"
    },
    "papermill": {
     "duration": 0.070713,
     "end_time": "2021-10-18T09:10:07.071847",
     "exception": false,
     "start_time": "2021-10-18T09:10:07.001134",
     "status": "completed"
    },
    "tags": []
   },
   "outputs": [],
   "source": [
    "output_df = pd.read_csv('./submission.csv')"
   ]
  },
  {
   "cell_type": "code",
   "execution_count": 44,
   "id": "9ea7848b",
   "metadata": {
    "execution": {
     "iopub.execute_input": "2021-10-18T09:10:07.199233Z",
     "iopub.status.busy": "2021-10-18T09:10:07.198464Z",
     "iopub.status.idle": "2021-10-18T09:10:07.207327Z",
     "shell.execute_reply": "2021-10-18T09:10:07.207830Z",
     "shell.execute_reply.started": "2021-10-18T09:05:46.355168Z"
    },
    "papermill": {
     "duration": 0.074115,
     "end_time": "2021-10-18T09:10:07.207998",
     "exception": false,
     "start_time": "2021-10-18T09:10:07.133883",
     "status": "completed"
    },
    "tags": []
   },
   "outputs": [
    {
     "data": {
      "text/html": [
       "<div>\n",
       "<style scoped>\n",
       "    .dataframe tbody tr th:only-of-type {\n",
       "        vertical-align: middle;\n",
       "    }\n",
       "\n",
       "    .dataframe tbody tr th {\n",
       "        vertical-align: top;\n",
       "    }\n",
       "\n",
       "    .dataframe thead th {\n",
       "        text-align: right;\n",
       "    }\n",
       "</style>\n",
       "<table border=\"1\" class=\"dataframe\">\n",
       "  <thead>\n",
       "    <tr style=\"text-align: right;\">\n",
       "      <th></th>\n",
       "      <th>PassengerId</th>\n",
       "      <th>Survived</th>\n",
       "    </tr>\n",
       "  </thead>\n",
       "  <tbody>\n",
       "    <tr>\n",
       "      <th>0</th>\n",
       "      <td>892</td>\n",
       "      <td>0</td>\n",
       "    </tr>\n",
       "    <tr>\n",
       "      <th>1</th>\n",
       "      <td>893</td>\n",
       "      <td>0</td>\n",
       "    </tr>\n",
       "    <tr>\n",
       "      <th>2</th>\n",
       "      <td>894</td>\n",
       "      <td>0</td>\n",
       "    </tr>\n",
       "    <tr>\n",
       "      <th>3</th>\n",
       "      <td>895</td>\n",
       "      <td>0</td>\n",
       "    </tr>\n",
       "    <tr>\n",
       "      <th>4</th>\n",
       "      <td>896</td>\n",
       "      <td>1</td>\n",
       "    </tr>\n",
       "    <tr>\n",
       "      <th>...</th>\n",
       "      <td>...</td>\n",
       "      <td>...</td>\n",
       "    </tr>\n",
       "    <tr>\n",
       "      <th>413</th>\n",
       "      <td>1305</td>\n",
       "      <td>0</td>\n",
       "    </tr>\n",
       "    <tr>\n",
       "      <th>414</th>\n",
       "      <td>1306</td>\n",
       "      <td>1</td>\n",
       "    </tr>\n",
       "    <tr>\n",
       "      <th>415</th>\n",
       "      <td>1307</td>\n",
       "      <td>0</td>\n",
       "    </tr>\n",
       "    <tr>\n",
       "      <th>416</th>\n",
       "      <td>1308</td>\n",
       "      <td>0</td>\n",
       "    </tr>\n",
       "    <tr>\n",
       "      <th>417</th>\n",
       "      <td>1309</td>\n",
       "      <td>0</td>\n",
       "    </tr>\n",
       "  </tbody>\n",
       "</table>\n",
       "<p>418 rows × 2 columns</p>\n",
       "</div>"
      ],
      "text/plain": [
       "     PassengerId  Survived\n",
       "0            892         0\n",
       "1            893         0\n",
       "2            894         0\n",
       "3            895         0\n",
       "4            896         1\n",
       "..           ...       ...\n",
       "413         1305         0\n",
       "414         1306         1\n",
       "415         1307         0\n",
       "416         1308         0\n",
       "417         1309         0\n",
       "\n",
       "[418 rows x 2 columns]"
      ]
     },
     "execution_count": 44,
     "metadata": {},
     "output_type": "execute_result"
    }
   ],
   "source": [
    "output_df"
   ]
  },
  {
   "cell_type": "code",
   "execution_count": null,
   "id": "af217261",
   "metadata": {
    "papermill": {
     "duration": 0.064117,
     "end_time": "2021-10-18T09:10:07.337158",
     "exception": false,
     "start_time": "2021-10-18T09:10:07.273041",
     "status": "completed"
    },
    "tags": []
   },
   "outputs": [],
   "source": []
  }
 ],
 "metadata": {
  "kernelspec": {
   "display_name": "Python 3",
   "language": "python",
   "name": "python3"
  },
  "language_info": {
   "codemirror_mode": {
    "name": "ipython",
    "version": 3
   },
   "file_extension": ".py",
   "mimetype": "text/x-python",
   "name": "python",
   "nbconvert_exporter": "python",
   "pygments_lexer": "ipython3",
   "version": "3.7.10"
  },
  "papermill": {
   "default_parameters": {},
   "duration": 23.457189,
   "end_time": "2021-10-18T09:10:08.110017",
   "environment_variables": {},
   "exception": null,
   "input_path": "__notebook__.ipynb",
   "output_path": "__notebook__.ipynb",
   "parameters": {},
   "start_time": "2021-10-18T09:09:44.652828",
   "version": "2.3.3"
  }
 },
 "nbformat": 4,
 "nbformat_minor": 5
}
