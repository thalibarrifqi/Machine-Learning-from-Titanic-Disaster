{
 "cells": [
  {
   "cell_type": "code",
   "execution_count": 1,
   "id": "c4ea0edc",
   "metadata": {
    "_cell_guid": "b1076dfc-b9ad-4769-8c92-a6c4dae69d19",
    "_uuid": "8f2839f25d086af736a60e9eeb907d3b93b6e0e5",
    "execution": {
     "iopub.execute_input": "2021-10-18T11:27:09.516535Z",
     "iopub.status.busy": "2021-10-18T11:27:09.515215Z",
     "iopub.status.idle": "2021-10-18T11:27:10.465241Z",
     "shell.execute_reply": "2021-10-18T11:27:10.464560Z",
     "shell.execute_reply.started": "2021-10-18T11:19:23.712295Z"
    },
    "papermill": {
     "duration": 1.000991,
     "end_time": "2021-10-18T11:27:10.465404",
     "exception": false,
     "start_time": "2021-10-18T11:27:09.464413",
     "status": "completed"
    },
    "tags": []
   },
   "outputs": [
    {
     "name": "stdout",
     "output_type": "stream",
     "text": [
      "/kaggle/input/titanic/train.csv\n",
      "/kaggle/input/titanic/test.csv\n",
      "/kaggle/input/titanic/gender_submission.csv\n"
     ]
    }
   ],
   "source": [
    "# This Python 3 environment comes with many helpful analytics libraries installed\n",
    "# It is defined by the kaggle/python Docker image: https://github.com/kaggle/docker-python\n",
    "# For example, here's several helpful packages to load\n",
    "\n",
    "import numpy as np # linear algebra\n",
    "import pandas as pd # data processing, CSV file I/O (e.g. pd.read_csv)\n",
    "import matplotlib.pyplot as plt\n",
    "import seaborn as sns\n",
    "# Input data files are available in the read-only \"../input/\" directory\n",
    "# For example, running this (by clicking run or pressing Shift+Enter) will list all files under the input directory\n",
    "\n",
    "import os\n",
    "for dirname, _, filenames in os.walk('/kaggle/input'):\n",
    "    for filename in filenames:\n",
    "        print(os.path.join(dirname, filename))\n",
    "\n",
    "# You can write up to 20GB to the current directory (/kaggle/working/) that gets preserved as output when you create a version using \"Save & Run All\" \n",
    "# You can also write temporary files to /kaggle/temp/, but they won't be saved outside of the current session"
   ]
  },
  {
   "cell_type": "markdown",
   "id": "75e344d8",
   "metadata": {
    "papermill": {
     "duration": 0.036921,
     "end_time": "2021-10-18T11:27:10.540828",
     "exception": false,
     "start_time": "2021-10-18T11:27:10.503907",
     "status": "completed"
    },
    "tags": []
   },
   "source": [
    "# **Load the data**"
   ]
  },
  {
   "cell_type": "code",
   "execution_count": 2,
   "id": "80649804",
   "metadata": {
    "execution": {
     "iopub.execute_input": "2021-10-18T11:27:10.622529Z",
     "iopub.status.busy": "2021-10-18T11:27:10.621559Z",
     "iopub.status.idle": "2021-10-18T11:27:10.642585Z",
     "shell.execute_reply": "2021-10-18T11:27:10.641997Z",
     "shell.execute_reply.started": "2021-10-18T11:19:24.119912Z"
    },
    "papermill": {
     "duration": 0.064737,
     "end_time": "2021-10-18T11:27:10.642729",
     "exception": false,
     "start_time": "2021-10-18T11:27:10.577992",
     "status": "completed"
    },
    "tags": []
   },
   "outputs": [],
   "source": [
    "train_df = pd.read_csv('../input/titanic/train.csv')"
   ]
  },
  {
   "cell_type": "code",
   "execution_count": 3,
   "id": "5b67a9e1",
   "metadata": {
    "execution": {
     "iopub.execute_input": "2021-10-18T11:27:10.727033Z",
     "iopub.status.busy": "2021-10-18T11:27:10.726330Z",
     "iopub.status.idle": "2021-10-18T11:27:10.744055Z",
     "shell.execute_reply": "2021-10-18T11:27:10.744569Z",
     "shell.execute_reply.started": "2021-10-18T11:19:24.134351Z"
    },
    "papermill": {
     "duration": 0.064538,
     "end_time": "2021-10-18T11:27:10.744735",
     "exception": false,
     "start_time": "2021-10-18T11:27:10.680197",
     "status": "completed"
    },
    "tags": []
   },
   "outputs": [
    {
     "data": {
      "text/html": [
       "<div>\n",
       "<style scoped>\n",
       "    .dataframe tbody tr th:only-of-type {\n",
       "        vertical-align: middle;\n",
       "    }\n",
       "\n",
       "    .dataframe tbody tr th {\n",
       "        vertical-align: top;\n",
       "    }\n",
       "\n",
       "    .dataframe thead th {\n",
       "        text-align: right;\n",
       "    }\n",
       "</style>\n",
       "<table border=\"1\" class=\"dataframe\">\n",
       "  <thead>\n",
       "    <tr style=\"text-align: right;\">\n",
       "      <th></th>\n",
       "      <th>PassengerId</th>\n",
       "      <th>Survived</th>\n",
       "      <th>Pclass</th>\n",
       "      <th>Name</th>\n",
       "      <th>Sex</th>\n",
       "      <th>Age</th>\n",
       "      <th>SibSp</th>\n",
       "      <th>Parch</th>\n",
       "      <th>Ticket</th>\n",
       "      <th>Fare</th>\n",
       "      <th>Cabin</th>\n",
       "      <th>Embarked</th>\n",
       "    </tr>\n",
       "  </thead>\n",
       "  <tbody>\n",
       "    <tr>\n",
       "      <th>0</th>\n",
       "      <td>1</td>\n",
       "      <td>0</td>\n",
       "      <td>3</td>\n",
       "      <td>Braund, Mr. Owen Harris</td>\n",
       "      <td>male</td>\n",
       "      <td>22.0</td>\n",
       "      <td>1</td>\n",
       "      <td>0</td>\n",
       "      <td>A/5 21171</td>\n",
       "      <td>7.2500</td>\n",
       "      <td>NaN</td>\n",
       "      <td>S</td>\n",
       "    </tr>\n",
       "    <tr>\n",
       "      <th>1</th>\n",
       "      <td>2</td>\n",
       "      <td>1</td>\n",
       "      <td>1</td>\n",
       "      <td>Cumings, Mrs. John Bradley (Florence Briggs Th...</td>\n",
       "      <td>female</td>\n",
       "      <td>38.0</td>\n",
       "      <td>1</td>\n",
       "      <td>0</td>\n",
       "      <td>PC 17599</td>\n",
       "      <td>71.2833</td>\n",
       "      <td>C85</td>\n",
       "      <td>C</td>\n",
       "    </tr>\n",
       "    <tr>\n",
       "      <th>2</th>\n",
       "      <td>3</td>\n",
       "      <td>1</td>\n",
       "      <td>3</td>\n",
       "      <td>Heikkinen, Miss. Laina</td>\n",
       "      <td>female</td>\n",
       "      <td>26.0</td>\n",
       "      <td>0</td>\n",
       "      <td>0</td>\n",
       "      <td>STON/O2. 3101282</td>\n",
       "      <td>7.9250</td>\n",
       "      <td>NaN</td>\n",
       "      <td>S</td>\n",
       "    </tr>\n",
       "    <tr>\n",
       "      <th>3</th>\n",
       "      <td>4</td>\n",
       "      <td>1</td>\n",
       "      <td>1</td>\n",
       "      <td>Futrelle, Mrs. Jacques Heath (Lily May Peel)</td>\n",
       "      <td>female</td>\n",
       "      <td>35.0</td>\n",
       "      <td>1</td>\n",
       "      <td>0</td>\n",
       "      <td>113803</td>\n",
       "      <td>53.1000</td>\n",
       "      <td>C123</td>\n",
       "      <td>S</td>\n",
       "    </tr>\n",
       "    <tr>\n",
       "      <th>4</th>\n",
       "      <td>5</td>\n",
       "      <td>0</td>\n",
       "      <td>3</td>\n",
       "      <td>Allen, Mr. William Henry</td>\n",
       "      <td>male</td>\n",
       "      <td>35.0</td>\n",
       "      <td>0</td>\n",
       "      <td>0</td>\n",
       "      <td>373450</td>\n",
       "      <td>8.0500</td>\n",
       "      <td>NaN</td>\n",
       "      <td>S</td>\n",
       "    </tr>\n",
       "  </tbody>\n",
       "</table>\n",
       "</div>"
      ],
      "text/plain": [
       "   PassengerId  Survived  Pclass  \\\n",
       "0            1         0       3   \n",
       "1            2         1       1   \n",
       "2            3         1       3   \n",
       "3            4         1       1   \n",
       "4            5         0       3   \n",
       "\n",
       "                                                Name     Sex   Age  SibSp  \\\n",
       "0                            Braund, Mr. Owen Harris    male  22.0      1   \n",
       "1  Cumings, Mrs. John Bradley (Florence Briggs Th...  female  38.0      1   \n",
       "2                             Heikkinen, Miss. Laina  female  26.0      0   \n",
       "3       Futrelle, Mrs. Jacques Heath (Lily May Peel)  female  35.0      1   \n",
       "4                           Allen, Mr. William Henry    male  35.0      0   \n",
       "\n",
       "   Parch            Ticket     Fare Cabin Embarked  \n",
       "0      0         A/5 21171   7.2500   NaN        S  \n",
       "1      0          PC 17599  71.2833   C85        C  \n",
       "2      0  STON/O2. 3101282   7.9250   NaN        S  \n",
       "3      0            113803  53.1000  C123        S  \n",
       "4      0            373450   8.0500   NaN        S  "
      ]
     },
     "execution_count": 3,
     "metadata": {},
     "output_type": "execute_result"
    }
   ],
   "source": [
    "train_df.head()"
   ]
  },
  {
   "cell_type": "code",
   "execution_count": 4,
   "id": "8e648b39",
   "metadata": {
    "execution": {
     "iopub.execute_input": "2021-10-18T11:27:10.824967Z",
     "iopub.status.busy": "2021-10-18T11:27:10.823313Z",
     "iopub.status.idle": "2021-10-18T11:27:10.837226Z",
     "shell.execute_reply": "2021-10-18T11:27:10.837845Z",
     "shell.execute_reply.started": "2021-10-18T11:19:24.157355Z"
    },
    "papermill": {
     "duration": 0.055623,
     "end_time": "2021-10-18T11:27:10.838052",
     "exception": false,
     "start_time": "2021-10-18T11:27:10.782429",
     "status": "completed"
    },
    "tags": []
   },
   "outputs": [],
   "source": [
    "test_df = pd.read_csv('../input/titanic/test.csv')"
   ]
  },
  {
   "cell_type": "code",
   "execution_count": 5,
   "id": "bfd7ba9e",
   "metadata": {
    "execution": {
     "iopub.execute_input": "2021-10-18T11:27:10.919088Z",
     "iopub.status.busy": "2021-10-18T11:27:10.918383Z",
     "iopub.status.idle": "2021-10-18T11:27:10.934131Z",
     "shell.execute_reply": "2021-10-18T11:27:10.933588Z",
     "shell.execute_reply.started": "2021-10-18T11:19:24.171427Z"
    },
    "papermill": {
     "duration": 0.057193,
     "end_time": "2021-10-18T11:27:10.934279",
     "exception": false,
     "start_time": "2021-10-18T11:27:10.877086",
     "status": "completed"
    },
    "tags": []
   },
   "outputs": [
    {
     "data": {
      "text/html": [
       "<div>\n",
       "<style scoped>\n",
       "    .dataframe tbody tr th:only-of-type {\n",
       "        vertical-align: middle;\n",
       "    }\n",
       "\n",
       "    .dataframe tbody tr th {\n",
       "        vertical-align: top;\n",
       "    }\n",
       "\n",
       "    .dataframe thead th {\n",
       "        text-align: right;\n",
       "    }\n",
       "</style>\n",
       "<table border=\"1\" class=\"dataframe\">\n",
       "  <thead>\n",
       "    <tr style=\"text-align: right;\">\n",
       "      <th></th>\n",
       "      <th>PassengerId</th>\n",
       "      <th>Pclass</th>\n",
       "      <th>Name</th>\n",
       "      <th>Sex</th>\n",
       "      <th>Age</th>\n",
       "      <th>SibSp</th>\n",
       "      <th>Parch</th>\n",
       "      <th>Ticket</th>\n",
       "      <th>Fare</th>\n",
       "      <th>Cabin</th>\n",
       "      <th>Embarked</th>\n",
       "    </tr>\n",
       "  </thead>\n",
       "  <tbody>\n",
       "    <tr>\n",
       "      <th>0</th>\n",
       "      <td>892</td>\n",
       "      <td>3</td>\n",
       "      <td>Kelly, Mr. James</td>\n",
       "      <td>male</td>\n",
       "      <td>34.5</td>\n",
       "      <td>0</td>\n",
       "      <td>0</td>\n",
       "      <td>330911</td>\n",
       "      <td>7.8292</td>\n",
       "      <td>NaN</td>\n",
       "      <td>Q</td>\n",
       "    </tr>\n",
       "    <tr>\n",
       "      <th>1</th>\n",
       "      <td>893</td>\n",
       "      <td>3</td>\n",
       "      <td>Wilkes, Mrs. James (Ellen Needs)</td>\n",
       "      <td>female</td>\n",
       "      <td>47.0</td>\n",
       "      <td>1</td>\n",
       "      <td>0</td>\n",
       "      <td>363272</td>\n",
       "      <td>7.0000</td>\n",
       "      <td>NaN</td>\n",
       "      <td>S</td>\n",
       "    </tr>\n",
       "    <tr>\n",
       "      <th>2</th>\n",
       "      <td>894</td>\n",
       "      <td>2</td>\n",
       "      <td>Myles, Mr. Thomas Francis</td>\n",
       "      <td>male</td>\n",
       "      <td>62.0</td>\n",
       "      <td>0</td>\n",
       "      <td>0</td>\n",
       "      <td>240276</td>\n",
       "      <td>9.6875</td>\n",
       "      <td>NaN</td>\n",
       "      <td>Q</td>\n",
       "    </tr>\n",
       "    <tr>\n",
       "      <th>3</th>\n",
       "      <td>895</td>\n",
       "      <td>3</td>\n",
       "      <td>Wirz, Mr. Albert</td>\n",
       "      <td>male</td>\n",
       "      <td>27.0</td>\n",
       "      <td>0</td>\n",
       "      <td>0</td>\n",
       "      <td>315154</td>\n",
       "      <td>8.6625</td>\n",
       "      <td>NaN</td>\n",
       "      <td>S</td>\n",
       "    </tr>\n",
       "    <tr>\n",
       "      <th>4</th>\n",
       "      <td>896</td>\n",
       "      <td>3</td>\n",
       "      <td>Hirvonen, Mrs. Alexander (Helga E Lindqvist)</td>\n",
       "      <td>female</td>\n",
       "      <td>22.0</td>\n",
       "      <td>1</td>\n",
       "      <td>1</td>\n",
       "      <td>3101298</td>\n",
       "      <td>12.2875</td>\n",
       "      <td>NaN</td>\n",
       "      <td>S</td>\n",
       "    </tr>\n",
       "  </tbody>\n",
       "</table>\n",
       "</div>"
      ],
      "text/plain": [
       "   PassengerId  Pclass                                          Name     Sex  \\\n",
       "0          892       3                              Kelly, Mr. James    male   \n",
       "1          893       3              Wilkes, Mrs. James (Ellen Needs)  female   \n",
       "2          894       2                     Myles, Mr. Thomas Francis    male   \n",
       "3          895       3                              Wirz, Mr. Albert    male   \n",
       "4          896       3  Hirvonen, Mrs. Alexander (Helga E Lindqvist)  female   \n",
       "\n",
       "    Age  SibSp  Parch   Ticket     Fare Cabin Embarked  \n",
       "0  34.5      0      0   330911   7.8292   NaN        Q  \n",
       "1  47.0      1      0   363272   7.0000   NaN        S  \n",
       "2  62.0      0      0   240276   9.6875   NaN        Q  \n",
       "3  27.0      0      0   315154   8.6625   NaN        S  \n",
       "4  22.0      1      1  3101298  12.2875   NaN        S  "
      ]
     },
     "execution_count": 5,
     "metadata": {},
     "output_type": "execute_result"
    }
   ],
   "source": [
    "test_df.head()"
   ]
  },
  {
   "cell_type": "markdown",
   "id": "05aa7a47",
   "metadata": {
    "papermill": {
     "duration": 0.038782,
     "end_time": "2021-10-18T11:27:11.012086",
     "exception": false,
     "start_time": "2021-10-18T11:27:10.973304",
     "status": "completed"
    },
    "tags": []
   },
   "source": [
    "# **Data Training**"
   ]
  },
  {
   "cell_type": "markdown",
   "id": "df3ab180",
   "metadata": {
    "papermill": {
     "duration": 0.104845,
     "end_time": "2021-10-18T11:27:11.155969",
     "exception": false,
     "start_time": "2021-10-18T11:27:11.051124",
     "status": "completed"
    },
    "tags": []
   },
   "source": [
    "**1. Exploratory Data Analysis**"
   ]
  },
  {
   "cell_type": "code",
   "execution_count": 6,
   "id": "ada54705",
   "metadata": {
    "execution": {
     "iopub.execute_input": "2021-10-18T11:27:11.237721Z",
     "iopub.status.busy": "2021-10-18T11:27:11.236651Z",
     "iopub.status.idle": "2021-10-18T11:27:11.960596Z",
     "shell.execute_reply": "2021-10-18T11:27:11.959940Z",
     "shell.execute_reply.started": "2021-10-18T11:19:24.188476Z"
    },
    "papermill": {
     "duration": 0.766312,
     "end_time": "2021-10-18T11:27:11.960829",
     "exception": false,
     "start_time": "2021-10-18T11:27:11.194517",
     "status": "completed"
    },
    "tags": []
   },
   "outputs": [
    {
     "data": {
      "text/plain": [
       "<AxesSubplot:>"
      ]
     },
     "execution_count": 6,
     "metadata": {},
     "output_type": "execute_result"
    },
    {
     "data": {
      "image/png": "[encoded data removed]",
      "text/plain": [
       "<Figure size 720x432 with 2 Axes>"
      ]
     },
     "metadata": {
      "needs_background": "light"
     },
     "output_type": "display_data"
    }
   ],
   "source": [
    "plt.figure(figsize=(10,6))\n",
    "sns.heatmap(train_df.isnull(), cmap='YlGnBu')"
   ]
  },
  {
   "cell_type": "code",
   "execution_count": 7,
   "id": "56801901",
   "metadata": {
    "execution": {
     "iopub.execute_input": "2021-10-18T11:27:12.063611Z",
     "iopub.status.busy": "2021-10-18T11:27:12.058790Z",
     "iopub.status.idle": "2021-10-18T11:27:12.301269Z",
     "shell.execute_reply": "2021-10-18T11:27:12.300699Z",
     "shell.execute_reply.started": "2021-10-18T11:19:24.841033Z"
    },
    "papermill": {
     "duration": 0.29779,
     "end_time": "2021-10-18T11:27:12.301421",
     "exception": false,
     "start_time": "2021-10-18T11:27:12.003631",
     "status": "completed"
    },
    "tags": []
   },
   "outputs": [
    {
     "data": {
      "text/plain": [
       "<AxesSubplot:xlabel='Survived', ylabel='count'>"
      ]
     },
     "execution_count": 7,
     "metadata": {},
     "output_type": "execute_result"
    },
    {
     "data": {
      "image/png": "[encoded data removed]",
      "text/plain": [
       "<Figure size 720x432 with 1 Axes>"
      ]
     },
     "metadata": {},
     "output_type": "display_data"
    }
   ],
   "source": [
    "sns.set_style('whitegrid')\n",
    "plt.figure(figsize=(10,6))\n",
    "sns.countplot(data=train_df, x='Survived', hue='Sex')"
   ]
  },
  {
   "cell_type": "markdown",
   "id": "40ded694",
   "metadata": {
    "papermill": {
     "duration": 0.040751,
     "end_time": "2021-10-18T11:27:12.383348",
     "exception": false,
     "start_time": "2021-10-18T11:27:12.342597",
     "status": "completed"
    },
    "tags": []
   },
   "source": [
    "Female passengers are more likely to survive"
   ]
  },
  {
   "cell_type": "code",
   "execution_count": 8,
   "id": "dd4e3cab",
   "metadata": {
    "execution": {
     "iopub.execute_input": "2021-10-18T11:27:12.469540Z",
     "iopub.status.busy": "2021-10-18T11:27:12.468558Z",
     "iopub.status.idle": "2021-10-18T11:27:12.734172Z",
     "shell.execute_reply": "2021-10-18T11:27:12.733580Z",
     "shell.execute_reply.started": "2021-10-18T11:19:25.038093Z"
    },
    "papermill": {
     "duration": 0.309766,
     "end_time": "2021-10-18T11:27:12.734324",
     "exception": false,
     "start_time": "2021-10-18T11:27:12.424558",
     "status": "completed"
    },
    "tags": []
   },
   "outputs": [
    {
     "data": {
      "text/plain": [
       "<AxesSubplot:xlabel='Survived', ylabel='count'>"
      ]
     },
     "execution_count": 8,
     "metadata": {},
     "output_type": "execute_result"
    },
    {
     "data": {
      "image/png": "[encoded data removed]",
      "text/plain": [
       "<Figure size 720x432 with 1 Axes>"
      ]
     },
     "metadata": {},
     "output_type": "display_data"
    }
   ],
   "source": [
    "plt.figure(figsize=(10,6))\n",
    "sns.countplot(data=train_df, x='Survived', hue='Pclass')"
   ]
  },
  {
   "cell_type": "markdown",
   "id": "3a56b96b",
   "metadata": {
    "papermill": {
     "duration": 0.041662,
     "end_time": "2021-10-18T11:27:12.818326",
     "exception": false,
     "start_time": "2021-10-18T11:27:12.776664",
     "status": "completed"
    },
    "tags": []
   },
   "source": [
    "3rd class passengers have more chances of not survive"
   ]
  },
  {
   "cell_type": "code",
   "execution_count": 9,
   "id": "9e2e5c7b",
   "metadata": {
    "execution": {
     "iopub.execute_input": "2021-10-18T11:27:12.946589Z",
     "iopub.status.busy": "2021-10-18T11:27:12.916154Z",
     "iopub.status.idle": "2021-10-18T11:27:13.388132Z",
     "shell.execute_reply": "2021-10-18T11:27:13.387469Z",
     "shell.execute_reply.started": "2021-10-18T11:19:25.257303Z"
    },
    "papermill": {
     "duration": 0.526837,
     "end_time": "2021-10-18T11:27:13.388291",
     "exception": false,
     "start_time": "2021-10-18T11:27:12.861454",
     "status": "completed"
    },
    "tags": []
   },
   "outputs": [
    {
     "data": {
      "text/plain": [
       "<seaborn.axisgrid.FacetGrid at 0x7fc1c82a5490>"
      ]
     },
     "execution_count": 9,
     "metadata": {},
     "output_type": "execute_result"
    },
    {
     "data": {
      "image/png": "[encoded data removed]",
      "text/plain": [
       "<Figure size 360x360 with 1 Axes>"
      ]
     },
     "metadata": {},
     "output_type": "display_data"
    }
   ],
   "source": [
    "sns.displot(train_df['Age'].dropna(), kde=False, bins=35)"
   ]
  },
  {
   "cell_type": "code",
   "execution_count": 10,
   "id": "16111dde",
   "metadata": {
    "execution": {
     "iopub.execute_input": "2021-10-18T11:27:13.478734Z",
     "iopub.status.busy": "2021-10-18T11:27:13.477719Z",
     "iopub.status.idle": "2021-10-18T11:27:13.698808Z",
     "shell.execute_reply": "2021-10-18T11:27:13.699312Z",
     "shell.execute_reply.started": "2021-10-18T11:19:25.732094Z"
    },
    "papermill": {
     "duration": 0.267986,
     "end_time": "2021-10-18T11:27:13.699496",
     "exception": false,
     "start_time": "2021-10-18T11:27:13.431510",
     "status": "completed"
    },
    "tags": []
   },
   "outputs": [
    {
     "data": {
      "text/plain": [
       "<AxesSubplot:xlabel='SibSp', ylabel='count'>"
      ]
     },
     "execution_count": 10,
     "metadata": {},
     "output_type": "execute_result"
    },
    {
     "data": {
      "image/png": "[encoded data removed]",
      "text/plain": [
       "<Figure size 720x432 with 1 Axes>"
      ]
     },
     "metadata": {},
     "output_type": "display_data"
    }
   ],
   "source": [
    "plt.figure(figsize=(10,6))\n",
    "sns.countplot(data=train_df, x='SibSp')"
   ]
  },
  {
   "cell_type": "code",
   "execution_count": 11,
   "id": "a26c79fc",
   "metadata": {
    "execution": {
     "iopub.execute_input": "2021-10-18T11:27:13.792633Z",
     "iopub.status.busy": "2021-10-18T11:27:13.791636Z",
     "iopub.status.idle": "2021-10-18T11:27:14.016292Z",
     "shell.execute_reply": "2021-10-18T11:27:14.015644Z",
     "shell.execute_reply.started": "2021-10-18T11:19:25.961188Z"
    },
    "papermill": {
     "duration": 0.272346,
     "end_time": "2021-10-18T11:27:14.016459",
     "exception": false,
     "start_time": "2021-10-18T11:27:13.744113",
     "status": "completed"
    },
    "tags": []
   },
   "outputs": [
    {
     "data": {
      "text/plain": [
       "<AxesSubplot:xlabel='Pclass', ylabel='Age'>"
      ]
     },
     "execution_count": 11,
     "metadata": {},
     "output_type": "execute_result"
    },
    {
     "data": {
      "image/png": "[encoded data removed]",
      "text/plain": [
       "<Figure size 720x432 with 1 Axes>"
      ]
     },
     "metadata": {},
     "output_type": "display_data"
    }
   ],
   "source": [
    "plt.figure(figsize=(10,6))\n",
    "sns.boxplot(data=train_df, x='Pclass', y='Age')"
   ]
  },
  {
   "cell_type": "code",
   "execution_count": 12,
   "id": "b6ab3657",
   "metadata": {
    "execution": {
     "iopub.execute_input": "2021-10-18T11:27:14.113227Z",
     "iopub.status.busy": "2021-10-18T11:27:14.112219Z",
     "iopub.status.idle": "2021-10-18T11:27:14.409112Z",
     "shell.execute_reply": "2021-10-18T11:27:14.408534Z",
     "shell.execute_reply.started": "2021-10-18T11:19:26.184288Z"
    },
    "papermill": {
     "duration": 0.347127,
     "end_time": "2021-10-18T11:27:14.409270",
     "exception": false,
     "start_time": "2021-10-18T11:27:14.062143",
     "status": "completed"
    },
    "tags": []
   },
   "outputs": [
    {
     "data": {
      "text/plain": [
       "<AxesSubplot:xlabel='Age', ylabel='Fare'>"
      ]
     },
     "execution_count": 12,
     "metadata": {},
     "output_type": "execute_result"
    },
    {
     "data": {
      "image/png": "[encoded data removed]",
      "text/plain": [
       "<Figure size 720x432 with 1 Axes>"
      ]
     },
     "metadata": {},
     "output_type": "display_data"
    }
   ],
   "source": [
    "plt.figure(figsize=(10,6))\n",
    "sns.scatterplot(data=train_df, x='Age', y='Fare')"
   ]
  },
  {
   "cell_type": "markdown",
   "id": "effff54e",
   "metadata": {
    "papermill": {
     "duration": 0.047663,
     "end_time": "2021-10-18T11:27:14.504163",
     "exception": false,
     "start_time": "2021-10-18T11:27:14.456500",
     "status": "completed"
    },
    "tags": []
   },
   "source": [
    "**2. Fill the missing values**"
   ]
  },
  {
   "cell_type": "code",
   "execution_count": 13,
   "id": "5bb1a842",
   "metadata": {
    "execution": {
     "iopub.execute_input": "2021-10-18T11:27:14.600789Z",
     "iopub.status.busy": "2021-10-18T11:27:14.600147Z",
     "iopub.status.idle": "2021-10-18T11:27:14.609447Z",
     "shell.execute_reply": "2021-10-18T11:27:14.610048Z",
     "shell.execute_reply.started": "2021-10-18T11:19:26.488695Z"
    },
    "papermill": {
     "duration": 0.059466,
     "end_time": "2021-10-18T11:27:14.610217",
     "exception": false,
     "start_time": "2021-10-18T11:27:14.550751",
     "status": "completed"
    },
    "tags": []
   },
   "outputs": [
    {
     "data": {
      "text/plain": [
       "Pclass\n",
       "1    38.233441\n",
       "2    29.877630\n",
       "3    25.140620\n",
       "Name: Age, dtype: float64"
      ]
     },
     "execution_count": 13,
     "metadata": {},
     "output_type": "execute_result"
    }
   ],
   "source": [
    "age_by_class = train_df.groupby('Pclass')['Age'].mean()\n",
    "age_by_class"
   ]
  },
  {
   "cell_type": "code",
   "execution_count": 14,
   "id": "94826920",
   "metadata": {
    "execution": {
     "iopub.execute_input": "2021-10-18T11:27:14.707616Z",
     "iopub.status.busy": "2021-10-18T11:27:14.706984Z",
     "iopub.status.idle": "2021-10-18T11:27:14.711499Z",
     "shell.execute_reply": "2021-10-18T11:27:14.712102Z",
     "shell.execute_reply.started": "2021-10-18T11:19:26.500913Z"
    },
    "papermill": {
     "duration": 0.054779,
     "end_time": "2021-10-18T11:27:14.712273",
     "exception": false,
     "start_time": "2021-10-18T11:27:14.657494",
     "status": "completed"
    },
    "tags": []
   },
   "outputs": [],
   "source": [
    "def fill_age(x):\n",
    "    Age = x[0]\n",
    "    Pclass = x[1]\n",
    "    if pd.isnull(Age):\n",
    "        if(Pclass==1):\n",
    "            return 38\n",
    "        elif(Pclass==2):\n",
    "            return 30\n",
    "        else:\n",
    "            return 25\n",
    "    return Age"
   ]
  },
  {
   "cell_type": "code",
   "execution_count": 15,
   "id": "b149c6e1",
   "metadata": {
    "execution": {
     "iopub.execute_input": "2021-10-18T11:27:14.810396Z",
     "iopub.status.busy": "2021-10-18T11:27:14.809621Z",
     "iopub.status.idle": "2021-10-18T11:27:14.830639Z",
     "shell.execute_reply": "2021-10-18T11:27:14.831218Z",
     "shell.execute_reply.started": "2021-10-18T11:19:26.512389Z"
    },
    "papermill": {
     "duration": 0.071782,
     "end_time": "2021-10-18T11:27:14.831409",
     "exception": false,
     "start_time": "2021-10-18T11:27:14.759627",
     "status": "completed"
    },
    "tags": []
   },
   "outputs": [],
   "source": [
    "train_df['Age'] = train_df[['Age', 'Pclass']].apply(fill_age, axis=1)"
   ]
  },
  {
   "cell_type": "code",
   "execution_count": 16,
   "id": "97e10286",
   "metadata": {
    "execution": {
     "iopub.execute_input": "2021-10-18T11:27:14.929985Z",
     "iopub.status.busy": "2021-10-18T11:27:14.929316Z",
     "iopub.status.idle": "2021-10-18T11:27:14.933621Z",
     "shell.execute_reply": "2021-10-18T11:27:14.934339Z",
     "shell.execute_reply.started": "2021-10-18T11:19:26.543457Z"
    },
    "papermill": {
     "duration": 0.055403,
     "end_time": "2021-10-18T11:27:14.934534",
     "exception": false,
     "start_time": "2021-10-18T11:27:14.879131",
     "status": "completed"
    },
    "tags": []
   },
   "outputs": [],
   "source": [
    "train_df = train_df.drop('Cabin', axis=1)"
   ]
  },
  {
   "cell_type": "code",
   "execution_count": 17,
   "id": "99b04ebd",
   "metadata": {
    "execution": {
     "iopub.execute_input": "2021-10-18T11:27:15.033260Z",
     "iopub.status.busy": "2021-10-18T11:27:15.032441Z",
     "iopub.status.idle": "2021-10-18T11:27:15.038921Z",
     "shell.execute_reply": "2021-10-18T11:27:15.039489Z",
     "shell.execute_reply.started": "2021-10-18T11:19:26.556947Z"
    },
    "papermill": {
     "duration": 0.057777,
     "end_time": "2021-10-18T11:27:15.039686",
     "exception": false,
     "start_time": "2021-10-18T11:27:14.981909",
     "status": "completed"
    },
    "tags": []
   },
   "outputs": [],
   "source": [
    "train_df = train_df.dropna()"
   ]
  },
  {
   "cell_type": "code",
   "execution_count": 18,
   "id": "137fe66e",
   "metadata": {
    "execution": {
     "iopub.execute_input": "2021-10-18T11:27:15.140626Z",
     "iopub.status.busy": "2021-10-18T11:27:15.139965Z",
     "iopub.status.idle": "2021-10-18T11:27:15.821424Z",
     "shell.execute_reply": "2021-10-18T11:27:15.820826Z",
     "shell.execute_reply.started": "2021-10-18T11:19:26.573500Z"
    },
    "papermill": {
     "duration": 0.732783,
     "end_time": "2021-10-18T11:27:15.821564",
     "exception": false,
     "start_time": "2021-10-18T11:27:15.088781",
     "status": "completed"
    },
    "tags": []
   },
   "outputs": [
    {
     "data": {
      "text/plain": [
       "<AxesSubplot:>"
      ]
     },
     "execution_count": 18,
     "metadata": {},
     "output_type": "execute_result"
    },
    {
     "data": {
      "image/png": "[encoded data removed]",
      "text/plain": [
       "<Figure size 864x432 with 2 Axes>"
      ]
     },
     "metadata": {},
     "output_type": "display_data"
    }
   ],
   "source": [
    "plt.figure(figsize=(12,6))\n",
    "sns.heatmap(train_df.isnull())"
   ]
  },
  {
   "cell_type": "markdown",
   "id": "8742d6f9",
   "metadata": {
    "papermill": {
     "duration": 0.04971,
     "end_time": "2021-10-18T11:27:15.920634",
     "exception": false,
     "start_time": "2021-10-18T11:27:15.870924",
     "status": "completed"
    },
    "tags": []
   },
   "source": [
    "**Dummies for the categorized feature**"
   ]
  },
  {
   "cell_type": "code",
   "execution_count": 19,
   "id": "525f9140",
   "metadata": {
    "execution": {
     "iopub.execute_input": "2021-10-18T11:27:16.026462Z",
     "iopub.status.busy": "2021-10-18T11:27:16.025753Z",
     "iopub.status.idle": "2021-10-18T11:27:16.031079Z",
     "shell.execute_reply": "2021-10-18T11:27:16.031628Z",
     "shell.execute_reply.started": "2021-10-18T11:19:53.640889Z"
    },
    "papermill": {
     "duration": 0.060887,
     "end_time": "2021-10-18T11:27:16.031810",
     "exception": false,
     "start_time": "2021-10-18T11:27:15.970923",
     "status": "completed"
    },
    "tags": []
   },
   "outputs": [
    {
     "data": {
      "text/plain": [
       "S    644\n",
       "C    168\n",
       "Q     77\n",
       "Name: Embarked, dtype: int64"
      ]
     },
     "execution_count": 19,
     "metadata": {},
     "output_type": "execute_result"
    }
   ],
   "source": [
    "train_df['Embarked'].value_counts()"
   ]
  },
  {
   "cell_type": "code",
   "execution_count": 20,
   "id": "bb98833c",
   "metadata": {
    "execution": {
     "iopub.execute_input": "2021-10-18T11:27:16.142646Z",
     "iopub.status.busy": "2021-10-18T11:27:16.135092Z",
     "iopub.status.idle": "2021-10-18T11:27:16.145445Z",
     "shell.execute_reply": "2021-10-18T11:27:16.146005Z",
     "shell.execute_reply.started": "2021-10-18T11:20:02.820922Z"
    },
    "papermill": {
     "duration": 0.065116,
     "end_time": "2021-10-18T11:27:16.146179",
     "exception": false,
     "start_time": "2021-10-18T11:27:16.081063",
     "status": "completed"
    },
    "tags": []
   },
   "outputs": [
    {
     "data": {
      "text/html": [
       "<div>\n",
       "<style scoped>\n",
       "    .dataframe tbody tr th:only-of-type {\n",
       "        vertical-align: middle;\n",
       "    }\n",
       "\n",
       "    .dataframe tbody tr th {\n",
       "        vertical-align: top;\n",
       "    }\n",
       "\n",
       "    .dataframe thead th {\n",
       "        text-align: right;\n",
       "    }\n",
       "</style>\n",
       "<table border=\"1\" class=\"dataframe\">\n",
       "  <thead>\n",
       "    <tr style=\"text-align: right;\">\n",
       "      <th></th>\n",
       "      <th>Q</th>\n",
       "      <th>S</th>\n",
       "    </tr>\n",
       "  </thead>\n",
       "  <tbody>\n",
       "    <tr>\n",
       "      <th>0</th>\n",
       "      <td>0</td>\n",
       "      <td>1</td>\n",
       "    </tr>\n",
       "    <tr>\n",
       "      <th>1</th>\n",
       "      <td>0</td>\n",
       "      <td>0</td>\n",
       "    </tr>\n",
       "    <tr>\n",
       "      <th>2</th>\n",
       "      <td>0</td>\n",
       "      <td>1</td>\n",
       "    </tr>\n",
       "    <tr>\n",
       "      <th>3</th>\n",
       "      <td>0</td>\n",
       "      <td>1</td>\n",
       "    </tr>\n",
       "    <tr>\n",
       "      <th>4</th>\n",
       "      <td>0</td>\n",
       "      <td>1</td>\n",
       "    </tr>\n",
       "    <tr>\n",
       "      <th>...</th>\n",
       "      <td>...</td>\n",
       "      <td>...</td>\n",
       "    </tr>\n",
       "    <tr>\n",
       "      <th>886</th>\n",
       "      <td>0</td>\n",
       "      <td>1</td>\n",
       "    </tr>\n",
       "    <tr>\n",
       "      <th>887</th>\n",
       "      <td>0</td>\n",
       "      <td>1</td>\n",
       "    </tr>\n",
       "    <tr>\n",
       "      <th>888</th>\n",
       "      <td>0</td>\n",
       "      <td>1</td>\n",
       "    </tr>\n",
       "    <tr>\n",
       "      <th>889</th>\n",
       "      <td>0</td>\n",
       "      <td>0</td>\n",
       "    </tr>\n",
       "    <tr>\n",
       "      <th>890</th>\n",
       "      <td>1</td>\n",
       "      <td>0</td>\n",
       "    </tr>\n",
       "  </tbody>\n",
       "</table>\n",
       "<p>889 rows × 2 columns</p>\n",
       "</div>"
      ],
      "text/plain": [
       "     Q  S\n",
       "0    0  1\n",
       "1    0  0\n",
       "2    0  1\n",
       "3    0  1\n",
       "4    0  1\n",
       "..  .. ..\n",
       "886  0  1\n",
       "887  0  1\n",
       "888  0  1\n",
       "889  0  0\n",
       "890  1  0\n",
       "\n",
       "[889 rows x 2 columns]"
      ]
     },
     "execution_count": 20,
     "metadata": {},
     "output_type": "execute_result"
    }
   ],
   "source": [
    "embarked_dummies = pd.get_dummies(train_df['Embarked'], drop_first=True)\n",
    "embarked_dummies"
   ]
  },
  {
   "cell_type": "code",
   "execution_count": 21,
   "id": "5b43bceb",
   "metadata": {
    "execution": {
     "iopub.execute_input": "2021-10-18T11:27:16.258675Z",
     "iopub.status.busy": "2021-10-18T11:27:16.249916Z",
     "iopub.status.idle": "2021-10-18T11:27:16.262271Z",
     "shell.execute_reply": "2021-10-18T11:27:16.262780Z",
     "shell.execute_reply.started": "2021-10-18T11:20:09.943452Z"
    },
    "papermill": {
     "duration": 0.066681,
     "end_time": "2021-10-18T11:27:16.262988",
     "exception": false,
     "start_time": "2021-10-18T11:27:16.196307",
     "status": "completed"
    },
    "tags": []
   },
   "outputs": [
    {
     "data": {
      "text/html": [
       "<div>\n",
       "<style scoped>\n",
       "    .dataframe tbody tr th:only-of-type {\n",
       "        vertical-align: middle;\n",
       "    }\n",
       "\n",
       "    .dataframe tbody tr th {\n",
       "        vertical-align: top;\n",
       "    }\n",
       "\n",
       "    .dataframe thead th {\n",
       "        text-align: right;\n",
       "    }\n",
       "</style>\n",
       "<table border=\"1\" class=\"dataframe\">\n",
       "  <thead>\n",
       "    <tr style=\"text-align: right;\">\n",
       "      <th></th>\n",
       "      <th>male</th>\n",
       "    </tr>\n",
       "  </thead>\n",
       "  <tbody>\n",
       "    <tr>\n",
       "      <th>0</th>\n",
       "      <td>1</td>\n",
       "    </tr>\n",
       "    <tr>\n",
       "      <th>1</th>\n",
       "      <td>0</td>\n",
       "    </tr>\n",
       "    <tr>\n",
       "      <th>2</th>\n",
       "      <td>0</td>\n",
       "    </tr>\n",
       "    <tr>\n",
       "      <th>3</th>\n",
       "      <td>0</td>\n",
       "    </tr>\n",
       "    <tr>\n",
       "      <th>4</th>\n",
       "      <td>1</td>\n",
       "    </tr>\n",
       "    <tr>\n",
       "      <th>...</th>\n",
       "      <td>...</td>\n",
       "    </tr>\n",
       "    <tr>\n",
       "      <th>886</th>\n",
       "      <td>1</td>\n",
       "    </tr>\n",
       "    <tr>\n",
       "      <th>887</th>\n",
       "      <td>0</td>\n",
       "    </tr>\n",
       "    <tr>\n",
       "      <th>888</th>\n",
       "      <td>0</td>\n",
       "    </tr>\n",
       "    <tr>\n",
       "      <th>889</th>\n",
       "      <td>1</td>\n",
       "    </tr>\n",
       "    <tr>\n",
       "      <th>890</th>\n",
       "      <td>1</td>\n",
       "    </tr>\n",
       "  </tbody>\n",
       "</table>\n",
       "<p>889 rows × 1 columns</p>\n",
       "</div>"
      ],
      "text/plain": [
       "     male\n",
       "0       1\n",
       "1       0\n",
       "2       0\n",
       "3       0\n",
       "4       1\n",
       "..    ...\n",
       "886     1\n",
       "887     0\n",
       "888     0\n",
       "889     1\n",
       "890     1\n",
       "\n",
       "[889 rows x 1 columns]"
      ]
     },
     "execution_count": 21,
     "metadata": {},
     "output_type": "execute_result"
    }
   ],
   "source": [
    "\n",
    "sex_dummies = pd.get_dummies(train_df['Sex'], drop_first=True)\n",
    "sex_dummies"
   ]
  },
  {
   "cell_type": "code",
   "execution_count": 22,
   "id": "0112be3a",
   "metadata": {
    "execution": {
     "iopub.execute_input": "2021-10-18T11:27:16.370631Z",
     "iopub.status.busy": "2021-10-18T11:27:16.369853Z",
     "iopub.status.idle": "2021-10-18T11:27:16.388335Z",
     "shell.execute_reply": "2021-10-18T11:27:16.388893Z",
     "shell.execute_reply.started": "2021-10-18T11:20:19.361108Z"
    },
    "papermill": {
     "duration": 0.074209,
     "end_time": "2021-10-18T11:27:16.389069",
     "exception": false,
     "start_time": "2021-10-18T11:27:16.314860",
     "status": "completed"
    },
    "tags": []
   },
   "outputs": [
    {
     "data": {
      "text/html": [
       "<div>\n",
       "<style scoped>\n",
       "    .dataframe tbody tr th:only-of-type {\n",
       "        vertical-align: middle;\n",
       "    }\n",
       "\n",
       "    .dataframe tbody tr th {\n",
       "        vertical-align: top;\n",
       "    }\n",
       "\n",
       "    .dataframe thead th {\n",
       "        text-align: right;\n",
       "    }\n",
       "</style>\n",
       "<table border=\"1\" class=\"dataframe\">\n",
       "  <thead>\n",
       "    <tr style=\"text-align: right;\">\n",
       "      <th></th>\n",
       "      <th>PassengerId</th>\n",
       "      <th>Survived</th>\n",
       "      <th>Pclass</th>\n",
       "      <th>Age</th>\n",
       "      <th>SibSp</th>\n",
       "      <th>Parch</th>\n",
       "      <th>Fare</th>\n",
       "      <th>Q</th>\n",
       "      <th>S</th>\n",
       "      <th>male</th>\n",
       "    </tr>\n",
       "  </thead>\n",
       "  <tbody>\n",
       "    <tr>\n",
       "      <th>0</th>\n",
       "      <td>1</td>\n",
       "      <td>0</td>\n",
       "      <td>3</td>\n",
       "      <td>22.0</td>\n",
       "      <td>1</td>\n",
       "      <td>0</td>\n",
       "      <td>7.2500</td>\n",
       "      <td>0</td>\n",
       "      <td>1</td>\n",
       "      <td>1</td>\n",
       "    </tr>\n",
       "    <tr>\n",
       "      <th>1</th>\n",
       "      <td>2</td>\n",
       "      <td>1</td>\n",
       "      <td>1</td>\n",
       "      <td>38.0</td>\n",
       "      <td>1</td>\n",
       "      <td>0</td>\n",
       "      <td>71.2833</td>\n",
       "      <td>0</td>\n",
       "      <td>0</td>\n",
       "      <td>0</td>\n",
       "    </tr>\n",
       "    <tr>\n",
       "      <th>2</th>\n",
       "      <td>3</td>\n",
       "      <td>1</td>\n",
       "      <td>3</td>\n",
       "      <td>26.0</td>\n",
       "      <td>0</td>\n",
       "      <td>0</td>\n",
       "      <td>7.9250</td>\n",
       "      <td>0</td>\n",
       "      <td>1</td>\n",
       "      <td>0</td>\n",
       "    </tr>\n",
       "    <tr>\n",
       "      <th>3</th>\n",
       "      <td>4</td>\n",
       "      <td>1</td>\n",
       "      <td>1</td>\n",
       "      <td>35.0</td>\n",
       "      <td>1</td>\n",
       "      <td>0</td>\n",
       "      <td>53.1000</td>\n",
       "      <td>0</td>\n",
       "      <td>1</td>\n",
       "      <td>0</td>\n",
       "    </tr>\n",
       "    <tr>\n",
       "      <th>4</th>\n",
       "      <td>5</td>\n",
       "      <td>0</td>\n",
       "      <td>3</td>\n",
       "      <td>35.0</td>\n",
       "      <td>0</td>\n",
       "      <td>0</td>\n",
       "      <td>8.0500</td>\n",
       "      <td>0</td>\n",
       "      <td>1</td>\n",
       "      <td>1</td>\n",
       "    </tr>\n",
       "    <tr>\n",
       "      <th>...</th>\n",
       "      <td>...</td>\n",
       "      <td>...</td>\n",
       "      <td>...</td>\n",
       "      <td>...</td>\n",
       "      <td>...</td>\n",
       "      <td>...</td>\n",
       "      <td>...</td>\n",
       "      <td>...</td>\n",
       "      <td>...</td>\n",
       "      <td>...</td>\n",
       "    </tr>\n",
       "    <tr>\n",
       "      <th>886</th>\n",
       "      <td>887</td>\n",
       "      <td>0</td>\n",
       "      <td>2</td>\n",
       "      <td>27.0</td>\n",
       "      <td>0</td>\n",
       "      <td>0</td>\n",
       "      <td>13.0000</td>\n",
       "      <td>0</td>\n",
       "      <td>1</td>\n",
       "      <td>1</td>\n",
       "    </tr>\n",
       "    <tr>\n",
       "      <th>887</th>\n",
       "      <td>888</td>\n",
       "      <td>1</td>\n",
       "      <td>1</td>\n",
       "      <td>19.0</td>\n",
       "      <td>0</td>\n",
       "      <td>0</td>\n",
       "      <td>30.0000</td>\n",
       "      <td>0</td>\n",
       "      <td>1</td>\n",
       "      <td>0</td>\n",
       "    </tr>\n",
       "    <tr>\n",
       "      <th>888</th>\n",
       "      <td>889</td>\n",
       "      <td>0</td>\n",
       "      <td>3</td>\n",
       "      <td>25.0</td>\n",
       "      <td>1</td>\n",
       "      <td>2</td>\n",
       "      <td>23.4500</td>\n",
       "      <td>0</td>\n",
       "      <td>1</td>\n",
       "      <td>0</td>\n",
       "    </tr>\n",
       "    <tr>\n",
       "      <th>889</th>\n",
       "      <td>890</td>\n",
       "      <td>1</td>\n",
       "      <td>1</td>\n",
       "      <td>26.0</td>\n",
       "      <td>0</td>\n",
       "      <td>0</td>\n",
       "      <td>30.0000</td>\n",
       "      <td>0</td>\n",
       "      <td>0</td>\n",
       "      <td>1</td>\n",
       "    </tr>\n",
       "    <tr>\n",
       "      <th>890</th>\n",
       "      <td>891</td>\n",
       "      <td>0</td>\n",
       "      <td>3</td>\n",
       "      <td>32.0</td>\n",
       "      <td>0</td>\n",
       "      <td>0</td>\n",
       "      <td>7.7500</td>\n",
       "      <td>1</td>\n",
       "      <td>0</td>\n",
       "      <td>1</td>\n",
       "    </tr>\n",
       "  </tbody>\n",
       "</table>\n",
       "<p>889 rows × 10 columns</p>\n",
       "</div>"
      ],
      "text/plain": [
       "     PassengerId  Survived  Pclass   Age  SibSp  Parch     Fare  Q  S  male\n",
       "0              1         0       3  22.0      1      0   7.2500  0  1     1\n",
       "1              2         1       1  38.0      1      0  71.2833  0  0     0\n",
       "2              3         1       3  26.0      0      0   7.9250  0  1     0\n",
       "3              4         1       1  35.0      1      0  53.1000  0  1     0\n",
       "4              5         0       3  35.0      0      0   8.0500  0  1     1\n",
       "..           ...       ...     ...   ...    ...    ...      ... .. ..   ...\n",
       "886          887         0       2  27.0      0      0  13.0000  0  1     1\n",
       "887          888         1       1  19.0      0      0  30.0000  0  1     0\n",
       "888          889         0       3  25.0      1      2  23.4500  0  1     0\n",
       "889          890         1       1  26.0      0      0  30.0000  0  0     1\n",
       "890          891         0       3  32.0      0      0   7.7500  1  0     1\n",
       "\n",
       "[889 rows x 10 columns]"
      ]
     },
     "execution_count": 22,
     "metadata": {},
     "output_type": "execute_result"
    }
   ],
   "source": [
    "train_df = pd.concat([train_df.drop(['Embarked','Sex','Name','Ticket'],axis=1),embarked_dummies, sex_dummies],axis=1)\n",
    "train_df"
   ]
  },
  {
   "cell_type": "markdown",
   "id": "b35c169d",
   "metadata": {
    "papermill": {
     "duration": 0.051103,
     "end_time": "2021-10-18T11:27:16.491254",
     "exception": false,
     "start_time": "2021-10-18T11:27:16.440151",
     "status": "completed"
    },
    "tags": []
   },
   "source": [
    "# **Data Testing**"
   ]
  },
  {
   "cell_type": "markdown",
   "id": "cca52906",
   "metadata": {
    "papermill": {
     "duration": 0.051685,
     "end_time": "2021-10-18T11:27:16.594390",
     "exception": false,
     "start_time": "2021-10-18T11:27:16.542705",
     "status": "completed"
    },
    "tags": []
   },
   "source": [
    "**1. Fill the missing values**"
   ]
  },
  {
   "cell_type": "code",
   "execution_count": 23,
   "id": "7f3e4366",
   "metadata": {
    "execution": {
     "iopub.execute_input": "2021-10-18T11:27:16.701105Z",
     "iopub.status.busy": "2021-10-18T11:27:16.700376Z",
     "iopub.status.idle": "2021-10-18T11:27:17.237607Z",
     "shell.execute_reply": "2021-10-18T11:27:17.238098Z",
     "shell.execute_reply.started": "2021-10-18T11:21:00.828271Z"
    },
    "papermill": {
     "duration": 0.592006,
     "end_time": "2021-10-18T11:27:17.238292",
     "exception": false,
     "start_time": "2021-10-18T11:27:16.646286",
     "status": "completed"
    },
    "tags": []
   },
   "outputs": [
    {
     "data": {
      "text/plain": [
       "<AxesSubplot:>"
      ]
     },
     "execution_count": 23,
     "metadata": {},
     "output_type": "execute_result"
    },
    {
     "data": {
      "image/png": "[encoded data removed]",
      "text/plain": [
       "<Figure size 864x432 with 2 Axes>"
      ]
     },
     "metadata": {},
     "output_type": "display_data"
    }
   ],
   "source": [
    "plt.figure(figsize=(12,6))\n",
    "sns.heatmap(test_df.isnull())"
   ]
  },
  {
   "cell_type": "code",
   "execution_count": 24,
   "id": "15b2bbd3",
   "metadata": {
    "execution": {
     "iopub.execute_input": "2021-10-18T11:27:17.346859Z",
     "iopub.status.busy": "2021-10-18T11:27:17.346210Z",
     "iopub.status.idle": "2021-10-18T11:27:17.360713Z",
     "shell.execute_reply": "2021-10-18T11:27:17.360052Z",
     "shell.execute_reply.started": "2021-10-18T11:21:16.627643Z"
    },
    "papermill": {
     "duration": 0.069443,
     "end_time": "2021-10-18T11:27:17.360863",
     "exception": false,
     "start_time": "2021-10-18T11:27:17.291420",
     "status": "completed"
    },
    "tags": []
   },
   "outputs": [],
   "source": [
    "test_df['Age'] = test_df[['Age','Pclass']].apply(fill_age, axis=1)"
   ]
  },
  {
   "cell_type": "code",
   "execution_count": 25,
   "id": "e42d5f66",
   "metadata": {
    "execution": {
     "iopub.execute_input": "2021-10-18T11:27:17.472382Z",
     "iopub.status.busy": "2021-10-18T11:27:17.469394Z",
     "iopub.status.idle": "2021-10-18T11:27:17.475521Z",
     "shell.execute_reply": "2021-10-18T11:27:17.474942Z",
     "shell.execute_reply.started": "2021-10-18T11:21:24.310076Z"
    },
    "papermill": {
     "duration": 0.061888,
     "end_time": "2021-10-18T11:27:17.475664",
     "exception": false,
     "start_time": "2021-10-18T11:27:17.413776",
     "status": "completed"
    },
    "tags": []
   },
   "outputs": [],
   "source": [
    "test_df = test_df.drop('Cabin', axis=1)"
   ]
  },
  {
   "cell_type": "code",
   "execution_count": 26,
   "id": "d9541c58",
   "metadata": {
    "execution": {
     "iopub.execute_input": "2021-10-18T11:27:17.591638Z",
     "iopub.status.busy": "2021-10-18T11:27:17.590545Z",
     "iopub.status.idle": "2021-10-18T11:27:17.592554Z",
     "shell.execute_reply": "2021-10-18T11:27:17.593115Z",
     "shell.execute_reply.started": "2021-10-18T11:21:31.060433Z"
    },
    "papermill": {
     "duration": 0.064067,
     "end_time": "2021-10-18T11:27:17.593299",
     "exception": false,
     "start_time": "2021-10-18T11:27:17.529232",
     "status": "completed"
    },
    "tags": []
   },
   "outputs": [],
   "source": [
    "test_df = test_df.fillna(test_df['Fare'].mean())"
   ]
  },
  {
   "cell_type": "code",
   "execution_count": 27,
   "id": "7911d8af",
   "metadata": {
    "execution": {
     "iopub.execute_input": "2021-10-18T11:27:17.704016Z",
     "iopub.status.busy": "2021-10-18T11:27:17.703017Z",
     "iopub.status.idle": "2021-10-18T11:27:18.276531Z",
     "shell.execute_reply": "2021-10-18T11:27:18.275739Z",
     "shell.execute_reply.started": "2021-10-18T11:21:38.567237Z"
    },
    "papermill": {
     "duration": 0.629327,
     "end_time": "2021-10-18T11:27:18.276823",
     "exception": false,
     "start_time": "2021-10-18T11:27:17.647496",
     "status": "completed"
    },
    "tags": []
   },
   "outputs": [
    {
     "data": {
      "text/plain": [
       "<AxesSubplot:>"
      ]
     },
     "execution_count": 27,
     "metadata": {},
     "output_type": "execute_result"
    },
    {
     "data": {
      "image/png": "[encoded data removed]",
      "text/plain": [
       "<Figure size 864x432 with 2 Axes>"
      ]
     },
     "metadata": {},
     "output_type": "display_data"
    }
   ],
   "source": [
    "plt.figure(figsize=(12,6))\n",
    "sns.heatmap(test_df.isnull())"
   ]
  },
  {
   "cell_type": "markdown",
   "id": "4df87f74",
   "metadata": {
    "papermill": {
     "duration": 0.054647,
     "end_time": "2021-10-18T11:27:18.386537",
     "exception": false,
     "start_time": "2021-10-18T11:27:18.331890",
     "status": "completed"
    },
    "tags": []
   },
   "source": [
    "**2. Dummies for categorized feature**"
   ]
  },
  {
   "cell_type": "code",
   "execution_count": 28,
   "id": "4ed24093",
   "metadata": {
    "execution": {
     "iopub.execute_input": "2021-10-18T11:27:18.502996Z",
     "iopub.status.busy": "2021-10-18T11:27:18.498731Z",
     "iopub.status.idle": "2021-10-18T11:27:18.507229Z",
     "shell.execute_reply": "2021-10-18T11:27:18.506580Z",
     "shell.execute_reply.started": "2021-10-18T11:22:10.900291Z"
    },
    "papermill": {
     "duration": 0.066519,
     "end_time": "2021-10-18T11:27:18.507382",
     "exception": false,
     "start_time": "2021-10-18T11:27:18.440863",
     "status": "completed"
    },
    "tags": []
   },
   "outputs": [
    {
     "data": {
      "text/plain": [
       "S    270\n",
       "C    102\n",
       "Q     46\n",
       "Name: Embarked, dtype: int64"
      ]
     },
     "execution_count": 28,
     "metadata": {},
     "output_type": "execute_result"
    }
   ],
   "source": [
    "test_df['Embarked'].value_counts()"
   ]
  },
  {
   "cell_type": "code",
   "execution_count": 29,
   "id": "03987147",
   "metadata": {
    "execution": {
     "iopub.execute_input": "2021-10-18T11:27:18.625792Z",
     "iopub.status.busy": "2021-10-18T11:27:18.624647Z",
     "iopub.status.idle": "2021-10-18T11:27:18.633323Z",
     "shell.execute_reply": "2021-10-18T11:27:18.632794Z",
     "shell.execute_reply.started": "2021-10-18T11:22:19.121432Z"
    },
    "papermill": {
     "duration": 0.070662,
     "end_time": "2021-10-18T11:27:18.633464",
     "exception": false,
     "start_time": "2021-10-18T11:27:18.562802",
     "status": "completed"
    },
    "tags": []
   },
   "outputs": [
    {
     "data": {
      "text/html": [
       "<div>\n",
       "<style scoped>\n",
       "    .dataframe tbody tr th:only-of-type {\n",
       "        vertical-align: middle;\n",
       "    }\n",
       "\n",
       "    .dataframe tbody tr th {\n",
       "        vertical-align: top;\n",
       "    }\n",
       "\n",
       "    .dataframe thead th {\n",
       "        text-align: right;\n",
       "    }\n",
       "</style>\n",
       "<table border=\"1\" class=\"dataframe\">\n",
       "  <thead>\n",
       "    <tr style=\"text-align: right;\">\n",
       "      <th></th>\n",
       "      <th>Q</th>\n",
       "      <th>S</th>\n",
       "    </tr>\n",
       "  </thead>\n",
       "  <tbody>\n",
       "    <tr>\n",
       "      <th>0</th>\n",
       "      <td>1</td>\n",
       "      <td>0</td>\n",
       "    </tr>\n",
       "    <tr>\n",
       "      <th>1</th>\n",
       "      <td>0</td>\n",
       "      <td>1</td>\n",
       "    </tr>\n",
       "    <tr>\n",
       "      <th>2</th>\n",
       "      <td>1</td>\n",
       "      <td>0</td>\n",
       "    </tr>\n",
       "    <tr>\n",
       "      <th>3</th>\n",
       "      <td>0</td>\n",
       "      <td>1</td>\n",
       "    </tr>\n",
       "    <tr>\n",
       "      <th>4</th>\n",
       "      <td>0</td>\n",
       "      <td>1</td>\n",
       "    </tr>\n",
       "    <tr>\n",
       "      <th>...</th>\n",
       "      <td>...</td>\n",
       "      <td>...</td>\n",
       "    </tr>\n",
       "    <tr>\n",
       "      <th>413</th>\n",
       "      <td>0</td>\n",
       "      <td>1</td>\n",
       "    </tr>\n",
       "    <tr>\n",
       "      <th>414</th>\n",
       "      <td>0</td>\n",
       "      <td>0</td>\n",
       "    </tr>\n",
       "    <tr>\n",
       "      <th>415</th>\n",
       "      <td>0</td>\n",
       "      <td>1</td>\n",
       "    </tr>\n",
       "    <tr>\n",
       "      <th>416</th>\n",
       "      <td>0</td>\n",
       "      <td>1</td>\n",
       "    </tr>\n",
       "    <tr>\n",
       "      <th>417</th>\n",
       "      <td>0</td>\n",
       "      <td>0</td>\n",
       "    </tr>\n",
       "  </tbody>\n",
       "</table>\n",
       "<p>418 rows × 2 columns</p>\n",
       "</div>"
      ],
      "text/plain": [
       "     Q  S\n",
       "0    1  0\n",
       "1    0  1\n",
       "2    1  0\n",
       "3    0  1\n",
       "4    0  1\n",
       "..  .. ..\n",
       "413  0  1\n",
       "414  0  0\n",
       "415  0  1\n",
       "416  0  1\n",
       "417  0  0\n",
       "\n",
       "[418 rows x 2 columns]"
      ]
     },
     "execution_count": 29,
     "metadata": {},
     "output_type": "execute_result"
    }
   ],
   "source": [
    "embarked_dummies_test = pd.get_dummies(test_df['Embarked'], drop_first=True)\n",
    "embarked_dummies_test"
   ]
  },
  {
   "cell_type": "code",
   "execution_count": 30,
   "id": "18073fed",
   "metadata": {
    "execution": {
     "iopub.execute_input": "2021-10-18T11:27:18.755895Z",
     "iopub.status.busy": "2021-10-18T11:27:18.755187Z",
     "iopub.status.idle": "2021-10-18T11:27:18.757845Z",
     "shell.execute_reply": "2021-10-18T11:27:18.758346Z",
     "shell.execute_reply.started": "2021-10-18T11:22:29.368893Z"
    },
    "papermill": {
     "duration": 0.069454,
     "end_time": "2021-10-18T11:27:18.758527",
     "exception": false,
     "start_time": "2021-10-18T11:27:18.689073",
     "status": "completed"
    },
    "tags": []
   },
   "outputs": [
    {
     "data": {
      "text/html": [
       "<div>\n",
       "<style scoped>\n",
       "    .dataframe tbody tr th:only-of-type {\n",
       "        vertical-align: middle;\n",
       "    }\n",
       "\n",
       "    .dataframe tbody tr th {\n",
       "        vertical-align: top;\n",
       "    }\n",
       "\n",
       "    .dataframe thead th {\n",
       "        text-align: right;\n",
       "    }\n",
       "</style>\n",
       "<table border=\"1\" class=\"dataframe\">\n",
       "  <thead>\n",
       "    <tr style=\"text-align: right;\">\n",
       "      <th></th>\n",
       "      <th>male</th>\n",
       "    </tr>\n",
       "  </thead>\n",
       "  <tbody>\n",
       "    <tr>\n",
       "      <th>0</th>\n",
       "      <td>1</td>\n",
       "    </tr>\n",
       "    <tr>\n",
       "      <th>1</th>\n",
       "      <td>0</td>\n",
       "    </tr>\n",
       "    <tr>\n",
       "      <th>2</th>\n",
       "      <td>1</td>\n",
       "    </tr>\n",
       "    <tr>\n",
       "      <th>3</th>\n",
       "      <td>1</td>\n",
       "    </tr>\n",
       "    <tr>\n",
       "      <th>4</th>\n",
       "      <td>0</td>\n",
       "    </tr>\n",
       "    <tr>\n",
       "      <th>...</th>\n",
       "      <td>...</td>\n",
       "    </tr>\n",
       "    <tr>\n",
       "      <th>413</th>\n",
       "      <td>1</td>\n",
       "    </tr>\n",
       "    <tr>\n",
       "      <th>414</th>\n",
       "      <td>0</td>\n",
       "    </tr>\n",
       "    <tr>\n",
       "      <th>415</th>\n",
       "      <td>1</td>\n",
       "    </tr>\n",
       "    <tr>\n",
       "      <th>416</th>\n",
       "      <td>1</td>\n",
       "    </tr>\n",
       "    <tr>\n",
       "      <th>417</th>\n",
       "      <td>1</td>\n",
       "    </tr>\n",
       "  </tbody>\n",
       "</table>\n",
       "<p>418 rows × 1 columns</p>\n",
       "</div>"
      ],
      "text/plain": [
       "     male\n",
       "0       1\n",
       "1       0\n",
       "2       1\n",
       "3       1\n",
       "4       0\n",
       "..    ...\n",
       "413     1\n",
       "414     0\n",
       "415     1\n",
       "416     1\n",
       "417     1\n",
       "\n",
       "[418 rows x 1 columns]"
      ]
     },
     "execution_count": 30,
     "metadata": {},
     "output_type": "execute_result"
    }
   ],
   "source": [
    "sex_dummies_test = pd.get_dummies(test_df['Sex'], drop_first=True)\n",
    "sex_dummies_test"
   ]
  },
  {
   "cell_type": "code",
   "execution_count": 31,
   "id": "6fb04af7",
   "metadata": {
    "execution": {
     "iopub.execute_input": "2021-10-18T11:27:18.877627Z",
     "iopub.status.busy": "2021-10-18T11:27:18.874764Z",
     "iopub.status.idle": "2021-10-18T11:27:18.895809Z",
     "shell.execute_reply": "2021-10-18T11:27:18.896350Z",
     "shell.execute_reply.started": "2021-10-18T11:22:42.320783Z"
    },
    "papermill": {
     "duration": 0.081775,
     "end_time": "2021-10-18T11:27:18.896555",
     "exception": false,
     "start_time": "2021-10-18T11:27:18.814780",
     "status": "completed"
    },
    "tags": []
   },
   "outputs": [
    {
     "data": {
      "text/html": [
       "<div>\n",
       "<style scoped>\n",
       "    .dataframe tbody tr th:only-of-type {\n",
       "        vertical-align: middle;\n",
       "    }\n",
       "\n",
       "    .dataframe tbody tr th {\n",
       "        vertical-align: top;\n",
       "    }\n",
       "\n",
       "    .dataframe thead th {\n",
       "        text-align: right;\n",
       "    }\n",
       "</style>\n",
       "<table border=\"1\" class=\"dataframe\">\n",
       "  <thead>\n",
       "    <tr style=\"text-align: right;\">\n",
       "      <th></th>\n",
       "      <th>PassengerId</th>\n",
       "      <th>Pclass</th>\n",
       "      <th>Age</th>\n",
       "      <th>SibSp</th>\n",
       "      <th>Parch</th>\n",
       "      <th>Fare</th>\n",
       "      <th>Q</th>\n",
       "      <th>S</th>\n",
       "      <th>male</th>\n",
       "    </tr>\n",
       "  </thead>\n",
       "  <tbody>\n",
       "    <tr>\n",
       "      <th>0</th>\n",
       "      <td>892</td>\n",
       "      <td>3</td>\n",
       "      <td>34.5</td>\n",
       "      <td>0</td>\n",
       "      <td>0</td>\n",
       "      <td>7.8292</td>\n",
       "      <td>1</td>\n",
       "      <td>0</td>\n",
       "      <td>1</td>\n",
       "    </tr>\n",
       "    <tr>\n",
       "      <th>1</th>\n",
       "      <td>893</td>\n",
       "      <td>3</td>\n",
       "      <td>47.0</td>\n",
       "      <td>1</td>\n",
       "      <td>0</td>\n",
       "      <td>7.0000</td>\n",
       "      <td>0</td>\n",
       "      <td>1</td>\n",
       "      <td>0</td>\n",
       "    </tr>\n",
       "    <tr>\n",
       "      <th>2</th>\n",
       "      <td>894</td>\n",
       "      <td>2</td>\n",
       "      <td>62.0</td>\n",
       "      <td>0</td>\n",
       "      <td>0</td>\n",
       "      <td>9.6875</td>\n",
       "      <td>1</td>\n",
       "      <td>0</td>\n",
       "      <td>1</td>\n",
       "    </tr>\n",
       "    <tr>\n",
       "      <th>3</th>\n",
       "      <td>895</td>\n",
       "      <td>3</td>\n",
       "      <td>27.0</td>\n",
       "      <td>0</td>\n",
       "      <td>0</td>\n",
       "      <td>8.6625</td>\n",
       "      <td>0</td>\n",
       "      <td>1</td>\n",
       "      <td>1</td>\n",
       "    </tr>\n",
       "    <tr>\n",
       "      <th>4</th>\n",
       "      <td>896</td>\n",
       "      <td>3</td>\n",
       "      <td>22.0</td>\n",
       "      <td>1</td>\n",
       "      <td>1</td>\n",
       "      <td>12.2875</td>\n",
       "      <td>0</td>\n",
       "      <td>1</td>\n",
       "      <td>0</td>\n",
       "    </tr>\n",
       "    <tr>\n",
       "      <th>...</th>\n",
       "      <td>...</td>\n",
       "      <td>...</td>\n",
       "      <td>...</td>\n",
       "      <td>...</td>\n",
       "      <td>...</td>\n",
       "      <td>...</td>\n",
       "      <td>...</td>\n",
       "      <td>...</td>\n",
       "      <td>...</td>\n",
       "    </tr>\n",
       "    <tr>\n",
       "      <th>413</th>\n",
       "      <td>1305</td>\n",
       "      <td>3</td>\n",
       "      <td>25.0</td>\n",
       "      <td>0</td>\n",
       "      <td>0</td>\n",
       "      <td>8.0500</td>\n",
       "      <td>0</td>\n",
       "      <td>1</td>\n",
       "      <td>1</td>\n",
       "    </tr>\n",
       "    <tr>\n",
       "      <th>414</th>\n",
       "      <td>1306</td>\n",
       "      <td>1</td>\n",
       "      <td>39.0</td>\n",
       "      <td>0</td>\n",
       "      <td>0</td>\n",
       "      <td>108.9000</td>\n",
       "      <td>0</td>\n",
       "      <td>0</td>\n",
       "      <td>0</td>\n",
       "    </tr>\n",
       "    <tr>\n",
       "      <th>415</th>\n",
       "      <td>1307</td>\n",
       "      <td>3</td>\n",
       "      <td>38.5</td>\n",
       "      <td>0</td>\n",
       "      <td>0</td>\n",
       "      <td>7.2500</td>\n",
       "      <td>0</td>\n",
       "      <td>1</td>\n",
       "      <td>1</td>\n",
       "    </tr>\n",
       "    <tr>\n",
       "      <th>416</th>\n",
       "      <td>1308</td>\n",
       "      <td>3</td>\n",
       "      <td>25.0</td>\n",
       "      <td>0</td>\n",
       "      <td>0</td>\n",
       "      <td>8.0500</td>\n",
       "      <td>0</td>\n",
       "      <td>1</td>\n",
       "      <td>1</td>\n",
       "    </tr>\n",
       "    <tr>\n",
       "      <th>417</th>\n",
       "      <td>1309</td>\n",
       "      <td>3</td>\n",
       "      <td>25.0</td>\n",
       "      <td>1</td>\n",
       "      <td>1</td>\n",
       "      <td>22.3583</td>\n",
       "      <td>0</td>\n",
       "      <td>0</td>\n",
       "      <td>1</td>\n",
       "    </tr>\n",
       "  </tbody>\n",
       "</table>\n",
       "<p>418 rows × 9 columns</p>\n",
       "</div>"
      ],
      "text/plain": [
       "     PassengerId  Pclass   Age  SibSp  Parch      Fare  Q  S  male\n",
       "0            892       3  34.5      0      0    7.8292  1  0     1\n",
       "1            893       3  47.0      1      0    7.0000  0  1     0\n",
       "2            894       2  62.0      0      0    9.6875  1  0     1\n",
       "3            895       3  27.0      0      0    8.6625  0  1     1\n",
       "4            896       3  22.0      1      1   12.2875  0  1     0\n",
       "..           ...     ...   ...    ...    ...       ... .. ..   ...\n",
       "413         1305       3  25.0      0      0    8.0500  0  1     1\n",
       "414         1306       1  39.0      0      0  108.9000  0  0     0\n",
       "415         1307       3  38.5      0      0    7.2500  0  1     1\n",
       "416         1308       3  25.0      0      0    8.0500  0  1     1\n",
       "417         1309       3  25.0      1      1   22.3583  0  0     1\n",
       "\n",
       "[418 rows x 9 columns]"
      ]
     },
     "execution_count": 31,
     "metadata": {},
     "output_type": "execute_result"
    }
   ],
   "source": [
    "test_df = pd.concat([test_df.drop(['Embarked','Sex','Name','Ticket'],axis=1),embarked_dummies_test, sex_dummies_test],axis=1)\n",
    "test_df"
   ]
  },
  {
   "cell_type": "markdown",
   "id": "da079c6c",
   "metadata": {
    "papermill": {
     "duration": 0.055586,
     "end_time": "2021-10-18T11:27:19.009506",
     "exception": false,
     "start_time": "2021-10-18T11:27:18.953920",
     "status": "completed"
    },
    "tags": []
   },
   "source": [
    "# **Modelling**"
   ]
  },
  {
   "cell_type": "code",
   "execution_count": 32,
   "id": "cc38edb7",
   "metadata": {
    "execution": {
     "iopub.execute_input": "2021-10-18T11:27:19.126624Z",
     "iopub.status.busy": "2021-10-18T11:27:19.125475Z",
     "iopub.status.idle": "2021-10-18T11:27:19.132693Z",
     "shell.execute_reply": "2021-10-18T11:27:19.133292Z",
     "shell.execute_reply.started": "2021-10-18T11:23:11.289266Z"
    },
    "papermill": {
     "duration": 0.067973,
     "end_time": "2021-10-18T11:27:19.133467",
     "exception": false,
     "start_time": "2021-10-18T11:27:19.065494",
     "status": "completed"
    },
    "tags": []
   },
   "outputs": [],
   "source": [
    "y = train_df['Survived']\n",
    "features = ['Pclass','Age','SibSp','Parch','Fare','Q','S','male']\n",
    "X = train_df[features]\n",
    "X_test = test_df[features]"
   ]
  },
  {
   "cell_type": "code",
   "execution_count": 33,
   "id": "648dbeb5",
   "metadata": {
    "execution": {
     "iopub.execute_input": "2021-10-18T11:27:19.250756Z",
     "iopub.status.busy": "2021-10-18T11:27:19.249595Z",
     "iopub.status.idle": "2021-10-18T11:27:19.504745Z",
     "shell.execute_reply": "2021-10-18T11:27:19.504022Z",
     "shell.execute_reply.started": "2021-10-18T11:24:20.587628Z"
    },
    "papermill": {
     "duration": 0.31508,
     "end_time": "2021-10-18T11:27:19.504920",
     "exception": false,
     "start_time": "2021-10-18T11:27:19.189840",
     "status": "completed"
    },
    "tags": []
   },
   "outputs": [],
   "source": [
    "from sklearn.svm import SVC"
   ]
  },
  {
   "cell_type": "code",
   "execution_count": 34,
   "id": "86c3e58b",
   "metadata": {
    "execution": {
     "iopub.execute_input": "2021-10-18T11:27:19.624608Z",
     "iopub.status.busy": "2021-10-18T11:27:19.623641Z",
     "iopub.status.idle": "2021-10-18T11:27:19.626331Z",
     "shell.execute_reply": "2021-10-18T11:27:19.625757Z",
     "shell.execute_reply.started": "2021-10-18T11:24:31.600315Z"
    },
    "papermill": {
     "duration": 0.064657,
     "end_time": "2021-10-18T11:27:19.626478",
     "exception": false,
     "start_time": "2021-10-18T11:27:19.561821",
     "status": "completed"
    },
    "tags": []
   },
   "outputs": [],
   "source": [
    "svc_model = SVC()"
   ]
  },
  {
   "cell_type": "code",
   "execution_count": 35,
   "id": "77aaa30b",
   "metadata": {
    "execution": {
     "iopub.execute_input": "2021-10-18T11:27:19.747694Z",
     "iopub.status.busy": "2021-10-18T11:27:19.746553Z",
     "iopub.status.idle": "2021-10-18T11:27:19.782604Z",
     "shell.execute_reply": "2021-10-18T11:27:19.783223Z",
     "shell.execute_reply.started": "2021-10-18T11:24:52.440970Z"
    },
    "papermill": {
     "duration": 0.099943,
     "end_time": "2021-10-18T11:27:19.783403",
     "exception": false,
     "start_time": "2021-10-18T11:27:19.683460",
     "status": "completed"
    },
    "tags": []
   },
   "outputs": [
    {
     "data": {
      "text/plain": [
       "SVC()"
      ]
     },
     "execution_count": 35,
     "metadata": {},
     "output_type": "execute_result"
    }
   ],
   "source": [
    "svc_model.fit(X, y)"
   ]
  },
  {
   "cell_type": "code",
   "execution_count": 36,
   "id": "80b5b015",
   "metadata": {
    "execution": {
     "iopub.execute_input": "2021-10-18T11:27:19.900160Z",
     "iopub.status.busy": "2021-10-18T11:27:19.899399Z",
     "iopub.status.idle": "2021-10-18T11:27:19.918051Z",
     "shell.execute_reply": "2021-10-18T11:27:19.918623Z",
     "shell.execute_reply.started": "2021-10-18T11:25:02.940476Z"
    },
    "papermill": {
     "duration": 0.07917,
     "end_time": "2021-10-18T11:27:19.918830",
     "exception": false,
     "start_time": "2021-10-18T11:27:19.839660",
     "status": "completed"
    },
    "tags": []
   },
   "outputs": [],
   "source": [
    "predictions = svc_model.predict(X_test)"
   ]
  },
  {
   "cell_type": "code",
   "execution_count": 37,
   "id": "571ae32d",
   "metadata": {
    "execution": {
     "iopub.execute_input": "2021-10-18T11:27:20.064083Z",
     "iopub.status.busy": "2021-10-18T11:27:20.063019Z",
     "iopub.status.idle": "2021-10-18T11:27:20.074314Z",
     "shell.execute_reply": "2021-10-18T11:27:20.073462Z",
     "shell.execute_reply.started": "2021-10-18T11:25:54.099781Z"
    },
    "papermill": {
     "duration": 0.081508,
     "end_time": "2021-10-18T11:27:20.074506",
     "exception": false,
     "start_time": "2021-10-18T11:27:19.992998",
     "status": "completed"
    },
    "tags": []
   },
   "outputs": [
    {
     "name": "stdout",
     "output_type": "stream",
     "text": [
      "Saved!\n"
     ]
    }
   ],
   "source": [
    "output = pd.DataFrame({'PassengerId': test_df.PassengerId, 'Survived': predictions})\n",
    "output.to_csv('submission.csv', index=False)\n",
    "print(\"Saved!\")"
   ]
  },
  {
   "cell_type": "code",
   "execution_count": 38,
   "id": "cf64d183",
   "metadata": {
    "execution": {
     "iopub.execute_input": "2021-10-18T11:27:20.196906Z",
     "iopub.status.busy": "2021-10-18T11:27:20.194985Z",
     "iopub.status.idle": "2021-10-18T11:27:20.202232Z",
     "shell.execute_reply": "2021-10-18T11:27:20.201558Z",
     "shell.execute_reply.started": "2021-10-18T11:26:03.329607Z"
    },
    "papermill": {
     "duration": 0.068523,
     "end_time": "2021-10-18T11:27:20.202386",
     "exception": false,
     "start_time": "2021-10-18T11:27:20.133863",
     "status": "completed"
    },
    "tags": []
   },
   "outputs": [],
   "source": [
    "output_df = pd.read_csv('./submission.csv')"
   ]
  },
  {
   "cell_type": "code",
   "execution_count": 39,
   "id": "5d9138f9",
   "metadata": {
    "execution": {
     "iopub.execute_input": "2021-10-18T11:27:20.321582Z",
     "iopub.status.busy": "2021-10-18T11:27:20.320554Z",
     "iopub.status.idle": "2021-10-18T11:27:20.331913Z",
     "shell.execute_reply": "2021-10-18T11:27:20.331379Z",
     "shell.execute_reply.started": "2021-10-18T11:26:18.648589Z"
    },
    "papermill": {
     "duration": 0.07194,
     "end_time": "2021-10-18T11:27:20.332060",
     "exception": false,
     "start_time": "2021-10-18T11:27:20.260120",
     "status": "completed"
    },
    "tags": []
   },
   "outputs": [
    {
     "data": {
      "text/html": [
       "<div>\n",
       "<style scoped>\n",
       "    .dataframe tbody tr th:only-of-type {\n",
       "        vertical-align: middle;\n",
       "    }\n",
       "\n",
       "    .dataframe tbody tr th {\n",
       "        vertical-align: top;\n",
       "    }\n",
       "\n",
       "    .dataframe thead th {\n",
       "        text-align: right;\n",
       "    }\n",
       "</style>\n",
       "<table border=\"1\" class=\"dataframe\">\n",
       "  <thead>\n",
       "    <tr style=\"text-align: right;\">\n",
       "      <th></th>\n",
       "      <th>PassengerId</th>\n",
       "      <th>Survived</th>\n",
       "    </tr>\n",
       "  </thead>\n",
       "  <tbody>\n",
       "    <tr>\n",
       "      <th>0</th>\n",
       "      <td>892</td>\n",
       "      <td>0</td>\n",
       "    </tr>\n",
       "    <tr>\n",
       "      <th>1</th>\n",
       "      <td>893</td>\n",
       "      <td>0</td>\n",
       "    </tr>\n",
       "    <tr>\n",
       "      <th>2</th>\n",
       "      <td>894</td>\n",
       "      <td>0</td>\n",
       "    </tr>\n",
       "    <tr>\n",
       "      <th>3</th>\n",
       "      <td>895</td>\n",
       "      <td>0</td>\n",
       "    </tr>\n",
       "    <tr>\n",
       "      <th>4</th>\n",
       "      <td>896</td>\n",
       "      <td>0</td>\n",
       "    </tr>\n",
       "    <tr>\n",
       "      <th>...</th>\n",
       "      <td>...</td>\n",
       "      <td>...</td>\n",
       "    </tr>\n",
       "    <tr>\n",
       "      <th>413</th>\n",
       "      <td>1305</td>\n",
       "      <td>0</td>\n",
       "    </tr>\n",
       "    <tr>\n",
       "      <th>414</th>\n",
       "      <td>1306</td>\n",
       "      <td>1</td>\n",
       "    </tr>\n",
       "    <tr>\n",
       "      <th>415</th>\n",
       "      <td>1307</td>\n",
       "      <td>0</td>\n",
       "    </tr>\n",
       "    <tr>\n",
       "      <th>416</th>\n",
       "      <td>1308</td>\n",
       "      <td>0</td>\n",
       "    </tr>\n",
       "    <tr>\n",
       "      <th>417</th>\n",
       "      <td>1309</td>\n",
       "      <td>0</td>\n",
       "    </tr>\n",
       "  </tbody>\n",
       "</table>\n",
       "<p>418 rows × 2 columns</p>\n",
       "</div>"
      ],
      "text/plain": [
       "     PassengerId  Survived\n",
       "0            892         0\n",
       "1            893         0\n",
       "2            894         0\n",
       "3            895         0\n",
       "4            896         0\n",
       "..           ...       ...\n",
       "413         1305         0\n",
       "414         1306         1\n",
       "415         1307         0\n",
       "416         1308         0\n",
       "417         1309         0\n",
       "\n",
       "[418 rows x 2 columns]"
      ]
     },
     "execution_count": 39,
     "metadata": {},
     "output_type": "execute_result"
    }
   ],
   "source": [
    "output_df"
   ]
  },
  {
   "cell_type": "code",
   "execution_count": null,
   "id": "35bec941",
   "metadata": {
    "papermill": {
     "duration": 0.057038,
     "end_time": "2021-10-18T11:27:20.446131",
     "exception": false,
     "start_time": "2021-10-18T11:27:20.389093",
     "status": "completed"
    },
    "tags": []
   },
   "outputs": [],
   "source": []
  }
 ],
 "metadata": {
  "kernelspec": {
   "display_name": "Python 3",
   "language": "python",
   "name": "python3"
  },
  "language_info": {
   "codemirror_mode": {
    "name": "ipython",
    "version": 3
   },
   "file_extension": ".py",
   "mimetype": "text/x-python",
   "name": "python",
   "nbconvert_exporter": "python",
   "pygments_lexer": "ipython3",
   "version": "3.7.10"
  },
  "papermill": {
   "default_parameters": {},
   "duration": 21.512107,
   "end_time": "2021-10-18T11:27:21.315832",
   "environment_variables": {},
   "exception": null,
   "input_path": "__notebook__.ipynb",
   "output_path": "__notebook__.ipynb",
   "parameters": {},
   "start_time": "2021-10-18T11:26:59.803725",
   "version": "2.3.3"
  }
 },
 "nbformat": 4,
 "nbformat_minor": 5
}
